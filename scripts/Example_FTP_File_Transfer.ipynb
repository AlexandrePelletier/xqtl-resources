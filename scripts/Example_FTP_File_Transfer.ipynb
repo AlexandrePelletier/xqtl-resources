{
 "cells": [
  {
   "cell_type": "markdown",
   "id": "normal-diagram",
   "metadata": {
    "kernel": "SoS",
    "tags": []
   },
   "source": [
    "# xQTL FTP File Transfer Protocol\n",
    "\n",
    "**Author: Travyse Edwards**\n",
    "\n",
    "## Overview\n",
    "This is the notebook that I used to upload the per chrom cis-eQTL summary statistics to the FTP server. It's worth noting that you only seem to have write priviledges in the folder alotted for your group (MSSM, CU, etc). I wasn't familiar with the directory structure on the FTP server, so I first used Python in my terminal with the `ftplib` library (which comes with Python). In that way, I could figure out the overall folder structure of the server. From what I found, we have the following:\n",
    "- /ftp_fgc_xqtl/\n",
    "    - projects/\n",
    "        - metabolomics/\n",
    "        - methylation/\n",
    "        - proteomics/\n",
    "        - rna-seq/\n",
    "            - BU/\n",
    "            - CU/\n",
    "            - MSSM/\n",
    "        - single-cell-rna-seq/\n",
    "        - splicing/\n",
    "    - publications/\n",
    "    - ref-data/\n",
    "\n",
    "It looks like we may only have the school specific folders in `rna-seq` for now. For those who want to explore, when you log onto the server using the first 3 commands (after the import line) below, you use `ftp.nlst()` to see a list of directories in your current directory, and `ftp.cwd('path')` to change your working directory to a given path/folder.  "
   ]
  },
  {
   "cell_type": "markdown",
   "id": "cooperative-launch",
   "metadata": {
    "kernel": "SoS"
   },
   "source": [
    "## Placing Data on Server"
   ]
  },
  {
   "cell_type": "markdown",
   "id": "portuguese-talent",
   "metadata": {
    "kernel": "SoS"
   },
   "source": [
    "* Please note that the remote filename used in ftp.storbinary() should be only filename itself not with a sub-directory like \"subdir/filename\". This will not create a corresponding new sub directory in the FTP server but returns error."
   ]
  },
  {
   "cell_type": "code",
   "execution_count": null,
   "id": "partial-investigator",
   "metadata": {
    "kernel": "Python3",
    "tags": []
   },
   "outputs": [],
   "source": [
    "from ftplib import FTP_TLS\n",
    "\n",
    "ftp = FTP_TLS('ftp.lisanwanglab.org')\n",
    "ftp.login(user='INSERT_USERNAME_HERE', passwd='INSERT_PASSWORD_HERE') # Replace with necessary details\n",
    "ftp.prot_p()\n",
    "ftp.cwd('/ftp_fgc_xqtl/projects/rna-seq/MSSM/STARNET/summary_statistics/')\n",
    "\n",
    "chroms = range(1,23)\n",
    "for chrom in chroms:\n",
    "    filename = f\"STARNET.chr{chrom}.cis_long_table.txt\" # What we will name the file on the server\n",
    "    localfilename = f\"/Users/edwart10/hpc/users/edwart10/load_projects/xQTL-STARNET-Analysis-05-24-2022/QTL-Association-Testing/cisQTL-Analysis-Workflows/TensorQTL-QTL-Association-Testing/output/data_integration/Known_Cov_Status_BiCV/MACROPHAGE.{chrom}/STARNET.mol_phe.resid.bed.processed_phenotype.per_chrom_STARNET.tpm.gct.BiCV.cov.{chrom}.norminal.cis_long_table.txt\"\n",
    "    ftp.storbinary(f\"STOR {filename}\", open(localfilename, 'rb'))"
   ]
  },
  {
   "cell_type": "markdown",
   "id": "functional-defense",
   "metadata": {
    "kernel": "Python3"
   },
   "source": [
    "## Pulling Data From Server\n",
    "\n",
    "Not tested yet, but this is the method that I've found to pull the data using this library."
   ]
  },
  {
   "cell_type": "code",
   "execution_count": null,
   "id": "stunning-chaos",
   "metadata": {
    "kernel": "Python3",
    "tags": []
   },
   "outputs": [],
   "source": [
    "from ftplib import FTP_TLS\n",
    "\n",
    "ftp = FTP_TLS('ftp.lisanwanglab.org')\n",
    "ftp.login(user='INSERT_USERNAME_HERE', passwd='INSERT_PASSWORD_HERE') # Replace with necessary details\n",
    "ftp.prot_p()\n",
    "ftp.cwd('/ftp_fgc_xqtl/projects/rna-seq/MSSM/STARNET/summary_statistics/')\n",
    "\n",
    "chroms = range(1,23)\n",
    "for chrom in chroms:\n",
    "    filename = f\"STARNET.chr{chrom}.cis_long_table.txt\" # Name of the file on the server\n",
    "    localfilename = f\"path/to/directory/STARNET.chr{chrom}.cis_long_table.txt\" # What we will name the file locally\n",
    "    localfile = open(localfilename, 'wb')\n",
    "    ftp.retrbinary(f\"RETR {filename}\", localfile.write, 1024)"
   ]
  }
 ],
 "metadata": {
  "kernelspec": {
   "display_name": "SoS",
   "language": "sos",
   "name": "sos"
  },
  "language_info": {
   "codemirror_mode": "sos",
   "file_extension": ".sos",
   "mimetype": "text/x-sos",
   "name": "sos",
   "nbconvert_exporter": "sos_notebook.converter.SoS_Exporter",
   "pygments_lexer": "sos"
  },
  "sos": {
   "kernels": [
    [
     "Python3",
     "python3",
     "Python3",
     "#FFD91A",
     {
      "name": "ipython",
      "version": 3
     }
    ],
    [
     "SoS",
     "sos",
     "",
     "",
     "sos"
    ]
   ],
   "version": "0.22.4"
  }
 },
 "nbformat": 4,
 "nbformat_minor": 5
}
