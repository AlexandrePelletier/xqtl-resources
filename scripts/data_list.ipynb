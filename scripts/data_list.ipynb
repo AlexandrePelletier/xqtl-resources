{
 "cells": [
  {
   "cell_type": "markdown",
   "id": "54c3512b-868a-4fc1-ba43-283287c285a1",
   "metadata": {
    "kernel": "SoS",
    "tags": []
   },
   "source": [
    "# folders for data list"
   ]
  },
  {
   "cell_type": "markdown",
   "id": "e91f995e-aa6f-4d0d-86c4-ef4caa558766",
   "metadata": {
    "kernel": "SoS"
   },
   "source": [
    "## Overview of the datasets"
   ]
  },
  {
   "cell_type": "markdown",
   "id": "f5e35a7c-ae68-429b-bc08-de4ce4c041c5",
   "metadata": {
    "kernel": "SoS"
   },
   "source": [
    "We have the cohorts and GWAS/QTL datasets:\n",
    "    \n",
    "- GWAS: Bellenguez, Jansen, Kunkle, Wightman\n",
    "- DIAN: mQTL\n",
    "- EFIGA: pQTL, metaQTL \n",
    "- Knight Brain: eQTL, metaQTL, mQTL, pQTL, sQTL\n",
    "- Knight CSF: metaQTL, pQTL\n",
    "- MEGENTA AA: eQTL\n",
    "- MEGENTA NHW: eQTL\n",
    "- MIGA: eQTL\n",
    "- MSBB: eQTL, mQTL, pQTL, sQTL\n",
    "- PART: mQTL\n",
    "- ROSMAP AC: eQTL, sQTL\n",
    "- ROSMAP DLPFC: eQTL, mQTL, pQTL, sQTL, haQTL\n",
    "- ROSMAP PCC: eQTL, sQTL\n",
    "- ROSMAP microglia: eQTL\n",
    "- ROSMAP monocyte: eQTL\n",
    "- ROSMAP snRNA: eQTL(De Jager, Kellis) # Kellis would have additional subtypes: Ast10, Mic12 and Mic13\n",
    "- STARNET: eQTL\n",
    "- WHICAP: metaQTL"
   ]
  },
  {
   "cell_type": "markdown",
   "id": "4abb2ddf-c0d6-4593-8860-feaffa46532b",
   "metadata": {
    "kernel": "SoS"
   },
   "source": [
    "To make folders as directions below:\n",
    "- cohort/genotype/original # for genotype data before QC\n",
    "- cohort/genotype/analysis_ready # for genotype data after QC\n",
    "- xQTL/cohort/condition/original # for phenotype before phenotype QC imputation, and the original covariates\n",
    "- xQTL/cohort/condition/analysis_ready # phenotype and covariate data input to fine-mapping and tensorQTL, with genotype and hidden covariates PCs"
   ]
  },
  {
   "cell_type": "markdown",
   "id": "91b30bb0-bb25-4339-9414-7243e5fdd26c",
   "metadata": {
    "jp-MarkdownHeadingCollapsed": true,
    "kernel": "SoS",
    "tags": []
   },
   "source": [
    "## The script to make folders"
   ]
  },
  {
   "cell_type": "code",
   "execution_count": null,
   "id": "48af2905-91b5-43e1-be42-cb6af2ed37e7",
   "metadata": {
    "kernel": "SoS"
   },
   "outputs": [],
   "source": [
    "#!/bin/bash\n",
    "\n",
    "# Specify your S3 bucket name\n",
    "bucket_name=\"statfungen\"\n",
    "base_folder=\"ftp_fgc_xqtl/\"\n",
    "\n",
    "# Define cohorts\n",
    "cohorts=(\"DIAN\" \"EFIGA\" \"Knight\" \"MEGENTA\" \"MIGA\" \"MSBB\" \"PART\" \"ROSMAP\" \"STARNET\" \"WHICAP\")\n",
    "\n",
    "# Define conditions for specific cohorts, if applicable\n",
    "declare -A cohort_conditions\n",
    "cohort_conditions=(\n",
    "    [\"MEGENTA\"]=\"AA NHW\"\n",
    "    [\"Knight\"]=\"Brain CSF\"\n",
    "    [\"ROSMAP\"]=\"DLPFC AC PCC microglia monocyte DLPFC_Mic DLPFC_Exc DLPFC_Inh DLPFC_OPC DLPFC_Oli DLPFC_Ast\"\n",
    ")\n",
    "\n",
    "# Define xQTL types for each combination of cohort and condition\n",
    "declare -A condition_xQTLs\n",
    "condition_xQTLs=(\n",
    "    [\"MEGENTA_AA\"]=\"eQTL sQTL\" \n",
    "    [\"MEGENTA_NHW\"]=\"eQTL sQTL\"\n",
    "    [\"Knight_Brain\"]=\"eQTL metaQTL mQTL pQTL sQTL\" \n",
    "    [\"Knight_CSF\"]=\"metaQTL pQTL\"\n",
    "    [\"ROSMAP_DLPFC\"]=\"eQTL mQTL pQTL sQTL haQTL\" \n",
    "    [\"ROSMAP_AC\"]=\"eQTL sQTL\" \n",
    "    [\"ROSMAP_PCC\"]=\"eQTL sQTL\" \n",
    "    [\"ROSMAP_microglia\"]=\"eQTL\" \n",
    "    [\"ROSMAP_monocyte\"]=\"eQTL\"\n",
    "    [\"ROSMAP_DLPFC_Mic\"]=\"eQTL\"\n",
    "    [\"ROSMAP_DLPFC_Exc\"]=\"eQTL\"\n",
    "    [\"ROSMAP_DLPFC_Inh\"]=\"eQTL\"\n",
    "    [\"ROSMAP_DLPFC_OPC\"]=\"eQTL\"\n",
    "    [\"ROSMAP_DLPFC_Oli\"]=\"eQTL\"\n",
    "    [\"ROSMAP_DLPFC_Ast\"]=\"eQTL\"    \n",
    "    [\"DIAN\"]=\"mQTL\"\n",
    "    [\"EFIGA\"]=\"pQTL metaQTL\"\n",
    "    [\"MIGA\"]=\"eQTL\" \n",
    "    [\"MSBB\"]=\"eQTL mQTL pQTL sQTL\"\n",
    "    [\"PART\"]=\"mQTL\"\n",
    "    [\"STARNET\"]=\"eQTL\"\n",
    "    [\"WHICAP\"]=\"metaQTL\"\n",
    ")\n",
    "\n",
    "# Function to create a folder in S3\n",
    "create_s3_folder() {\n",
    "    /mnt/vast/hpc/homes/rf2872/software/aws/dist/aws s3api put-object --bucket \"$bucket_name\" --key \"${base_folder}$1/\"\n",
    "\n",
    "}\n",
    "\n",
    "# Create directories\n",
    "for cohort in \"${cohorts[@]}\"; do\n",
    "    create_s3_folder \"$cohort/genotype/original\"\n",
    "    create_s3_folder \"$cohort/genotype/analysis_ready\"\n",
    "\n",
    "    # Check if there are specific conditions for this cohort\n",
    "    if [[ -n ${cohort_conditions[$cohort]} ]]; then\n",
    "        IFS=' ' read -ra conditions <<< \"${cohort_conditions[$cohort]}\"\n",
    "        for condition in \"${conditions[@]}\"; do\n",
    "            cohort_condition_key=\"${cohort}_${condition}\"\n",
    "            if [[ -n ${condition_xQTLs[$cohort_condition_key]} ]]; then\n",
    "                IFS=' ' read -ra xQTLs <<< \"${condition_xQTLs[$cohort_condition_key]}\"\n",
    "                for xQTL in \"${xQTLs[@]}\"; do\n",
    "                    create_s3_folder \"$xQTL/$cohort/$condition/original\"\n",
    "                    create_s3_folder \"$xQTL/$cohort/$condition/analysis_ready\"\n",
    "                done\n",
    "            fi\n",
    "        done\n",
    "    elif [[ -n ${condition_xQTLs[$cohort]} ]]; then\n",
    "        # For cohorts without specific conditions, use cohort directly\n",
    "        IFS=' ' read -ra xQTLs <<< \"${condition_xQTLs[$cohort]}\"\n",
    "        for xQTL in \"${xQTLs[@]}\"; do\n",
    "            create_s3_folder \"$xQTL/$cohort/original\"\n",
    "            create_s3_folder \"$xQTL/$cohort/analysis_ready\"\n",
    "        done\n",
    "    fi\n",
    "done\n"
   ]
  },
  {
   "cell_type": "markdown",
   "id": "dbc0c70c-96f3-4f70-8792-e3e88bf70c78",
   "metadata": {
    "kernel": "SoS",
    "tags": []
   },
   "source": [
    "## Analysis_ready on CU or FTP"
   ]
  },
  {
   "cell_type": "markdown",
   "id": "ddbbf8f2-f979-4b95-a28f-46e5f59327c0",
   "metadata": {
    "kernel": "SoS"
   },
   "source": [
    "**GWAS(hg38)**:\n",
    "\n",
    "- Bellenguez\n",
    "    - sumstats: `/mnt/vast/hpc/csg/data_public/GWAS_sumstats/GCST90027158_buildGRCh38.tsv.gz`\n",
    "    \n",
    "- Jansen\n",
    "    - sumstats: `/mnt/vast/hpc/csg/data_public/GWAS_sumstats/20230620_Jansen/AD_sumstats_Jansenetal_2019sept.bed.lifted.passed`\n",
    "    \n",
    "- Kunkle (2 stages)\n",
    "    - sumstats: `/mnt/vast/hpc/csg/data_public/GWAS_sumstats/20231011_Kunkle/*passed`  \n",
    "    \n",
    "- Wightman (4 subsets)\n",
    "    - sumstats: `/mnt/vast/hpc/csg/data_public/GWAS_sumstats/20230530_Wightman/*/*passed`\n"
   ]
  },
  {
   "cell_type": "markdown",
   "id": "bfd50676-12f0-4270-a0af-f7210568998c",
   "metadata": {
    "kernel": "SoS"
   },
   "source": [
    "**ROSMAP**:\n",
    "\n",
    "- Bulk_DLPFC\n",
    "    - eQTL:\n",
    "        - pheno:`/ftp_fgc_xqtl/projects/rna-seq/BU/ROSMAP_DLPFC/eQTL/phenotype_preprocessing`\n",
    "        - cov: `/mnt/vast/hpc/csg/ftp_lisanwanglab_sync/ftp_fgc_xqtl/projects/rna-seq/BU/ROSMAP_DLPFC/eQTL/covariate_file`\n",
    "    - sQTL: Frank (in progress)\n",
    "    - mQTL:  \n",
    "        - pheno: `/ftp_fgc_xqtl/projects/methylation/BU/preprocessed_data/ROSMAP`\n",
    "        - cov: `/ftp_fgc_xqtl/projects/methylation/BU/preprocessed_data/ROSMAP`\n",
    "    - haQTL: **TBD**\n",
    "        - orignal: `/mnt/mfs/ctcn/datasets/rosmap/h3k9ac/dlpfcTissue/batch1/values/counts/H3K9ac*`\n",
    "    - pQTL: \n",
    "        - pheno:`/mnt/vast/hpc/csg/zq2209/output6/pheno/flash`\n",
    "        - cov: `/mnt/vast/hpc/csg/zq2209/output6/cov/flash_new/test.resid.Marchenko_PC.gz`\n",
    "    \n",
    "- Bulk_PCC\n",
    "    - eQTL: \n",
    "        - pheno:`/ftp_fgc_xqtl/projects/rna-seq/BU/ROSMAP_PCC/eQTL/molecular_phenotype`\n",
    "        - cov: `/ftp_fgc_xqtl/projects/rna-seq/BU/ROSMAP_PCC/covariate_file`\n",
    "    - sQTL: Frank (in progress)\n",
    "    \n",
    "- Bulk_AC\n",
    "    - eQTL: \n",
    "        - pheno:`/ftp_fgc_xqtl/projects/rna-seq/BU/ROSMAP_AC/eQTL/molecular_phenotype`\n",
    "        - cov: `/ftp_fgc_xqtl/projects/rna-seq/BU/ROSMAP_AC/covariate_file`\n",
    "    - sQTL: Frank (in progress)\n",
    "    \n",
    "- PseudoBulk\n",
    "    - De Jager\n",
    "        - Ast eQTL: `/mnt/vast/hpc/csg/wanggroup/fungen-xqtl-analysis/analysis/Wang_Columbia/ROSMAP/pseudo_bulk_eqtl/Ast/output/data_preprocessing`\n",
    "        - Mic eQTL:`/mnt/vast/hpc/csg/wanggroup/fungen-xqtl-analysis/analysis/Wang_Columbia/ROSMAP/pseudo_bulk_eqtl/Mic/output/data_preprocessing`\n",
    "        - Exc eQTL:`/mnt/vast/hpc/csg/wanggroup/fungen-xqtl-analysis/analysis/Wang_Columbia/ROSMAP/pseudo_bulk_eqtl/Exc/output/data_preprocessing`\n",
    "        - Inh eQTL:`/mnt/vast/hpc/csg/wanggroup/fungen-xqtl-analysis/analysis/Wang_Columbia/ROSMAP/pseudo_bulk_eqtl/Inh/output/data_preprocessing`\n",
    "        - OPC eQTL:`/mnt/vast/hpc/csg/wanggroup/fungen-xqtl-analysis/analysis/Wang_Columbia/ROSMAP/pseudo_bulk_eqtl/OPC/output/data_preprocessing`\n",
    "        - Oli eQTL:`/mnt/vast/hpc/csg/wanggroup/fungen-xqtl-analysis/analysis/Wang_Columbia/ROSMAP/pseudo_bulk_eqtl/Oli/output/data_preprocessing`\n",
    "    - Kellis\n",
    "        - Ast eQTL:`/mnt/vast/hpc/csg/wanggroup/fungen-xqtl-analysis/analysis/Wang_Columbia/ROSMAP/pseudo_bulk_eqtl_kelli/Ast`\n",
    "        - Mic eQTL:`/mnt/vast/hpc/csg/wanggroup/fungen-xqtl-analysis/analysis/Wang_Columbia/ROSMAP/pseudo_bulk_eqtl_kelli/Mic`\n",
    "        - Exc eQTL:`/mnt/vast/hpc/csg/wanggroup/fungen-xqtl-analysis/analysis/Wang_Columbia/ROSMAP/pseudo_bulk_eqtl_kelli/Exc`\n",
    "        - Inh eQTL:`/mnt/vast/hpc/csg/wanggroup/fungen-xqtl-analysis/analysis/Wang_Columbia/ROSMAP/pseudo_bulk_eqtl_kelli/Inh`\n",
    "        - OPC eQTL:`/mnt/vast/hpc/csg/wanggroup/fungen-xqtl-analysis/analysis/Wang_Columbia/ROSMAP/pseudo_bulk_eqtl_kelli/OPC`\n",
    "        - Oli eQTL:`/mnt/vast/hpc/csg/wanggroup/fungen-xqtl-analysis/analysis/Wang_Columbia/ROSMAP/pseudo_bulk_eqtl_kelli/Oli`\n",
    "        - Cell subtype Ast10 eQTL:`/mnt/vast/hpc/csg/wanggroup/fungen-xqtl-analysis/analysis/Wang_Columbia/ROSMAP/pseudo_bulk_eqtl_kelli/Ast.10`\n",
    "        - Cell subtype Mic12 eQTL:`/mnt/vast/hpc/csg/wanggroup/fungen-xqtl-analysis/analysis/Wang_Columbia/ROSMAP/pseudo_bulk_eqtl_kelli/Mic.12`\n",
    "        - Cell subtype Mic13 eQTL:`/mnt/vast/hpc/csg/wanggroup/fungen-xqtl-analysis/analysis/Wang_Columbia/ROSMAP/pseudo_bulk_eqtl_kelli/Mic.13`\n",
    "- microglia \n",
    "    - eQTL: Travyse    \n",
    "    \n",
    "- monocyte \n",
    "    - eQTL: Travyse"
   ]
  },
  {
   "cell_type": "markdown",
   "id": "face8e20-568b-457f-bbc0-f5ee50ba45cd",
   "metadata": {
    "kernel": "SoS"
   },
   "source": [
    "**DIAN**:\n",
    "\n",
    "\n",
    "\n",
    "    - mQTL: **TBD**"
   ]
  },
  {
   "cell_type": "markdown",
   "id": "56020196-7a9b-4d70-b745-b44491ea5bd9",
   "metadata": {
    "kernel": "SoS"
   },
   "source": [
    "**EFIGA**:   \n",
    "\n",
    "\n",
    "\n",
    "\n",
    "    - pQTL: Zining (**TBD**)    \n",
    "    - metaQTL: Zining (**TBD**)    "
   ]
  },
  {
   "cell_type": "markdown",
   "id": "0a79fc20-95c9-49a1-8375-836d386aa250",
   "metadata": {
    "kernel": "SoS"
   },
   "source": [
    "**Knight**:\n",
    "- Brain:\n",
    "    - eQTL: \n",
    "      - pheno: `/ftp_fgc_xqtl/projects/knight/PHENOTYPE`\n",
    "      - cov: `/ftp_fgc_xqtl/projects/knight/COVARIATE`\n",
    "    - metaQTL: NAN\n",
    "    - mQTL: Alexandre \n",
    "    - pQTL:  \n",
    "        - pheno:`/mnt/vast/hpc/csg/zq2209/imputation/data/knight/flashier/`\n",
    "        - cov: `/mnt/vast/hpc/csg/zq2209/imputation/data/knight/flashier_cov/knight_flashier.WashU_cov.MAP_Brain-xQTL_Gwas_geno_0.1_maf_0.0005.pQTL.related.filtered.extracted.pca.projected.Marchenko_PC.gz`\n",
    "    - sQTL: **TBD**\n",
    "    \n",
    "- CSF:\n",
    "    - metaQTL: NAN\n",
    "    - pQTL: Zining"
   ]
  },
  {
   "cell_type": "markdown",
   "id": "24cd3854-0983-4d75-9326-e016811b2cc4",
   "metadata": {
    "kernel": "SoS"
   },
   "source": [
    "**MSBB**:   \n",
    "\n",
    "- MSBB\n",
    "    - eQTL:  \n",
    "        - pheno: Minghui\n",
    "        - cov: `/ftp_fgc_xqtl/projects/rna-seq/MSBB/eQTLs/cis_association/covariate`   \n",
    "    - mQTL:  \n",
    "        - pheno: `/ftp_fgc_xqtl/projects/methylation/BU/preprocessed_data/MSBB`\n",
    "        - cov: `/ftp_fgc_xqtl/projects/methylation/BU/preprocessed_data/MSBB`   \n",
    "    - pQTL: Minghui    \n",
    "    - sQTL:     \n",
    "        - leafcutter: \n",
    "            - pheno:`/ftp_fgc_xqtl/projects/rna-seq/MSBB/leaf_cutter`   \n",
    "            - cov: Minghui\n",
    "        - psichomics: Minghui    \n",
    "             - pheno: Minghui\n",
    "             - cov: Minghui"
   ]
  },
  {
   "cell_type": "markdown",
   "id": "6f8ae570-b3ca-402f-939b-ba82de4f9603",
   "metadata": {
    "kernel": "SoS"
   },
   "source": [
    "**PART**:   \n",
    "\n",
    "\n",
    "\n",
    "\n",
    "    - sQTL: Alexandre"
   ]
  },
  {
   "cell_type": "markdown",
   "id": "df0b551f-46f8-435b-86c5-434c9fb9cdc6",
   "metadata": {
    "kernel": "SoS"
   },
   "source": [
    "**STARNET**:   \n",
    "\n",
    "\n",
    "\n",
    "\n",
    "    - eQTL: Travyse"
   ]
  },
  {
   "cell_type": "markdown",
   "id": "63ed73fa-fbfe-4cc6-928a-ca45820e305b",
   "metadata": {
    "kernel": "SoS"
   },
   "source": [
    "**WHICAP**:    \n",
    "\n",
    "\n",
    "\n",
    "\n",
    "    - metaQTL: Zining (**TBD**)"
   ]
  },
  {
   "cell_type": "markdown",
   "id": "e544b13c-c42d-424a-9f70-ec87379f01af",
   "metadata": {
    "kernel": "SoS"
   },
   "source": [
    "### association results only"
   ]
  },
  {
   "cell_type": "markdown",
   "id": "eca125ff-f21b-4028-b94e-ba10c6b441dc",
   "metadata": {
    "kernel": "SoS"
   },
   "source": [
    "**MEGENTA**:\n",
    "\n",
    "\n",
    "FIXME:\n",
    "Makaela Mews:\n",
    "```Individual-level data needs to be shared by our Miami Collaborators or there needs to be a data use agreement. I'll contact my PI now and see if he was able to reach out to Gao.```\n",
    "- AA:\n",
    "\n",
    "    - eQTL: `/ftp_fgc_xqtl/projects/rna-seq/MAGENTA/summary_statistics`\n",
    "    - sQTL: Makaela Mews (in process, would follow up in 5th week 2024)\n",
    "- NHW: \n",
    "    - eQTL: `/ftp_fgc_xqtl/projects/rna-seq/MAGENTA/summary_statistics`\n",
    "    - sQTL: Makaela Mews (in process, would follow up in 5th week 2024)\n",
    "    "
   ]
  },
  {
   "cell_type": "markdown",
   "id": "7d8bc0d3-10b3-40aa-b436-db547fd2e8dc",
   "metadata": {
    "kernel": "SoS"
   },
   "source": [
    "**MIGA**:\n",
    "\n",
    "\n",
    "Have asked Travyse to upload the pheno and cov data\n",
    "- MIGA\n",
    "    - eQTL: `/ftp_fgc_xqtl/projects/rna-seq/MSSM/MiGA/TensorQTL_Summary_Statistics/10-02-2022`"
   ]
  },
  {
   "cell_type": "markdown",
   "id": "9f012084-8bfa-48fa-91ed-85bef2685690",
   "metadata": {
    "kernel": "SoS"
   },
   "source": [
    "## Analysis_ready on cloud:"
   ]
  },
  {
   "cell_type": "markdown",
   "id": "8e2063c2-5b42-4a8f-9e02-58bc5dcae770",
   "metadata": {
    "kernel": "SoS"
   },
   "source": [
    "**GWAS(hg38)**:\n",
    "\n",
    "- Bellenguez\n",
    "    - sumstats: `s3://statfungen/GWAS/Bellenguez/sumstats/`\n",
    "    \n",
    "- Jansen\n",
    "    - sumstats: `s3://statfungen/GWAS/Jansen/sumstats/`\n",
    "    \n",
    "- Kunkle (2 stages)\n",
    "    - sumstats: `s3://statfungen/GWAS/Kunkle/sumstats/`  \n",
    "    \n",
    "- Wightman (4 subsets)\n",
    "    - sumstats: `s3://statfungen/GWAS/Wightman/sumstats/`\n"
   ]
  },
  {
   "cell_type": "markdown",
   "id": "b5d7cbf4-1e3e-42bf-9837-1964198b7c0d",
   "metadata": {
    "kernel": "SoS"
   },
   "source": [
    "**ROSMAP**:\n",
    "\n",
    "- Bulk_DLPFC\n",
    "    - eQTL:\n",
    "        - pheno:`s3://statfungen/ftp_fgc_xqtl/eQTL/ROSMAP/DLPFC/analysis_ready/phenotype_preprocessing/`\n",
    "        - cov: `s3://statfungen/ftp_fgc_xqtl/eQTL/ROSMAP/DLPFC/analysis_ready/covariate_preprocessing/`\n",
    "    - sQTL: Frank (in progress)\n",
    "    - mQTL:  \n",
    "        - pheno: `s3://statfungen/ftp_fgc_xqtl/mQTL/ROSMAP/DLPFC/analysis_ready/phenotype_preprocessing/`\n",
    "        - cov: `s3://statfungen/ftp_fgc_xqtl/mQTL/ROSMAP/DLPFC/analysis_ready/covariate_preprocessing/`\n",
    "    - haQTL: **TBD**\n",
    "        - orignal: `s3://statfungen/ftp_fgc_xqtl/haQTL/ROSMAP/DLPFC/original/`\n",
    "    - pQTL: \n",
    "        - pheno:`s3://statfungen/ftp_fgc_xqtl/pQTL/ROSMAP/DLPFC/analysis_ready/phenotype_preprocessing/`\n",
    "        - cov: `s3://statfungen/ftp_fgc_xqtl/pQTL/ROSMAP/DLPFC/analysis_ready/covariate_preprocessing/`\n",
    "    \n",
    "- Bulk_PCC\n",
    "    - eQTL: \n",
    "        - pheno:`s3://statfungen/ftp_fgc_xqtl/eQTL/ROSMAP/PCC/analysis_ready/phenotype_preprocessing/`\n",
    "        - cov: `s3://statfungen/ftp_fgc_xqtl/eQTL/ROSMAP/PCC/analysis_ready/covariate_preprocessing/`\n",
    "    - sQTL: Frank (in progress)\n",
    "    \n",
    "- Bulk_AC\n",
    "    - eQTL: \n",
    "        - pheno:`s3://statfungen/ftp_fgc_xqtl/eQTL/ROSMAP/AC/analysis_ready/phenotype_preprocessing/`\n",
    "        - cov: `s3://statfungen/ftp_fgc_xqtl/eQTL/ROSMAP/AC/analysis_ready/covariate_preprocessing/`\n",
    "    - sQTL: Frank (in progress)\n",
    "    \n",
    "- PseudoBulk\n",
    "    - De Jager\n",
    "        - Ast eQTL:`s3://statfungen/ftp_fgc_xqtl/eQTL/ROSMAP/DLPFC_Ast/analysis_ready/`\n",
    "        - Mic eQTL:`s3://statfungen/ftp_fgc_xqtl/eQTL/ROSMAP/DLPFC_Mic/analysis_ready/`\n",
    "        - Exc eQTL:`s3://statfungen/ftp_fgc_xqtl/eQTL/ROSMAP/DLPFC_Exc/analysis_ready/`\n",
    "        - Inh eQTL:`s3://statfungen/ftp_fgc_xqtl/eQTL/ROSMAP/DLPFC_Inh/analysis_ready/`\n",
    "        - OPC eQTL:`s3://statfungen/ftp_fgc_xqtl/eQTL/ROSMAP/DLPFC_OPC/analysis_ready/`\n",
    "        - Oli eQTL:`s3://statfungen/ftp_fgc_xqtl/eQTL/ROSMAP/DLPFC_Oli/analysis_ready/`\n",
    "    - Kellis\n",
    "        - Ast eQTL:`s3://statfungen/ftp_fgc_xqtl/eQTL/ROSMAP/Ast_Kelli/analysis_ready/`\n",
    "        - Mic eQTL:`s3://statfungen/ftp_fgc_xqtl/eQTL/ROSMAP/Mic_Kelli/analysis_ready/`\n",
    "        - Exc eQTL:`s3://statfungen/ftp_fgc_xqtl/eQTL/ROSMAP/Exc_Kelli/analysis_ready/`\n",
    "        - Inh eQTL:`s3://statfungen/ftp_fgc_xqtl/eQTL/ROSMAP/Inh_Kelli/analysis_ready/`\n",
    "        - OPC eQTL:`s3://statfungen/ftp_fgc_xqtl/eQTL/ROSMAP/OPC_Kelli/analysis_ready/`\n",
    "        - Oli eQTL:`s3://statfungen/ftp_fgc_xqtl/eQTL/ROSMAP/Oli_Kelli/analysis_ready/`\n",
    "        - Cell subtype Ast10 eQTL:`s3://statfungen/ftp_fgc_xqtl/eQTL/ROSMAP/Ast_10_Kelli/analysis_ready/`\n",
    "        - Cell subtype Mic12 eQTL:`s3://statfungen/ftp_fgc_xqtl/eQTL/ROSMAP/Mic_12_Kelli/analysis_ready/`\n",
    "        - Cell subtype Mic13 eQTL:`s3://statfungen/ftp_fgc_xqtl/eQTL/ROSMAP/Mic_13_Kelli/analysis_ready/`\n",
    "- microglia \n",
    "    - eQTL: Travyse    \n",
    "    \n",
    "- monocyte \n",
    "    - eQTL: Travyse"
   ]
  },
  {
   "cell_type": "markdown",
   "id": "8d4995d5-8eb6-41e6-92b8-9467ff0274cf",
   "metadata": {
    "kernel": "SoS"
   },
   "source": [
    "**DIAN**:\n",
    "\n",
    "\n",
    "\n",
    "    - mQTL: TBD"
   ]
  },
  {
   "cell_type": "markdown",
   "id": "15118e5e-9e88-409d-affc-82be452b044b",
   "metadata": {
    "kernel": "SoS"
   },
   "source": [
    "**EFIGA**:   \n",
    "\n",
    "\n",
    "\n",
    "\n",
    "    - pQTL: Zining (TBD)    \n",
    "    - metaQTL: Zining (TBD)    "
   ]
  },
  {
   "cell_type": "markdown",
   "id": "ace24c5e-1665-4503-8e08-4e2a2b4d65d9",
   "metadata": {
    "kernel": "SoS"
   },
   "source": [
    "**Knight**:\n",
    "- Brain:\n",
    "    - eQTL: \n",
    "      - pheno: `s3://statfungen/ftp_fgc_xqtl/eQTL/Knight/Brain/analysis_ready/phenotype_preprocessing/`\n",
    "      - cov: `s3://statfungen/ftp_fgc_xqtl/eQTL/Knight/Brain/analysis_ready/covariate_preprocessing/`\n",
    "    - metaQTL: **TBD**\n",
    "    - mQTL: Alexandre (TBD)\n",
    "    - pQTL:  \n",
    "        - pheno:`s3://statfungen/ftp_fgc_xqtl/pQTL/Knight/Brain/analysis_ready/phenotype_preprocessing/`\n",
    "        - cov: `s3://statfungen/ftp_fgc_xqtl/pQTL/Knight/Brain/analysis_ready/covariate_preprocessing/`\n",
    "    - sQTL: **TBD**\n",
    "    \n",
    "- CSF:\n",
    "    - metaQTL: **TBD**\n",
    "    - pQTL: Zining (TBD)"
   ]
  },
  {
   "cell_type": "markdown",
   "id": "35ff9952-7b72-4e62-911a-e602cfe856f5",
   "metadata": {
    "kernel": "SoS"
   },
   "source": [
    "**MSBB**:   \n",
    "\n",
    "- MSBB\n",
    "    - eQTL:  \n",
    "        - pheno: Minghui\n",
    "        - cov: Minghui \n",
    "    - mQTL:  \n",
    "        - pheno: `s3://statfungen/ftp_fgc_xqtl/mQTL/MSBB/analysis_ready/phenotype_preprocessing/`\n",
    "        - cov: `s3://statfungen/ftp_fgc_xqtl/mQTL/MSBB/analysis_ready/covariate_preprocessing/`   \n",
    "    - pQTL: Minghui    \n",
    "    - sQTL:     \n",
    "        - leafcutter: \n",
    "            - pheno: Minghui\n",
    "            - cov: Minghui\n",
    "        - psichomics: Minghui    \n",
    "             - pheno: Minghui\n",
    "             - cov: Minghui"
   ]
  },
  {
   "cell_type": "markdown",
   "id": "3cff722b-90fb-4190-a9d8-252c6e0f4707",
   "metadata": {
    "kernel": "SoS"
   },
   "source": [
    "**PART**:   \n",
    "\n",
    "\n",
    "\n",
    "\n",
    "    - mQTL: Alexandre"
   ]
  },
  {
   "cell_type": "markdown",
   "id": "90f24e5a-4b73-4294-8a62-226f08c8117a",
   "metadata": {
    "kernel": "SoS"
   },
   "source": [
    "**STARNET**:   \n",
    "\n",
    "\n",
    "\n",
    "\n",
    "    - eQTL: Travyse"
   ]
  },
  {
   "cell_type": "markdown",
   "id": "3b798976-4d36-408e-b738-b0cac45667cb",
   "metadata": {
    "kernel": "SoS"
   },
   "source": [
    "**WHICAP**:    \n",
    "\n",
    "\n",
    "\n",
    "\n",
    "    - metaQTL: Zining (TBD)"
   ]
  },
  {
   "cell_type": "markdown",
   "id": "b603ce01-f858-4b8a-8188-a6e3fa6f25a1",
   "metadata": {
    "kernel": "SoS"
   },
   "source": [
    "### association results only"
   ]
  },
  {
   "cell_type": "markdown",
   "id": "39363058-c881-410d-a549-5471d421140f",
   "metadata": {
    "kernel": "SoS"
   },
   "source": [
    "**MEGENTA**:\n",
    "\n",
    "\n",
    "Makaela Mews:\n",
    "- AA:\n",
    "\n",
    "    - eQTL: `/ftp_fgc_xqtl/projects/rna-seq/MAGENTA/summary_statistics`\n",
    "    - sQTL: Makaela Mews (in process, would follow up in 5th week 2024)\n",
    "- NHW: \n",
    "    - eQTL: `/ftp_fgc_xqtl/projects/rna-seq/MAGENTA/summary_statistics`\n",
    "    - sQTL: Makaela Mews (in process, would follow up in 5th week 2024)\n",
    "    "
   ]
  },
  {
   "cell_type": "markdown",
   "id": "7ffc8d3f-90b7-4b51-98c1-101d743aacb4",
   "metadata": {
    "kernel": "SoS"
   },
   "source": [
    "**MIGA**:\n",
    "\n",
    "\n",
    "Travyse:\n",
    "- MIGA\n",
    "    - eQTL: `/ftp_fgc_xqtl/projects/rna-seq/MSSM/MiGA/TensorQTL_Summary_Statistics/10-02-2022`"
   ]
  }
 ],
 "metadata": {
  "kernelspec": {
   "display_name": "SoS",
   "language": "sos",
   "name": "sos"
  },
  "language_info": {
   "codemirror_mode": "sos",
   "file_extension": ".sos",
   "mimetype": "text/x-sos",
   "name": "sos",
   "nbconvert_exporter": "sos_notebook.converter.SoS_Exporter",
   "pygments_lexer": "sos"
  },
  "sos": {
   "kernels": [
    [
     "SoS",
     "sos",
     "",
     ""
    ]
   ],
   "version": "0.24.0"
  }
 },
 "nbformat": 4,
 "nbformat_minor": 5
}
