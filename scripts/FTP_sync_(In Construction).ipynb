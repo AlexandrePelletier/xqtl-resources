{
 "cells": [
  {
   "cell_type": "markdown",
   "metadata": {
    "kernel": "SoS"
   },
   "source": [
    "# FTP SERVER SYNC (In Construction)"
   ]
  },
  {
   "cell_type": "markdown",
   "metadata": {
    "kernel": "SoS"
   },
   "source": [
    "**Author: Xuanhe Chen**"
   ]
  },
  {
   "cell_type": "markdown",
   "metadata": {
    "kernel": "SoS"
   },
   "source": [
    "This notebook contains a FTP server synchronization script including recursively downloading and uploading every updated files bwtween a local cluster and the FTP server. The reason of writting this script is because CU cluster firewall doesn't allow connection through http proxy so it's hard to do real-time data transmission and we need some indirect methods to achieve synchronization, such as manually repeating the upload and download daily.\n",
    "\n",
    "Codes below are finished recursively downloading and uploading functions (the overall synchronization is still in desgin), people can refer to these functions to upload/download all data in a folder"
   ]
  },
  {
   "cell_type": "markdown",
   "metadata": {
    "kernel": "SoS"
   },
   "source": [
    "### Download\n",
    "The code below will create all parent folders (if it doesn't exist) from the root of the remote dir you choose and download all files under the remote dir under the local dir you choose. And you can choose to overwrite everything or just download files not in the local."
   ]
  },
  {
   "cell_type": "code",
   "execution_count": 2,
   "metadata": {
    "kernel": "SoS"
   },
   "outputs": [],
   "source": [
    "# Code modified from : https://gist.github.com/Jwely/ad8eb800bacef9e34dd775f9b3aad987\n",
    "\n",
    "import ftplib\n",
    "import os\n",
    "import re\n",
    "from ftplib import FTP_TLS\n",
    "\n",
    "def _is_ftp_dir(ftp_handle, name, guess_by_extension=True):\n",
    "    \"\"\" simply determines if an item listed on the ftp server is a valid directory or not \"\"\"\n",
    "\n",
    "    # guess if the name is a file by checking if it contains '.' in it\n",
    "    if guess_by_extension is True:\n",
    "        if '.' in name:\n",
    "                return False\n",
    "\n",
    "    original_cwd = ftp_handle.pwd()  # remember the current working directory\n",
    "    try:\n",
    "        ftp_handle.cwd(name)  # try to set directory to new name\n",
    "        ftp_handle.cwd(original_cwd)  # set it back to what it was\n",
    "        return True\n",
    "\n",
    "    except ftplib.error_perm as e:\n",
    "        print(e)\n",
    "        return False\n",
    "\n",
    "    except Exception as e:\n",
    "        print(e)\n",
    "        return False\n",
    "    \n",
    "def _make_parent_dir(fpath, local_dir):\n",
    "    \"\"\" ensures the parent directory of a filepath exists \"\"\"\n",
    "    dirname = os.path.dirname(fpath)\n",
    "    while not os.path.exists(local_dir + dirname):\n",
    "        try:\n",
    "            os.makedirs(local_dir + dirname)\n",
    "            print(\"created {0}\".format(dirname))\n",
    "        except OSError as e:\n",
    "            print(e)\n",
    "            _make_parent_dir(dirname, local_dir)\n",
    "\n",
    "def _download_ftp_file(ftp_handle, file_name, local_dir, overwrite):\n",
    "    dest = ftp.pwd() + \"/\"\n",
    "    localfilename = local_dir + dest.lstrip(\"/\") + file_name # What we will name the file locally\n",
    "    \"\"\" downloads a single file from an ftp server \"\"\"\n",
    "    _make_parent_dir(dest.lstrip(\"/\"), local_dir)\n",
    "    if not os.path.exists(localfilename) or overwrite is True:\n",
    "        try:\n",
    "            localfile = open(localfilename, 'wb')\n",
    "            ftp.retrbinary(f\"RETR {file_name}\", localfile.write, 1024)\n",
    "            localfile.close()\n",
    "            print(\"downloaded: {0}\".format(dest) + file_name)\n",
    "            print(\"AS: \" + localfilename)\n",
    "        except FileNotFoundError:\n",
    "            print(\"FAILED: {0}\".format(dest))\n",
    "    else:\n",
    "        print(\"already exists: {0}\".format(dest) + file_name)\n",
    "        \n",
    "def _file_name_match_patern(pattern, name):\n",
    "    \"\"\" returns True if filename matches the pattern\"\"\"\n",
    "    if pattern is None:\n",
    "        return True\n",
    "    else:\n",
    "        return bool(re.match(pattern, name))\n",
    "\n",
    "def _mirror_ftp_dir(ftp_handle, remote_dir, local_dir, overwrite, guess_by_extension, pattern):\n",
    "    original_cwd = ftp_handle.pwd()\n",
    "    ftp_handle.cwd(remote_dir)\n",
    "    \"\"\" replicates a directory on an ftp server recursively \"\"\"\n",
    "    for item in ftp_handle.nlst(remote_dir):\n",
    "        if _is_ftp_dir(ftp_handle, item, guess_by_extension):\n",
    "            _mirror_ftp_dir(ftp_handle, item, local_dir, overwrite, guess_by_extension, pattern)\n",
    "        else:\n",
    "            if _file_name_match_patern(pattern, remote_dir):\n",
    "                _download_ftp_file(ftp_handle, item.rsplit('/', 1)[1], local_dir, overwrite)\n",
    "            else:\n",
    "                # quietly skip the file\n",
    "                pass\n",
    "    ftp_handle.cwd(original_cwd)"
   ]
  },
  {
   "cell_type": "code",
   "execution_count": 3,
   "metadata": {
    "kernel": "SoS"
   },
   "outputs": [
    {
     "name": "stdout",
     "output_type": "stream",
     "text": [
      "created ftp_fgc_xqtl/projects/histone-methylation/CU/test_dir2\n",
      "downloaded: /ftp_fgc_xqtl/projects/histone-methylation/CU/test_dir2/test1.txt\n",
      "AS: C:/Users/sakur/Desktop/FTP_test/ftp_fgc_xqtl/projects/histone-methylation/CU/test_dir2/test1.txt\n",
      "downloaded: /ftp_fgc_xqtl/projects/histone-methylation/CU/test_dir2/test2.txt\n",
      "AS: C:/Users/sakur/Desktop/FTP_test/ftp_fgc_xqtl/projects/histone-methylation/CU/test_dir2/test2.txt\n",
      "downloaded: /ftp_fgc_xqtl/projects/histone-methylation/CU/test_dir2/test3.txt\n",
      "AS: C:/Users/sakur/Desktop/FTP_test/ftp_fgc_xqtl/projects/histone-methylation/CU/test_dir2/test3.txt\n",
      "created ftp_fgc_xqtl/projects/histone-methylation/CU/test_dir2/test_subdir\n",
      "downloaded: /ftp_fgc_xqtl/projects/histone-methylation/CU/test_dir2/test_subdir/test4.txt\n",
      "AS: C:/Users/sakur/Desktop/FTP_test/ftp_fgc_xqtl/projects/histone-methylation/CU/test_dir2/test_subdir/test4.txt\n",
      "downloaded: /ftp_fgc_xqtl/projects/histone-methylation/CU/test_dir2/test_subdir/test5.txt\n",
      "AS: C:/Users/sakur/Desktop/FTP_test/ftp_fgc_xqtl/projects/histone-methylation/CU/test_dir2/test_subdir/test5.txt\n"
     ]
    }
   ],
   "source": [
    "# Recursive download usage example\n",
    "ftp = FTP_TLS('ftp.lisanwanglab.org')\n",
    "ftp.login(user='REPLACE', passwd='REPLACE') # Replace with necessary details\n",
    "ftp.prot_p()\n",
    "\n",
    "_mirror_ftp_dir(ftp, \"/ftp_fgc_xqtl/projects/histone-methylation/CU/test_dir2/\", \"C:/Users/sakur/Desktop/FTP_test/\", overwrite=True, guess_by_extension=True, pattern = None)"
   ]
  },
  {
   "cell_type": "code",
   "execution_count": 4,
   "metadata": {
    "kernel": "SoS"
   },
   "outputs": [
    {
     "name": "stdout",
     "output_type": "stream",
     "text": [
      "already exists: /ftp_fgc_xqtl/projects/histone-methylation/CU/test_dir2/test1.txt\n",
      "already exists: /ftp_fgc_xqtl/projects/histone-methylation/CU/test_dir2/test2.txt\n",
      "already exists: /ftp_fgc_xqtl/projects/histone-methylation/CU/test_dir2/test3.txt\n",
      "already exists: /ftp_fgc_xqtl/projects/histone-methylation/CU/test_dir2/test_subdir/test4.txt\n",
      "already exists: /ftp_fgc_xqtl/projects/histone-methylation/CU/test_dir2/test_subdir/test5.txt\n"
     ]
    }
   ],
   "source": [
    "# if file already exist localy and you choose not to overwrite\n",
    "_mirror_ftp_dir(ftp, \"/ftp_fgc_xqtl/projects/histone-methylation/CU/test_dir2/\", \"C:/Users/sakur/Desktop/FTP_test/\", overwrite=False, guess_by_extension=True, pattern = None)"
   ]
  },
  {
   "cell_type": "markdown",
   "metadata": {
    "kernel": "SoS"
   },
   "source": [
    "### Upload\n",
    "The code below will upload the local dir and all files in it to the remote dir in FTP server you choose"
   ]
  },
  {
   "cell_type": "code",
   "execution_count": 10,
   "metadata": {
    "kernel": "SoS"
   },
   "outputs": [],
   "source": [
    "#Recursive upload\n",
    "\n",
    "import ftplib\n",
    "import os\n",
    "import re\n",
    "from ftplib import FTP_TLS\n",
    "\n",
    "def __mirror_dir_ftp(ftp_handle, local_dir):\n",
    "    files = os.listdir(local_dir)\n",
    "    os.chdir(local_dir)\n",
    "    for f in files:\n",
    "        if os.path.isfile(local_dir + r'\\{}'.format(f)):\n",
    "            fh = open(f, 'rb')\n",
    "            ftp_handle.storbinary('STOR %s' % f, fh)\n",
    "            fh.close()\n",
    "        elif os.path.isdir(local_dir + r'\\{}'.format(f)):\n",
    "            ftp_handle.mkd(f)\n",
    "            ftp_handle.cwd(f)\n",
    "            __mirror_dir_ftp(ftp_handle, local_dir + r'\\{}'.format(f))\n",
    "    ftp_handle.cwd('..')\n",
    "    os.chdir('..')"
   ]
  },
  {
   "cell_type": "code",
   "execution_count": 11,
   "metadata": {
    "kernel": "SoS"
   },
   "outputs": [
    {
     "data": {
      "text/plain": [
       "'250 Directory successfully changed.'"
      ]
     },
     "execution_count": 11,
     "metadata": {},
     "output_type": "execute_result"
    }
   ],
   "source": [
    "# Recursive upload usage example\n",
    "\n",
    "ftp = FTP_TLS('ftp.lisanwanglab.org')\n",
    "ftp.login(user='REPLACE', passwd='REPLACE') # Replace with necessary details\n",
    "ftp.prot_p()\n",
    "\n",
    "# create corresponding parent directory in the remote\n",
    "ftp.cwd('/ftp_fgc_xqtl/projects/histone-methylation/CU/')\n",
    "ftp.mkd('test_dir2')\n",
    "ftp.cwd('/ftp_fgc_xqtl/projects/histone-methylation/CU/test_dir2/')"
   ]
  },
  {
   "cell_type": "code",
   "execution_count": 12,
   "metadata": {
    "kernel": "SoS"
   },
   "outputs": [],
   "source": [
    "# log messages not deveoped yet but this will upload the test_dir2 to the FTP\n",
    "local = r'C:/Users/sakur/Desktop/FTP_test/ftp_fgc_xqtl/projects/histone-methylation/CU/test_dir2'\n",
    "__mirror_dir_ftp(ftp, local)"
   ]
  },
  {
   "cell_type": "code",
   "execution_count": null,
   "metadata": {
    "kernel": "SoS"
   },
   "outputs": [],
   "source": []
  }
 ],
 "metadata": {
  "kernelspec": {
   "display_name": "SoS",
   "language": "sos",
   "name": "sos"
  },
  "language_info": {
   "codemirror_mode": "sos",
   "file_extension": ".sos",
   "mimetype": "text/x-sos",
   "name": "sos",
   "nbconvert_exporter": "sos_notebook.converter.SoS_Exporter",
   "pygments_lexer": "sos"
  },
  "sos": {
   "kernels": [],
   "panel": {
    "displayed": true,
    "height": 0
   },
   "version": "0.22.3"
  }
 },
 "nbformat": 4,
 "nbformat_minor": 4
}
