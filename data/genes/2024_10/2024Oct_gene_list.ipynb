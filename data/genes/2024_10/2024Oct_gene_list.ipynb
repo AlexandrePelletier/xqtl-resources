{
 "cells": [
  {
   "cell_type": "markdown",
   "id": "b671bc65-eaa2-4453-bbfb-6a0c91be4dce",
   "metadata": {},
   "source": [
    "# Generate genelist for NIAGADS table1"
   ]
  },
  {
   "cell_type": "code",
   "execution_count": 1,
   "id": "4e76aad4-861a-483f-9197-d38bb5bd1004",
   "metadata": {},
   "outputs": [
    {
     "name": "stderr",
     "output_type": "stream",
     "text": [
      "-- \u001b[1mAttaching core tidyverse packages\u001b[22m ------------------------ tidyverse 2.0.0 --\n",
      "\u001b[32mv\u001b[39m \u001b[34mdplyr    \u001b[39m 1.1.4     \u001b[32mv\u001b[39m \u001b[34mreadr    \u001b[39m 2.1.5\n",
      "\u001b[32mv\u001b[39m \u001b[34mforcats  \u001b[39m 1.0.0     \u001b[32mv\u001b[39m \u001b[34mstringr  \u001b[39m 1.5.1\n",
      "\u001b[32mv\u001b[39m \u001b[34mggplot2  \u001b[39m 3.5.1     \u001b[32mv\u001b[39m \u001b[34mtibble   \u001b[39m 3.2.1\n",
      "\u001b[32mv\u001b[39m \u001b[34mlubridate\u001b[39m 1.9.3     \u001b[32mv\u001b[39m \u001b[34mtidyr    \u001b[39m 1.3.1\n",
      "\u001b[32mv\u001b[39m \u001b[34mpurrr    \u001b[39m 1.0.2     \n",
      "-- \u001b[1mConflicts\u001b[22m ------------------------------------------ tidyverse_conflicts() --\n",
      "\u001b[31mx\u001b[39m \u001b[34mdplyr\u001b[39m::\u001b[32mbetween()\u001b[39m     masks \u001b[34mdata.table\u001b[39m::between()\n",
      "\u001b[31mx\u001b[39m \u001b[34mdplyr\u001b[39m::\u001b[32mfilter()\u001b[39m      masks \u001b[34mstats\u001b[39m::filter()\n",
      "\u001b[31mx\u001b[39m \u001b[34mdplyr\u001b[39m::\u001b[32mfirst()\u001b[39m       masks \u001b[34mdata.table\u001b[39m::first()\n",
      "\u001b[31mx\u001b[39m \u001b[34mlubridate\u001b[39m::\u001b[32mhour()\u001b[39m    masks \u001b[34mdata.table\u001b[39m::hour()\n",
      "\u001b[31mx\u001b[39m \u001b[34mlubridate\u001b[39m::\u001b[32misoweek()\u001b[39m masks \u001b[34mdata.table\u001b[39m::isoweek()\n",
      "\u001b[31mx\u001b[39m \u001b[34mdplyr\u001b[39m::\u001b[32mlag()\u001b[39m         masks \u001b[34mstats\u001b[39m::lag()\n",
      "\u001b[31mx\u001b[39m \u001b[34mdplyr\u001b[39m::\u001b[32mlast()\u001b[39m        masks \u001b[34mdata.table\u001b[39m::last()\n",
      "\u001b[31mx\u001b[39m \u001b[34mlubridate\u001b[39m::\u001b[32mmday()\u001b[39m    masks \u001b[34mdata.table\u001b[39m::mday()\n",
      "\u001b[31mx\u001b[39m \u001b[34mlubridate\u001b[39m::\u001b[32mminute()\u001b[39m  masks \u001b[34mdata.table\u001b[39m::minute()\n",
      "\u001b[31mx\u001b[39m \u001b[34mlubridate\u001b[39m::\u001b[32mmonth()\u001b[39m   masks \u001b[34mdata.table\u001b[39m::month()\n",
      "\u001b[31mx\u001b[39m \u001b[34mlubridate\u001b[39m::\u001b[32mquarter()\u001b[39m masks \u001b[34mdata.table\u001b[39m::quarter()\n",
      "\u001b[31mx\u001b[39m \u001b[34mlubridate\u001b[39m::\u001b[32msecond()\u001b[39m  masks \u001b[34mdata.table\u001b[39m::second()\n",
      "\u001b[31mx\u001b[39m \u001b[34mpurrr\u001b[39m::\u001b[32mtranspose()\u001b[39m   masks \u001b[34mdata.table\u001b[39m::transpose()\n",
      "\u001b[31mx\u001b[39m \u001b[34mlubridate\u001b[39m::\u001b[32mwday()\u001b[39m    masks \u001b[34mdata.table\u001b[39m::wday()\n",
      "\u001b[31mx\u001b[39m \u001b[34mlubridate\u001b[39m::\u001b[32mweek()\u001b[39m    masks \u001b[34mdata.table\u001b[39m::week()\n",
      "\u001b[31mx\u001b[39m \u001b[34mlubridate\u001b[39m::\u001b[32myday()\u001b[39m    masks \u001b[34mdata.table\u001b[39m::yday()\n",
      "\u001b[31mx\u001b[39m \u001b[34mlubridate\u001b[39m::\u001b[32myear()\u001b[39m    masks \u001b[34mdata.table\u001b[39m::year()\n",
      "\u001b[36mi\u001b[39m Use the conflicted package (\u001b[3m\u001b[34m<http://conflicted.r-lib.org/>\u001b[39m\u001b[23m) to force all conflicts to become errors\n"
     ]
    }
   ],
   "source": [
    "library(data.table)\n",
    "library(tidyverse)"
   ]
  },
  {
   "cell_type": "markdown",
   "id": "b16b5c20-5282-461b-b521-84261f745a33",
   "metadata": {},
   "source": [
    "## load faltten table and gene reference "
   ]
  },
  {
   "cell_type": "code",
   "execution_count": 2,
   "id": "5e5c3cf6-8d59-49a3-a504-f382c18aa24e",
   "metadata": {},
   "outputs": [],
   "source": [
    "fla_tb <- fread('/data/analysis_result/finemapping_twas/gwas_xqlt_overlap/20240418/Fungen_xQTL_allQTL.overlapped.gwas.export.snATAC.ADGWAS_fix.csv.gz')"
   ]
  },
  {
   "cell_type": "code",
   "execution_count": 5,
   "id": "11b3dd39-c02a-4e92-bab4-db6ccc7a1273",
   "metadata": {
    "scrolled": true
   },
   "outputs": [
    {
     "data": {
      "text/html": [
       "<table class=\"dataframe\">\n",
       "<caption>A data.table: 2 x 17</caption>\n",
       "<thead>\n",
       "\t<tr><th scope=col>variant_id</th><th scope=col>chr</th><th scope=col>pos</th><th scope=col>pip</th><th scope=col>maf</th><th scope=col>cs_coverage_0.95</th><th scope=col>cs_coverage_0.7</th><th scope=col>cs_coverage_0.5</th><th scope=col>cs_coverage_0.95_min_corr</th><th scope=col>cs_coverage_0.7_min_corr</th><th scope=col>cs_coverage_0.5_min_corr</th><th scope=col>annotated_susie_cs</th><th scope=col>study</th><th scope=col>region</th><th scope=col>method</th><th scope=col>betahat</th><th scope=col>sebetahat</th></tr>\n",
       "\t<tr><th scope=col>&lt;chr&gt;</th><th scope=col>&lt;chr&gt;</th><th scope=col>&lt;int&gt;</th><th scope=col>&lt;dbl&gt;</th><th scope=col>&lt;dbl&gt;</th><th scope=col>&lt;int&gt;</th><th scope=col>&lt;int&gt;</th><th scope=col>&lt;int&gt;</th><th scope=col>&lt;int&gt;</th><th scope=col>&lt;int&gt;</th><th scope=col>&lt;int&gt;</th><th scope=col>&lt;int&gt;</th><th scope=col>&lt;chr&gt;</th><th scope=col>&lt;chr&gt;</th><th scope=col>&lt;chr&gt;</th><th scope=col>&lt;dbl&gt;</th><th scope=col>&lt;dbl&gt;</th></tr>\n",
       "</thead>\n",
       "<tbody>\n",
       "\t<tr><td>chr10:15118:G:A  </td><td>chr10</td><td>  15118</td><td>0.9961109</td><td>0.01265823</td><td> 5</td><td> 5</td><td> 5</td><td> 5</td><td> 5</td><td> 5</td><td>0</td><td>ROSMAP_Astrocyte_snATACQTL</td><td>chr10_0_4137718</td><td>NA</td><td>NA</td><td>NA</td></tr>\n",
       "\t<tr><td>chr10:1602399:G:A</td><td>chr10</td><td>1602399</td><td>0.9979509</td><td>0.04166667</td><td>15</td><td>15</td><td>15</td><td>15</td><td>15</td><td>15</td><td>0</td><td>ROSMAP_Astrocyte_snATACQTL</td><td>chr10_0_4137718</td><td>NA</td><td>NA</td><td>NA</td></tr>\n",
       "</tbody>\n",
       "</table>\n"
      ],
      "text/latex": [
       "A data.table: 2 x 17\n",
       "\\begin{tabular}{lllllllllllllllll}\n",
       " variant\\_id & chr & pos & pip & maf & cs\\_coverage\\_0.95 & cs\\_coverage\\_0.7 & cs\\_coverage\\_0.5 & cs\\_coverage\\_0.95\\_min\\_corr & cs\\_coverage\\_0.7\\_min\\_corr & cs\\_coverage\\_0.5\\_min\\_corr & annotated\\_susie\\_cs & study & region & method & betahat & sebetahat\\\\\n",
       " <chr> & <chr> & <int> & <dbl> & <dbl> & <int> & <int> & <int> & <int> & <int> & <int> & <int> & <chr> & <chr> & <chr> & <dbl> & <dbl>\\\\\n",
       "\\hline\n",
       "\t chr10:15118:G:A   & chr10 &   15118 & 0.9961109 & 0.01265823 &  5 &  5 &  5 &  5 &  5 &  5 & 0 & ROSMAP\\_Astrocyte\\_snATACQTL & chr10\\_0\\_4137718 & NA & NA & NA\\\\\n",
       "\t chr10:1602399:G:A & chr10 & 1602399 & 0.9979509 & 0.04166667 & 15 & 15 & 15 & 15 & 15 & 15 & 0 & ROSMAP\\_Astrocyte\\_snATACQTL & chr10\\_0\\_4137718 & NA & NA & NA\\\\\n",
       "\\end{tabular}\n"
      ],
      "text/markdown": [
       "\n",
       "A data.table: 2 x 17\n",
       "\n",
       "| variant_id &lt;chr&gt; | chr &lt;chr&gt; | pos &lt;int&gt; | pip &lt;dbl&gt; | maf &lt;dbl&gt; | cs_coverage_0.95 &lt;int&gt; | cs_coverage_0.7 &lt;int&gt; | cs_coverage_0.5 &lt;int&gt; | cs_coverage_0.95_min_corr &lt;int&gt; | cs_coverage_0.7_min_corr &lt;int&gt; | cs_coverage_0.5_min_corr &lt;int&gt; | annotated_susie_cs &lt;int&gt; | study &lt;chr&gt; | region &lt;chr&gt; | method &lt;chr&gt; | betahat &lt;dbl&gt; | sebetahat &lt;dbl&gt; |\n",
       "|---|---|---|---|---|---|---|---|---|---|---|---|---|---|---|---|---|\n",
       "| chr10:15118:G:A   | chr10 |   15118 | 0.9961109 | 0.01265823 |  5 |  5 |  5 |  5 |  5 |  5 | 0 | ROSMAP_Astrocyte_snATACQTL | chr10_0_4137718 | NA | NA | NA |\n",
       "| chr10:1602399:G:A | chr10 | 1602399 | 0.9979509 | 0.04166667 | 15 | 15 | 15 | 15 | 15 | 15 | 0 | ROSMAP_Astrocyte_snATACQTL | chr10_0_4137718 | NA | NA | NA |\n",
       "\n"
      ],
      "text/plain": [
       "  variant_id        chr   pos     pip       maf        cs_coverage_0.95\n",
       "1 chr10:15118:G:A   chr10   15118 0.9961109 0.01265823  5              \n",
       "2 chr10:1602399:G:A chr10 1602399 0.9979509 0.04166667 15              \n",
       "  cs_coverage_0.7 cs_coverage_0.5 cs_coverage_0.95_min_corr\n",
       "1  5               5               5                       \n",
       "2 15              15              15                       \n",
       "  cs_coverage_0.7_min_corr cs_coverage_0.5_min_corr annotated_susie_cs\n",
       "1  5                        5                       0                 \n",
       "2 15                       15                       0                 \n",
       "  study                      region          method betahat sebetahat\n",
       "1 ROSMAP_Astrocyte_snATACQTL chr10_0_4137718 NA     NA      NA       \n",
       "2 ROSMAP_Astrocyte_snATACQTL chr10_0_4137718 NA     NA      NA       "
      ]
     },
     "metadata": {},
     "output_type": "display_data"
    }
   ],
   "source": [
    "fla_tb %>% head(n=2)"
   ]
  },
  {
   "cell_type": "code",
   "execution_count": 43,
   "id": "b24401f4-4e10-4abc-a685-8c606cab9d6f",
   "metadata": {},
   "outputs": [],
   "source": [
    "gene_ref <- fread('/data/resource/References/Homo_sapiens.GRCh38.103.chr.reformatted.collapse_only.gene.region_list')"
   ]
  },
  {
   "cell_type": "markdown",
   "id": "4532becb-6069-4277-933f-96f66a823e65",
   "metadata": {},
   "source": [
    "### clean up flatten table to xQTL only"
   ]
  },
  {
   "cell_type": "code",
   "execution_count": 143,
   "id": "1ba8c335-1177-4bf5-bfb6-b3eefc7359ef",
   "metadata": {},
   "outputs": [],
   "source": [
    "fla_tb_95_dis <- fla_tb %>% filter(cs_coverage_0.5_min_corr\t > 0, !(str_detect(study, '^AD'))) %>% select(study, region, chr, pos)  %>% merge(., gene_ref, by.x = 'region', by.y = 'gene_id')"
   ]
  },
  {
   "cell_type": "code",
   "execution_count": 144,
   "id": "2dccced5-a269-42d1-ae54-4c0c0f9f5167",
   "metadata": {},
   "outputs": [],
   "source": [
    "fla_tb_95_dis_noQTL<- fla_tb %>% filter(cs_coverage_0.5_min_corr > 0, !(str_detect(study, '^AD')), !str_detect(study,'sQTL'), !str_detect(study,'PSI')) %>% select(study, region, chr, pos)  %>% merge(., gene_ref, by.x = 'region', by.y = 'gene_id')"
   ]
  },
  {
   "cell_type": "markdown",
   "id": "4d28e415-00e5-4c78-8bc3-8883144c8e90",
   "metadata": {},
   "source": [
    "## load gene list resources"
   ]
  },
  {
   "cell_type": "code",
   "execution_count": 221,
   "id": "bdd29caf-6f55-47fe-aa4e-799c2ca403f5",
   "metadata": {},
   "outputs": [],
   "source": [
    "gene_list <- fread('/data/resource//gene_list/AD_targets.csv')"
   ]
  },
  {
   "cell_type": "code",
   "execution_count": 255,
   "id": "729f3049-e1aa-455f-8cd2-7c09cd3ef021",
   "metadata": {},
   "outputs": [],
   "source": [
    "nia_tb1 <- fread('/data/resource//gene_list//ADSP_NIAGADS_Table1.tsv', header = T)\n",
    "nia_tb2 <- fread('/data/resource//gene_list//ADSP_NIAGADS_Table2.tsv', header = T)"
   ]
  },
  {
   "cell_type": "code",
   "execution_count": 256,
   "id": "7a0940cd-8001-4886-94f5-50411e49fdb1",
   "metadata": {},
   "outputs": [],
   "source": [
    "colnames(nia_tb1) <- nia_tb1[1,] %>% as.character\n",
    "nia_tb1 <- nia_tb1[-1,]"
   ]
  },
  {
   "cell_type": "code",
   "execution_count": 257,
   "id": "74891ead-3e24-4720-bff6-d377a30eda4b",
   "metadata": {},
   "outputs": [],
   "source": [
    "colnames(nia_tb2) <- nia_tb2[1,] %>% as.character\n",
    "nia_tb2 <- nia_tb2[-1,]"
   ]
  },
  {
   "cell_type": "code",
   "execution_count": 258,
   "id": "a523fc9b-8ce0-4314-b0b5-238b478489fe",
   "metadata": {},
   "outputs": [],
   "source": [
    "nia_tb1 <- nia_tb1 %>% mutate(chr = paste0('chr', Chr), pos = `Location (hg38)` %>% as.numeric)"
   ]
  },
  {
   "cell_type": "code",
   "execution_count": 259,
   "id": "df9c8b6e-2305-4012-918d-e9784ad96151",
   "metadata": {},
   "outputs": [
    {
     "data": {
      "text/html": [
       "<table class=\"dataframe\">\n",
       "<caption>A data.table: 6 x 4</caption>\n",
       "<thead>\n",
       "\t<tr><th scope=col>Number</th><th scope=col>Gene</th><th scope=col>Source</th><th scope=col>Location (hg38)</th></tr>\n",
       "\t<tr><th scope=col>&lt;chr&gt;</th><th scope=col>&lt;chr&gt;</th><th scope=col>&lt;chr&gt;</th><th scope=col>&lt;chr&gt;</th></tr>\n",
       "</thead>\n",
       "<tbody>\n",
       "\t<tr><td>1</td><td>ABCA7</td><td>GVC         </td><td>chr19:1,039,997-1,065,572   </td></tr>\n",
       "\t<tr><td>2</td><td>ABI3 </td><td>GVC         </td><td>chr17:49,210,411-49,223,225 </td></tr>\n",
       "\t<tr><td>3</td><td>APOE </td><td>GVC         </td><td>chr19:44,905,791-44,909,393 </td></tr>\n",
       "\t<tr><td>4</td><td>APP  </td><td>GVC         </td><td>chr21:25,880,550-26,171,128 </td></tr>\n",
       "\t<tr><td>5</td><td>APBB3</td><td>Novikova    </td><td>chr5:140,558,268-140,564,781</td></tr>\n",
       "\t<tr><td>6</td><td>BIN1 </td><td>GVC/Novikova</td><td>chr2:127,048,023-127,107,288</td></tr>\n",
       "</tbody>\n",
       "</table>\n"
      ],
      "text/latex": [
       "A data.table: 6 x 4\n",
       "\\begin{tabular}{llll}\n",
       " Number & Gene & Source & Location (hg38)\\\\\n",
       " <chr> & <chr> & <chr> & <chr>\\\\\n",
       "\\hline\n",
       "\t 1 & ABCA7 & GVC          & chr19:1,039,997-1,065,572   \\\\\n",
       "\t 2 & ABI3  & GVC          & chr17:49,210,411-49,223,225 \\\\\n",
       "\t 3 & APOE  & GVC          & chr19:44,905,791-44,909,393 \\\\\n",
       "\t 4 & APP   & GVC          & chr21:25,880,550-26,171,128 \\\\\n",
       "\t 5 & APBB3 & Novikova     & chr5:140,558,268-140,564,781\\\\\n",
       "\t 6 & BIN1  & GVC/Novikova & chr2:127,048,023-127,107,288\\\\\n",
       "\\end{tabular}\n"
      ],
      "text/markdown": [
       "\n",
       "A data.table: 6 x 4\n",
       "\n",
       "| Number &lt;chr&gt; | Gene &lt;chr&gt; | Source &lt;chr&gt; | Location (hg38) &lt;chr&gt; |\n",
       "|---|---|---|---|\n",
       "| 1 | ABCA7 | GVC          | chr19:1,039,997-1,065,572    |\n",
       "| 2 | ABI3  | GVC          | chr17:49,210,411-49,223,225  |\n",
       "| 3 | APOE  | GVC          | chr19:44,905,791-44,909,393  |\n",
       "| 4 | APP   | GVC          | chr21:25,880,550-26,171,128  |\n",
       "| 5 | APBB3 | Novikova     | chr5:140,558,268-140,564,781 |\n",
       "| 6 | BIN1  | GVC/Novikova | chr2:127,048,023-127,107,288 |\n",
       "\n"
      ],
      "text/plain": [
       "  Number Gene  Source       Location (hg38)             \n",
       "1 1      ABCA7 GVC          chr19:1,039,997-1,065,572   \n",
       "2 2      ABI3  GVC          chr17:49,210,411-49,223,225 \n",
       "3 3      APOE  GVC          chr19:44,905,791-44,909,393 \n",
       "4 4      APP   GVC          chr21:25,880,550-26,171,128 \n",
       "5 5      APBB3 Novikova     chr5:140,558,268-140,564,781\n",
       "6 6      BIN1  GVC/Novikova chr2:127,048,023-127,107,288"
      ]
     },
     "metadata": {},
     "output_type": "display_data"
    }
   ],
   "source": [
    "nia_tb2 %>% head"
   ]
  },
  {
   "cell_type": "markdown",
   "id": "33179675-ca00-44f6-a4d8-4355f9ae23d3",
   "metadata": {},
   "source": [
    "## annotate table 1 with xQTL flatten table"
   ]
  },
  {
   "cell_type": "code",
   "execution_count": 246,
   "id": "13fd0325-a9fc-4f1f-a388-7952bfdebefe",
   "metadata": {},
   "outputs": [],
   "source": [
    "# nia_tb1_anno_all <- merge(nia_tb1, fla_tb_95_dis, by = c('chr', 'pos')) %>% merge(., gene_ref, by.x = 'region', by.y = 'gene_id')\n",
    "nia_tb1_anno_nosTQL <- merge(nia_tb1, fla_tb_95_dis %>% filter(!str_detect(study,'sQTL'), !str_detect(study,'PSI')), by = c('chr', 'pos'))"
   ]
  },
  {
   "cell_type": "code",
   "execution_count": 238,
   "id": "61c2fb5e-a371-4226-8d0b-4097483569b9",
   "metadata": {
    "scrolled": true
   },
   "outputs": [
    {
     "data": {
      "text/html": [
       "35"
      ],
      "text/latex": [
       "35"
      ],
      "text/markdown": [
       "35"
      ],
      "text/plain": [
       "[1] 35"
      ]
     },
     "metadata": {},
     "output_type": "display_data"
    },
    {
     "data": {
      "text/html": [
       "76"
      ],
      "text/latex": [
       "76"
      ],
      "text/markdown": [
       "76"
      ],
      "text/plain": [
       "[1] 76"
      ]
     },
     "metadata": {},
     "output_type": "display_data"
    }
   ],
   "source": [
    "nia_tb1_anno_nosTQL %>% pull(gene_name) %>% unique %>% length\n",
    "nia_tb1 %>% pull(`Reported Gene/ Closest gene`) %>% unique %>% length"
   ]
  },
  {
   "cell_type": "code",
   "execution_count": 390,
   "id": "37443607-bebe-4fd9-916b-4427ed05f6c8",
   "metadata": {},
   "outputs": [
    {
     "data": {
      "text/html": [
       "<table class=\"dataframe\">\n",
       "<caption>A data.table: 1 x 7</caption>\n",
       "<thead>\n",
       "\t<tr><th scope=col>Number</th><th scope=col>Chr</th><th scope=col>Location (hg38)</th><th scope=col>SNV</th><th scope=col>Reported Gene/ Closest gene</th><th scope=col>chr</th><th scope=col>pos</th></tr>\n",
       "\t<tr><th scope=col>&lt;chr&gt;</th><th scope=col>&lt;chr&gt;</th><th scope=col>&lt;chr&gt;</th><th scope=col>&lt;chr&gt;</th><th scope=col>&lt;chr&gt;</th><th scope=col>&lt;chr&gt;</th><th scope=col>&lt;dbl&gt;</th></tr>\n",
       "</thead>\n",
       "<tbody>\n",
       "\t<tr><td>75</td><td>21</td><td>26101558</td><td>rs2154481</td><td>APP</td><td>chr21</td><td>26101558</td></tr>\n",
       "</tbody>\n",
       "</table>\n"
      ],
      "text/latex": [
       "A data.table: 1 x 7\n",
       "\\begin{tabular}{lllllll}\n",
       " Number & Chr & Location (hg38) & SNV & Reported Gene/ Closest gene & chr & pos\\\\\n",
       " <chr> & <chr> & <chr> & <chr> & <chr> & <chr> & <dbl>\\\\\n",
       "\\hline\n",
       "\t 75 & 21 & 26101558 & rs2154481 & APP & chr21 & 26101558\\\\\n",
       "\\end{tabular}\n"
      ],
      "text/markdown": [
       "\n",
       "A data.table: 1 x 7\n",
       "\n",
       "| Number &lt;chr&gt; | Chr &lt;chr&gt; | Location (hg38) &lt;chr&gt; | SNV &lt;chr&gt; | Reported Gene/ Closest gene &lt;chr&gt; | chr &lt;chr&gt; | pos &lt;dbl&gt; |\n",
       "|---|---|---|---|---|---|---|\n",
       "| 75 | 21 | 26101558 | rs2154481 | APP | chr21 | 26101558 |\n",
       "\n"
      ],
      "text/plain": [
       "  Number Chr Location (hg38) SNV       Reported Gene/ Closest gene chr  \n",
       "1 75     21  26101558        rs2154481 APP                         chr21\n",
       "  pos     \n",
       "1 26101558"
      ]
     },
     "metadata": {},
     "output_type": "display_data"
    }
   ],
   "source": [
    "nia_tb1%>% filter(`Reported Gene/ Closest gene` == 'APP')"
   ]
  },
  {
   "cell_type": "code",
   "execution_count": 394,
   "id": "3c3a7a40-a1a7-46d7-b35a-4eaf8b77a638",
   "metadata": {},
   "outputs": [
    {
     "data": {
      "text/html": [
       "<table class=\"dataframe\">\n",
       "<caption>A data.table: 0 x 17</caption>\n",
       "<thead>\n",
       "\t<tr><th scope=col>variant_id</th><th scope=col>chr</th><th scope=col>pos</th><th scope=col>pip</th><th scope=col>maf</th><th scope=col>cs_coverage_0.95</th><th scope=col>cs_coverage_0.7</th><th scope=col>cs_coverage_0.5</th><th scope=col>cs_coverage_0.95_min_corr</th><th scope=col>cs_coverage_0.7_min_corr</th><th scope=col>cs_coverage_0.5_min_corr</th><th scope=col>annotated_susie_cs</th><th scope=col>study</th><th scope=col>region</th><th scope=col>method</th><th scope=col>betahat</th><th scope=col>sebetahat</th></tr>\n",
       "\t<tr><th scope=col>&lt;chr&gt;</th><th scope=col>&lt;chr&gt;</th><th scope=col>&lt;int&gt;</th><th scope=col>&lt;dbl&gt;</th><th scope=col>&lt;dbl&gt;</th><th scope=col>&lt;int&gt;</th><th scope=col>&lt;int&gt;</th><th scope=col>&lt;int&gt;</th><th scope=col>&lt;int&gt;</th><th scope=col>&lt;int&gt;</th><th scope=col>&lt;int&gt;</th><th scope=col>&lt;int&gt;</th><th scope=col>&lt;chr&gt;</th><th scope=col>&lt;chr&gt;</th><th scope=col>&lt;chr&gt;</th><th scope=col>&lt;dbl&gt;</th><th scope=col>&lt;dbl&gt;</th></tr>\n",
       "</thead>\n",
       "<tbody>\n",
       "</tbody>\n",
       "</table>\n"
      ],
      "text/latex": [
       "A data.table: 0 x 17\n",
       "\\begin{tabular}{lllllllllllllllll}\n",
       " variant\\_id & chr & pos & pip & maf & cs\\_coverage\\_0.95 & cs\\_coverage\\_0.7 & cs\\_coverage\\_0.5 & cs\\_coverage\\_0.95\\_min\\_corr & cs\\_coverage\\_0.7\\_min\\_corr & cs\\_coverage\\_0.5\\_min\\_corr & annotated\\_susie\\_cs & study & region & method & betahat & sebetahat\\\\\n",
       " <chr> & <chr> & <int> & <dbl> & <dbl> & <int> & <int> & <int> & <int> & <int> & <int> & <int> & <chr> & <chr> & <chr> & <dbl> & <dbl>\\\\\n",
       "\\hline\n",
       "\\end{tabular}\n"
      ],
      "text/markdown": [
       "\n",
       "A data.table: 0 x 17\n",
       "\n",
       "| variant_id &lt;chr&gt; | chr &lt;chr&gt; | pos &lt;int&gt; | pip &lt;dbl&gt; | maf &lt;dbl&gt; | cs_coverage_0.95 &lt;int&gt; | cs_coverage_0.7 &lt;int&gt; | cs_coverage_0.5 &lt;int&gt; | cs_coverage_0.95_min_corr &lt;int&gt; | cs_coverage_0.7_min_corr &lt;int&gt; | cs_coverage_0.5_min_corr &lt;int&gt; | annotated_susie_cs &lt;int&gt; | study &lt;chr&gt; | region &lt;chr&gt; | method &lt;chr&gt; | betahat &lt;dbl&gt; | sebetahat &lt;dbl&gt; |\n",
       "|---|---|---|---|---|---|---|---|---|---|---|---|---|---|---|---|---|\n",
       "\n"
      ],
      "text/plain": [
       "     variant_id chr pos pip maf cs_coverage_0.95 cs_coverage_0.7\n",
       "     cs_coverage_0.5 cs_coverage_0.95_min_corr cs_coverage_0.7_min_corr\n",
       "     cs_coverage_0.5_min_corr annotated_susie_cs study region method betahat\n",
       "     sebetahat"
      ]
     },
     "metadata": {},
     "output_type": "display_data"
    }
   ],
   "source": [
    "fla_tb %>% filter(chr == 21, pos == 26101558)"
   ]
  },
  {
   "cell_type": "markdown",
   "id": "d0ae2df2-5cd2-4031-b3fa-0435040fe342",
   "metadata": {},
   "source": [
    "### some loci (variants) are annotated to different gene from NIAGADS Table 1"
   ]
  },
  {
   "cell_type": "code",
   "execution_count": 264,
   "id": "3b3f6481-4ffe-4f95-94e6-fba599b66fb1",
   "metadata": {},
   "outputs": [
    {
     "name": "stderr",
     "output_type": "stream",
     "text": [
      "\u001b[1m\u001b[22mJoining with `by = join_by(`Reported Gene/ Closest gene`)`\n"
     ]
    }
   ],
   "source": [
    "nia_tb1_anno_nosTQL <- nia_tb1_anno_nosTQL %>% \n",
    "                                group_by(`Reported Gene/ Closest gene`) %>% \n",
    "                                summarize(annotated_xQTL = paste(gene_name %>% unique, collapse =',' )) %>% left_join(., nia_tb1_anno_nosTQL) "
   ]
  },
  {
   "cell_type": "code",
   "execution_count": 265,
   "id": "0a507e95-bae9-4de3-91c0-fa42429582e1",
   "metadata": {},
   "outputs": [],
   "source": [
    "nia_tb1_anno_nosTQL_same <- nia_tb1_anno_nosTQL %>% filter(`Reported Gene/ Closest gene` == annotated_xQTL)\n",
    "nia_tb1_anno_nosTQL_debate <- nia_tb1_anno_nosTQL %>% filter(`Reported Gene/ Closest gene` != annotated_xQTL)"
   ]
  },
  {
   "cell_type": "code",
   "execution_count": 240,
   "id": "fbfe3fd0-b1d2-4d50-979b-85fb9aa805bd",
   "metadata": {
    "scrolled": true
   },
   "outputs": [],
   "source": [
    "debate <- nia_tb1_anno_nosTQL %>% filter(`Reported Gene/ Closest gene` != annotated_xQTL)"
   ]
  },
  {
   "cell_type": "code",
   "execution_count": 343,
   "id": "31e97ecb-d57b-4c9c-8f19-f12686b2dc43",
   "metadata": {},
   "outputs": [],
   "source": [
    "nia_tb1_anno_nosTQL_debate1 <- nia_tb1_anno_nosTQL_debate %>%  mutate(Gene_name = `Reported Gene/ Closest gene` ,\n",
    "                                                                      Projects_or_PI_interested = 'NIAGADS_1',\n",
    "                                                                      NIAGADS_debate = annotated_xQTL) %>% \n",
    "select(Gene_name, Projects_or_PI_interested,NIAGADS_debate)\n",
    "nia_tb1_anno_nosTQL_debate2 <- nia_tb1_anno_nosTQL_debate %>%  mutate(Gene_name = gene_name,\n",
    "                                                                      Projects_or_PI_interested = 'NIAGADS_1',\n",
    "                                                                      xQTL_debate = `Reported Gene/ Closest gene`) %>% \n",
    "select(Gene_name, Projects_or_PI_interested,xQTL_debate)"
   ]
  },
  {
   "cell_type": "markdown",
   "id": "d7715519-0ec3-4457-b380-05622ff67063",
   "metadata": {},
   "source": [
    "### format all gene list"
   ]
  },
  {
   "cell_type": "code",
   "execution_count": 398,
   "id": "8855e8f9-2f67-42cb-af1b-db7e1340a08e",
   "metadata": {},
   "outputs": [],
   "source": [
    "gene_list <- gene_list %>% mutate(Gene_name = `Gene name`, Projects_or_PI_interested = `Target in project`) \n",
    "\n",
    "# nia_tb1_anno_nosTQL_anno <- nia_tb1_anno_nosTQL_anno %>% mutate(Gene_name = gene_name) # kept Table1's gene name for annotated \n",
    "nia_tb1_anno_nosTQL_same <- nia_tb1_anno_nosTQL_same %>% mutate(Gene_name = gene_name) %>% \n",
    "                    mutate(Projects_or_PI_interested = 'NIAGADS_1', xQTL_debate = 'consistent', NIAGADS_debate = 'consistent')\n",
    "nia_tb1_noanno <- nia_tb1 %>% mutate(Gene_name = `Reported Gene/ Closest gene`) %>% \n",
    "                    filter(!(Gene_name %in% nia_tb1_anno_nosTQL$`Reported Gene/ Closest gene`)) %>% \n",
    "                    mutate(Projects_or_PI_interested = 'NIAGADS_1')\n",
    "\n",
    "nia_tb2 <- nia_tb2 %>% mutate(Gene_name = Gene,Projects_or_PI_interested = 'NIAGADS_2') \n",
    "\n",
    "# debate <- debate %>% mutate(Projects_or_PI_interested = paste('Debate_to_NIAGADS_Table1:',`Reported Gene/ Closest gene`))\n",
    "# debate <- debate %>% mutate(Projects_or_PI_interested = paste('Debate_to_NIAGADS_Table1'))"
   ]
  },
  {
   "cell_type": "markdown",
   "id": "59560428-e478-44b2-b243-f637d3c7da4d",
   "metadata": {},
   "source": [
    "### combine existing genelist, 2 tables from NIAGADS and debate table together"
   ]
  },
  {
   "cell_type": "code",
   "execution_count": 399,
   "id": "0cdcf3c5-6a55-4839-9aae-bc5709d74779",
   "metadata": {},
   "outputs": [
    {
     "name": "stderr",
     "output_type": "stream",
     "text": [
      "Warning message:\n",
      "\"\u001b[1m\u001b[22mReturning more (or less) than 1 row per `summarise()` group was deprecated in\n",
      "dplyr 1.1.0.\n",
      "\u001b[36mi\u001b[39m Please use `reframe()` instead.\n",
      "\u001b[36mi\u001b[39m When switching from `summarise()` to `reframe()`, remember that `reframe()`\n",
      "  always returns an ungrouped data frame and adjust accordingly.\"\n",
      "\u001b[1m\u001b[22m`summarise()` has grouped output by 'Gene_name'. You can override using the\n",
      "`.groups` argument.\n"
     ]
    }
   ],
   "source": [
    "long_list <- plyr::rbind.fill(gene_list, \n",
    "                              nia_tb1_anno_nosTQL_same,\n",
    "                              nia_tb1_noanno, \n",
    "                              nia_tb1_anno_nosTQL_debate1,\n",
    "                             nia_tb1_anno_nosTQL_debate2,\n",
    "                             nia_tb2) %>% \n",
    "                group_by(Gene_name) %>% \n",
    "                summarize(Projects_or_PI_interested = paste(Projects_or_PI_interested %>% unique, collapse = ', '), NIAGADS_debate = NIAGADS_debate, xQTL_debate = xQTL_debate)  %>% distinct"
   ]
  },
  {
   "cell_type": "code",
   "execution_count": 400,
   "id": "793f0120-e886-44ee-86b2-a6fbbc23801d",
   "metadata": {},
   "outputs": [],
   "source": [
    "# Remove the first row and handle duplicates based on conditions\n",
    "long_list <- long_list[-1, ] %>%\n",
    "  group_by(Gene_name, Projects_or_PI_interested) %>%\n",
    "  # If a group has multiple rows, keep the one with non-NA values; \n",
    "  # if only one row exists in the group, keep it as is\n",
    "  filter(if (n() > 1) row_number(desc(!is.na(NIAGADS_debate) | !is.na(xQTL_debate))) == 1 else TRUE) %>%\n",
    "  ungroup()\n"
   ]
  },
  {
   "cell_type": "code",
   "execution_count": 418,
   "id": "35be2b21-7d93-4be1-9b05-7d86e81a2f2e",
   "metadata": {},
   "outputs": [],
   "source": [
    "#add LACTB\n",
    "long_list <- rbind(long_list, data.frame(Gene_name = 'LACTB', Projects_or_PI_interested = 'xQTL main paper', NIAGADS_debate = NA, xQTL_debate = NA))"
   ]
  },
  {
   "cell_type": "code",
   "execution_count": 421,
   "id": "e66ea3c0-6371-42fc-956a-919118b3fce7",
   "metadata": {},
   "outputs": [
    {
     "data": {
      "text/html": [
       "<style>\n",
       ".list-inline {list-style: none; margin:0; padding: 0}\n",
       ".list-inline>li {display: inline-block}\n",
       ".list-inline>li:not(:last-child)::after {content: \"\\00b7\"; padding: 0 .5ex}\n",
       "</style>\n",
       "<ol class=list-inline><li>157</li><li>4</li></ol>\n"
      ],
      "text/latex": [
       "\\begin{enumerate*}\n",
       "\\item 157\n",
       "\\item 4\n",
       "\\end{enumerate*}\n"
      ],
      "text/markdown": [
       "1. 157\n",
       "2. 4\n",
       "\n",
       "\n"
      ],
      "text/plain": [
       "[1] 157   4"
      ]
     },
     "metadata": {},
     "output_type": "display_data"
    }
   ],
   "source": [
    "long_list %>% dim"
   ]
  },
  {
   "cell_type": "markdown",
   "id": "6b211371-a735-4eac-ad62-63ed3d3b6dc5",
   "metadata": {},
   "source": [
    "### add one colume to document which study have min_corr_95 cs for each gene\n",
    "exclude all sQTL"
   ]
  },
  {
   "cell_type": "code",
   "execution_count": 318,
   "id": "fc2cc62f-f3c7-481a-b304-0c3da7c2fdc8",
   "metadata": {},
   "outputs": [],
   "source": [
    "fla_tb_95_dis_noQTL_study <- fla_tb_95_dis_noQTL %>% group_by(gene_name) %>% summarize(study_xQTL = paste(study %>% unique, collapse = ', '))"
   ]
  },
  {
   "cell_type": "code",
   "execution_count": 412,
   "id": "cf5f380f-25ff-440f-86f4-e71c61d4ff8c",
   "metadata": {},
   "outputs": [
    {
     "data": {
      "text/html": [
       "<style>\n",
       ".list-inline {list-style: none; margin:0; padding: 0}\n",
       ".list-inline>li {display: inline-block}\n",
       ".list-inline>li:not(:last-child)::after {content: \"\\00b7\"; padding: 0 .5ex}\n",
       "</style>\n",
       "<ol class=list-inline><li>'MiGA_THA_eQTL'</li><li>'BM_22_MSBB_eQTL'</li><li>'Exc_DeJager_eQTL'</li><li>'DLPFC_DeJager_eQTL'</li><li>'AC_DeJager_eQTL'</li><li>'Exc_mega_eQTL'</li><li>'DLPFC_Bennett_pQTL'</li><li>'STARNET_eQTL'</li><li>'MiGA_GFM_eQTL'</li><li>'MiGA_SVZ_eQTL'</li><li>'Exc_Kellis_eQTL'</li><li>'Knight_eQTL'</li><li>'MiGA_GTS_eQTL'</li><li>'BM_10_MSBB_eQTL'</li><li>'BM_36_MSBB_eQTL'</li><li>'BM_44_MSBB_eQTL'</li><li>'PCC_DeJager_eQTL'</li><li>'Oli_Kellis_eQTL'</li><li>'MSBB_BM36_pQTL'</li><li>'Ast_DeJager_eQTL'</li><li>'Ast_mega_eQTL'</li><li>'Oli_mega_eQTL'</li><li>'Oli_DeJager_eQTL'</li><li>'OPC_DeJager_eQTL'</li><li>'OPC_Kellis_eQTL'</li><li>'OPC_mega_eQTL'</li><li>'Ast_Kellis_eQTL'</li><li>'monocyte_ROSMAP_eQTL'</li><li>'Inh_DeJager_eQTL'</li><li>'Inh_Kellis_eQTL'</li><li>'Inh_mega_eQTL'</li><li>'Mic_Kellis_eQTL'</li><li>'DLPFC_Klein_gpQTL'</li><li>'Mic_13_Kellis_eQTL'</li><li>'Ast_10_Kellis_eQTL'</li><li>'Mic_mega_eQTL'</li><li>'Mic_12_Kellis_eQTL'</li><li>'Mic_DeJager_eQTL'</li><li>'10_MSBB_eQTL'</li></ol>\n"
      ],
      "text/latex": [
       "\\begin{enumerate*}\n",
       "\\item 'MiGA\\_THA\\_eQTL'\n",
       "\\item 'BM\\_22\\_MSBB\\_eQTL'\n",
       "\\item 'Exc\\_DeJager\\_eQTL'\n",
       "\\item 'DLPFC\\_DeJager\\_eQTL'\n",
       "\\item 'AC\\_DeJager\\_eQTL'\n",
       "\\item 'Exc\\_mega\\_eQTL'\n",
       "\\item 'DLPFC\\_Bennett\\_pQTL'\n",
       "\\item 'STARNET\\_eQTL'\n",
       "\\item 'MiGA\\_GFM\\_eQTL'\n",
       "\\item 'MiGA\\_SVZ\\_eQTL'\n",
       "\\item 'Exc\\_Kellis\\_eQTL'\n",
       "\\item 'Knight\\_eQTL'\n",
       "\\item 'MiGA\\_GTS\\_eQTL'\n",
       "\\item 'BM\\_10\\_MSBB\\_eQTL'\n",
       "\\item 'BM\\_36\\_MSBB\\_eQTL'\n",
       "\\item 'BM\\_44\\_MSBB\\_eQTL'\n",
       "\\item 'PCC\\_DeJager\\_eQTL'\n",
       "\\item 'Oli\\_Kellis\\_eQTL'\n",
       "\\item 'MSBB\\_BM36\\_pQTL'\n",
       "\\item 'Ast\\_DeJager\\_eQTL'\n",
       "\\item 'Ast\\_mega\\_eQTL'\n",
       "\\item 'Oli\\_mega\\_eQTL'\n",
       "\\item 'Oli\\_DeJager\\_eQTL'\n",
       "\\item 'OPC\\_DeJager\\_eQTL'\n",
       "\\item 'OPC\\_Kellis\\_eQTL'\n",
       "\\item 'OPC\\_mega\\_eQTL'\n",
       "\\item 'Ast\\_Kellis\\_eQTL'\n",
       "\\item 'monocyte\\_ROSMAP\\_eQTL'\n",
       "\\item 'Inh\\_DeJager\\_eQTL'\n",
       "\\item 'Inh\\_Kellis\\_eQTL'\n",
       "\\item 'Inh\\_mega\\_eQTL'\n",
       "\\item 'Mic\\_Kellis\\_eQTL'\n",
       "\\item 'DLPFC\\_Klein\\_gpQTL'\n",
       "\\item 'Mic\\_13\\_Kellis\\_eQTL'\n",
       "\\item 'Ast\\_10\\_Kellis\\_eQTL'\n",
       "\\item 'Mic\\_mega\\_eQTL'\n",
       "\\item 'Mic\\_12\\_Kellis\\_eQTL'\n",
       "\\item 'Mic\\_DeJager\\_eQTL'\n",
       "\\item '10\\_MSBB\\_eQTL'\n",
       "\\end{enumerate*}\n"
      ],
      "text/markdown": [
       "1. 'MiGA_THA_eQTL'\n",
       "2. 'BM_22_MSBB_eQTL'\n",
       "3. 'Exc_DeJager_eQTL'\n",
       "4. 'DLPFC_DeJager_eQTL'\n",
       "5. 'AC_DeJager_eQTL'\n",
       "6. 'Exc_mega_eQTL'\n",
       "7. 'DLPFC_Bennett_pQTL'\n",
       "8. 'STARNET_eQTL'\n",
       "9. 'MiGA_GFM_eQTL'\n",
       "10. 'MiGA_SVZ_eQTL'\n",
       "11. 'Exc_Kellis_eQTL'\n",
       "12. 'Knight_eQTL'\n",
       "13. 'MiGA_GTS_eQTL'\n",
       "14. 'BM_10_MSBB_eQTL'\n",
       "15. 'BM_36_MSBB_eQTL'\n",
       "16. 'BM_44_MSBB_eQTL'\n",
       "17. 'PCC_DeJager_eQTL'\n",
       "18. 'Oli_Kellis_eQTL'\n",
       "19. 'MSBB_BM36_pQTL'\n",
       "20. 'Ast_DeJager_eQTL'\n",
       "21. 'Ast_mega_eQTL'\n",
       "22. 'Oli_mega_eQTL'\n",
       "23. 'Oli_DeJager_eQTL'\n",
       "24. 'OPC_DeJager_eQTL'\n",
       "25. 'OPC_Kellis_eQTL'\n",
       "26. 'OPC_mega_eQTL'\n",
       "27. 'Ast_Kellis_eQTL'\n",
       "28. 'monocyte_ROSMAP_eQTL'\n",
       "29. 'Inh_DeJager_eQTL'\n",
       "30. 'Inh_Kellis_eQTL'\n",
       "31. 'Inh_mega_eQTL'\n",
       "32. 'Mic_Kellis_eQTL'\n",
       "33. 'DLPFC_Klein_gpQTL'\n",
       "34. 'Mic_13_Kellis_eQTL'\n",
       "35. 'Ast_10_Kellis_eQTL'\n",
       "36. 'Mic_mega_eQTL'\n",
       "37. 'Mic_12_Kellis_eQTL'\n",
       "38. 'Mic_DeJager_eQTL'\n",
       "39. '10_MSBB_eQTL'\n",
       "\n",
       "\n"
      ],
      "text/plain": [
       " [1] \"MiGA_THA_eQTL\"        \"BM_22_MSBB_eQTL\"      \"Exc_DeJager_eQTL\"    \n",
       " [4] \"DLPFC_DeJager_eQTL\"   \"AC_DeJager_eQTL\"      \"Exc_mega_eQTL\"       \n",
       " [7] \"DLPFC_Bennett_pQTL\"   \"STARNET_eQTL\"         \"MiGA_GFM_eQTL\"       \n",
       "[10] \"MiGA_SVZ_eQTL\"        \"Exc_Kellis_eQTL\"      \"Knight_eQTL\"         \n",
       "[13] \"MiGA_GTS_eQTL\"        \"BM_10_MSBB_eQTL\"      \"BM_36_MSBB_eQTL\"     \n",
       "[16] \"BM_44_MSBB_eQTL\"      \"PCC_DeJager_eQTL\"     \"Oli_Kellis_eQTL\"     \n",
       "[19] \"MSBB_BM36_pQTL\"       \"Ast_DeJager_eQTL\"     \"Ast_mega_eQTL\"       \n",
       "[22] \"Oli_mega_eQTL\"        \"Oli_DeJager_eQTL\"     \"OPC_DeJager_eQTL\"    \n",
       "[25] \"OPC_Kellis_eQTL\"      \"OPC_mega_eQTL\"        \"Ast_Kellis_eQTL\"     \n",
       "[28] \"monocyte_ROSMAP_eQTL\" \"Inh_DeJager_eQTL\"     \"Inh_Kellis_eQTL\"     \n",
       "[31] \"Inh_mega_eQTL\"        \"Mic_Kellis_eQTL\"      \"DLPFC_Klein_gpQTL\"   \n",
       "[34] \"Mic_13_Kellis_eQTL\"   \"Ast_10_Kellis_eQTL\"   \"Mic_mega_eQTL\"       \n",
       "[37] \"Mic_12_Kellis_eQTL\"   \"Mic_DeJager_eQTL\"     \"10_MSBB_eQTL\"        "
      ]
     },
     "metadata": {},
     "output_type": "display_data"
    }
   ],
   "source": [
    "fla_tb_95_dis_noQTL$study %>% str_extract(.,'^.+QTL') %>% unique "
   ]
  },
  {
   "cell_type": "code",
   "execution_count": 422,
   "id": "dd335b2f-49b8-4eba-bd30-d45f2d736a6e",
   "metadata": {},
   "outputs": [],
   "source": [
    "fla_tb_95_dis_noQTL_study_longlist <- fla_tb_95_dis_noQTL_study %>% filter(gene_name %in% long_list$Gene_name) %>% mutate(Gene_name = gene_name) %>% select(-gene_name)"
   ]
  },
  {
   "cell_type": "code",
   "execution_count": 423,
   "id": "197f51ee-1a72-4512-8d6d-9a07a71f8405",
   "metadata": {},
   "outputs": [
    {
     "data": {
      "text/html": [
       "<table class=\"dataframe\">\n",
       "<caption>A tibble: 1 x 2</caption>\n",
       "<thead>\n",
       "\t<tr><th scope=col>study_xQTL</th><th scope=col>Gene_name</th></tr>\n",
       "\t<tr><th scope=col>&lt;chr&gt;</th><th scope=col>&lt;chr&gt;</th></tr>\n",
       "</thead>\n",
       "<tbody>\n",
       "\t<tr><td>MiGA_GFM_eQTL, MiGA_SVZ_eQTL, MiGA_THA_eQTL, BM_10_MSBB_eQTL, BM_22_MSBB_eQTL, BM_36_MSBB_eQTL, Exc_DeJager_eQTL, Inh_DeJager_eQTL, DLPFC_DeJager_eQTL, PCC_DeJager_eQTL, AC_DeJager_eQTL, Exc_mega_eQTL, STARNET_eQTL_Mac</td><td>KAT8</td></tr>\n",
       "</tbody>\n",
       "</table>\n"
      ],
      "text/latex": [
       "A tibble: 1 x 2\n",
       "\\begin{tabular}{ll}\n",
       " study\\_xQTL & Gene\\_name\\\\\n",
       " <chr> & <chr>\\\\\n",
       "\\hline\n",
       "\t MiGA\\_GFM\\_eQTL, MiGA\\_SVZ\\_eQTL, MiGA\\_THA\\_eQTL, BM\\_10\\_MSBB\\_eQTL, BM\\_22\\_MSBB\\_eQTL, BM\\_36\\_MSBB\\_eQTL, Exc\\_DeJager\\_eQTL, Inh\\_DeJager\\_eQTL, DLPFC\\_DeJager\\_eQTL, PCC\\_DeJager\\_eQTL, AC\\_DeJager\\_eQTL, Exc\\_mega\\_eQTL, STARNET\\_eQTL\\_Mac & KAT8\\\\\n",
       "\\end{tabular}\n"
      ],
      "text/markdown": [
       "\n",
       "A tibble: 1 x 2\n",
       "\n",
       "| study_xQTL &lt;chr&gt; | Gene_name &lt;chr&gt; |\n",
       "|---|---|\n",
       "| MiGA_GFM_eQTL, MiGA_SVZ_eQTL, MiGA_THA_eQTL, BM_10_MSBB_eQTL, BM_22_MSBB_eQTL, BM_36_MSBB_eQTL, Exc_DeJager_eQTL, Inh_DeJager_eQTL, DLPFC_DeJager_eQTL, PCC_DeJager_eQTL, AC_DeJager_eQTL, Exc_mega_eQTL, STARNET_eQTL_Mac | KAT8 |\n",
       "\n"
      ],
      "text/plain": [
       "  study_xQTL                                                                                                                                                                                                                \n",
       "1 MiGA_GFM_eQTL, MiGA_SVZ_eQTL, MiGA_THA_eQTL, BM_10_MSBB_eQTL, BM_22_MSBB_eQTL, BM_36_MSBB_eQTL, Exc_DeJager_eQTL, Inh_DeJager_eQTL, DLPFC_DeJager_eQTL, PCC_DeJager_eQTL, AC_DeJager_eQTL, Exc_mega_eQTL, STARNET_eQTL_Mac\n",
       "  Gene_name\n",
       "1 KAT8     "
      ]
     },
     "metadata": {},
     "output_type": "display_data"
    }
   ],
   "source": [
    "fla_tb_95_dis_noQTL_study_longlist %>% filter(Gene_name == 'KAT8')"
   ]
  },
  {
   "cell_type": "code",
   "execution_count": 428,
   "id": "064641ce-2d25-447f-a794-8bf13d0fbe00",
   "metadata": {},
   "outputs": [
    {
     "name": "stderr",
     "output_type": "stream",
     "text": [
      "\u001b[1m\u001b[22mJoining with `by = join_by(Gene_name)`\n"
     ]
    }
   ],
   "source": [
    "long_list_study <- long_list %>% left_join(.,fla_tb_95_dis_noQTL_study_longlist) \n",
    "long_list_study %>% fwrite('2024Oct_gene_list_157.tsv', sep = '\\t')"
   ]
  },
  {
   "cell_type": "code",
   "execution_count": 429,
   "id": "7b24ffec-44fb-4780-baa9-98b2398a6bea",
   "metadata": {},
   "outputs": [
    {
     "data": {
      "text/html": [
       "<table class=\"dataframe\">\n",
       "<caption>A tibble: 1 x 5</caption>\n",
       "<thead>\n",
       "\t<tr><th scope=col>Gene_name</th><th scope=col>Projects_or_PI_interested</th><th scope=col>NIAGADS_debate</th><th scope=col>xQTL_debate</th><th scope=col>study_xQTL</th></tr>\n",
       "\t<tr><th scope=col>&lt;chr&gt;</th><th scope=col>&lt;chr&gt;</th><th scope=col>&lt;chr&gt;</th><th scope=col>&lt;chr&gt;</th><th scope=col>&lt;chr&gt;</th></tr>\n",
       "</thead>\n",
       "<tbody>\n",
       "\t<tr><td>BCKDK</td><td>NIAGADS_1</td><td>KAT8,ZNF843,PRSS36</td><td>NA</td><td>MiGA_THA_eQTL, Inh_Kellis_eQTL, STARNET_eQTL_Mac</td></tr>\n",
       "</tbody>\n",
       "</table>\n"
      ],
      "text/latex": [
       "A tibble: 1 x 5\n",
       "\\begin{tabular}{lllll}\n",
       " Gene\\_name & Projects\\_or\\_PI\\_interested & NIAGADS\\_debate & xQTL\\_debate & study\\_xQTL\\\\\n",
       " <chr> & <chr> & <chr> & <chr> & <chr>\\\\\n",
       "\\hline\n",
       "\t BCKDK & NIAGADS\\_1 & KAT8,ZNF843,PRSS36 & NA & MiGA\\_THA\\_eQTL, Inh\\_Kellis\\_eQTL, STARNET\\_eQTL\\_Mac\\\\\n",
       "\\end{tabular}\n"
      ],
      "text/markdown": [
       "\n",
       "A tibble: 1 x 5\n",
       "\n",
       "| Gene_name &lt;chr&gt; | Projects_or_PI_interested &lt;chr&gt; | NIAGADS_debate &lt;chr&gt; | xQTL_debate &lt;chr&gt; | study_xQTL &lt;chr&gt; |\n",
       "|---|---|---|---|---|\n",
       "| BCKDK | NIAGADS_1 | KAT8,ZNF843,PRSS36 | NA | MiGA_THA_eQTL, Inh_Kellis_eQTL, STARNET_eQTL_Mac |\n",
       "\n"
      ],
      "text/plain": [
       "  Gene_name Projects_or_PI_interested NIAGADS_debate     xQTL_debate\n",
       "1 BCKDK     NIAGADS_1                 KAT8,ZNF843,PRSS36 NA         \n",
       "  study_xQTL                                      \n",
       "1 MiGA_THA_eQTL, Inh_Kellis_eQTL, STARNET_eQTL_Mac"
      ]
     },
     "metadata": {},
     "output_type": "display_data"
    },
    {
     "data": {
      "text/html": [
       "<table class=\"dataframe\">\n",
       "<caption>A tibble: 1 x 5</caption>\n",
       "<thead>\n",
       "\t<tr><th scope=col>Gene_name</th><th scope=col>Projects_or_PI_interested</th><th scope=col>NIAGADS_debate</th><th scope=col>xQTL_debate</th><th scope=col>study_xQTL</th></tr>\n",
       "\t<tr><th scope=col>&lt;chr&gt;</th><th scope=col>&lt;chr&gt;</th><th scope=col>&lt;chr&gt;</th><th scope=col>&lt;chr&gt;</th><th scope=col>&lt;chr&gt;</th></tr>\n",
       "</thead>\n",
       "<tbody>\n",
       "\t<tr><td>KAT8</td><td>NIAGADS_1</td><td>NA</td><td>BCKDK</td><td>MiGA_GFM_eQTL, MiGA_SVZ_eQTL, MiGA_THA_eQTL, BM_10_MSBB_eQTL, BM_22_MSBB_eQTL, BM_36_MSBB_eQTL, Exc_DeJager_eQTL, Inh_DeJager_eQTL, DLPFC_DeJager_eQTL, PCC_DeJager_eQTL, AC_DeJager_eQTL, Exc_mega_eQTL, STARNET_eQTL_Mac</td></tr>\n",
       "</tbody>\n",
       "</table>\n"
      ],
      "text/latex": [
       "A tibble: 1 x 5\n",
       "\\begin{tabular}{lllll}\n",
       " Gene\\_name & Projects\\_or\\_PI\\_interested & NIAGADS\\_debate & xQTL\\_debate & study\\_xQTL\\\\\n",
       " <chr> & <chr> & <chr> & <chr> & <chr>\\\\\n",
       "\\hline\n",
       "\t KAT8 & NIAGADS\\_1 & NA & BCKDK & MiGA\\_GFM\\_eQTL, MiGA\\_SVZ\\_eQTL, MiGA\\_THA\\_eQTL, BM\\_10\\_MSBB\\_eQTL, BM\\_22\\_MSBB\\_eQTL, BM\\_36\\_MSBB\\_eQTL, Exc\\_DeJager\\_eQTL, Inh\\_DeJager\\_eQTL, DLPFC\\_DeJager\\_eQTL, PCC\\_DeJager\\_eQTL, AC\\_DeJager\\_eQTL, Exc\\_mega\\_eQTL, STARNET\\_eQTL\\_Mac\\\\\n",
       "\\end{tabular}\n"
      ],
      "text/markdown": [
       "\n",
       "A tibble: 1 x 5\n",
       "\n",
       "| Gene_name &lt;chr&gt; | Projects_or_PI_interested &lt;chr&gt; | NIAGADS_debate &lt;chr&gt; | xQTL_debate &lt;chr&gt; | study_xQTL &lt;chr&gt; |\n",
       "|---|---|---|---|---|\n",
       "| KAT8 | NIAGADS_1 | NA | BCKDK | MiGA_GFM_eQTL, MiGA_SVZ_eQTL, MiGA_THA_eQTL, BM_10_MSBB_eQTL, BM_22_MSBB_eQTL, BM_36_MSBB_eQTL, Exc_DeJager_eQTL, Inh_DeJager_eQTL, DLPFC_DeJager_eQTL, PCC_DeJager_eQTL, AC_DeJager_eQTL, Exc_mega_eQTL, STARNET_eQTL_Mac |\n",
       "\n"
      ],
      "text/plain": [
       "  Gene_name Projects_or_PI_interested NIAGADS_debate xQTL_debate\n",
       "1 KAT8      NIAGADS_1                 NA             BCKDK      \n",
       "  study_xQTL                                                                                                                                                                                                                \n",
       "1 MiGA_GFM_eQTL, MiGA_SVZ_eQTL, MiGA_THA_eQTL, BM_10_MSBB_eQTL, BM_22_MSBB_eQTL, BM_36_MSBB_eQTL, Exc_DeJager_eQTL, Inh_DeJager_eQTL, DLPFC_DeJager_eQTL, PCC_DeJager_eQTL, AC_DeJager_eQTL, Exc_mega_eQTL, STARNET_eQTL_Mac"
      ]
     },
     "metadata": {},
     "output_type": "display_data"
    }
   ],
   "source": [
    "long_list_study %>% filter(Gene_name == 'BCKDK')\n",
    "long_list_study %>% filter(Gene_name == 'KAT8')"
   ]
  },
  {
   "cell_type": "code",
   "execution_count": 430,
   "id": "30f0181f-6ccb-45ea-8c00-9af166af6344",
   "metadata": {},
   "outputs": [
    {
     "data": {
      "text/html": [
       "<table class=\"dataframe\">\n",
       "<caption>A tibble: 1 x 5</caption>\n",
       "<thead>\n",
       "\t<tr><th scope=col>Gene_name</th><th scope=col>Projects_or_PI_interested</th><th scope=col>NIAGADS_debate</th><th scope=col>xQTL_debate</th><th scope=col>study_xQTL</th></tr>\n",
       "\t<tr><th scope=col>&lt;chr&gt;</th><th scope=col>&lt;chr&gt;</th><th scope=col>&lt;chr&gt;</th><th scope=col>&lt;chr&gt;</th><th scope=col>&lt;chr&gt;</th></tr>\n",
       "</thead>\n",
       "<tbody>\n",
       "\t<tr><td>LACTB</td><td>xQTL main paper</td><td>NA</td><td>NA</td><td>Knight_eQTL_brain, MiGA_GFM_eQTL, MiGA_SVZ_eQTL, MiGA_THA_eQTL, BM_10_MSBB_eQTL, BM_22_MSBB_eQTL, BM_36_MSBB_eQTL, BM_44_MSBB_eQTL, MSBB_BM36_pQTL_chr15_ENSG00000103642_P83111, Mic_DeJager_eQTL, Oli_DeJager_eQTL, Exc_DeJager_eQTL, DLPFC_DeJager_eQTL, PCC_DeJager_eQTL, AC_DeJager_eQTL, Mic_Kellis_eQTL, Oli_Kellis_eQTL, Inh_Kellis_eQTL, Ast_mega_eQTL, Inh_mega_eQTL, Mic_mega_eQTL, Oli_mega_eQTL, DLPFC_Bennett_pQTL, STARNET_eQTL_Mac</td></tr>\n",
       "</tbody>\n",
       "</table>\n"
      ],
      "text/latex": [
       "A tibble: 1 x 5\n",
       "\\begin{tabular}{lllll}\n",
       " Gene\\_name & Projects\\_or\\_PI\\_interested & NIAGADS\\_debate & xQTL\\_debate & study\\_xQTL\\\\\n",
       " <chr> & <chr> & <chr> & <chr> & <chr>\\\\\n",
       "\\hline\n",
       "\t LACTB & xQTL main paper & NA & NA & Knight\\_eQTL\\_brain, MiGA\\_GFM\\_eQTL, MiGA\\_SVZ\\_eQTL, MiGA\\_THA\\_eQTL, BM\\_10\\_MSBB\\_eQTL, BM\\_22\\_MSBB\\_eQTL, BM\\_36\\_MSBB\\_eQTL, BM\\_44\\_MSBB\\_eQTL, MSBB\\_BM36\\_pQTL\\_chr15\\_ENSG00000103642\\_P83111, Mic\\_DeJager\\_eQTL, Oli\\_DeJager\\_eQTL, Exc\\_DeJager\\_eQTL, DLPFC\\_DeJager\\_eQTL, PCC\\_DeJager\\_eQTL, AC\\_DeJager\\_eQTL, Mic\\_Kellis\\_eQTL, Oli\\_Kellis\\_eQTL, Inh\\_Kellis\\_eQTL, Ast\\_mega\\_eQTL, Inh\\_mega\\_eQTL, Mic\\_mega\\_eQTL, Oli\\_mega\\_eQTL, DLPFC\\_Bennett\\_pQTL, STARNET\\_eQTL\\_Mac\\\\\n",
       "\\end{tabular}\n"
      ],
      "text/markdown": [
       "\n",
       "A tibble: 1 x 5\n",
       "\n",
       "| Gene_name &lt;chr&gt; | Projects_or_PI_interested &lt;chr&gt; | NIAGADS_debate &lt;chr&gt; | xQTL_debate &lt;chr&gt; | study_xQTL &lt;chr&gt; |\n",
       "|---|---|---|---|---|\n",
       "| LACTB | xQTL main paper | NA | NA | Knight_eQTL_brain, MiGA_GFM_eQTL, MiGA_SVZ_eQTL, MiGA_THA_eQTL, BM_10_MSBB_eQTL, BM_22_MSBB_eQTL, BM_36_MSBB_eQTL, BM_44_MSBB_eQTL, MSBB_BM36_pQTL_chr15_ENSG00000103642_P83111, Mic_DeJager_eQTL, Oli_DeJager_eQTL, Exc_DeJager_eQTL, DLPFC_DeJager_eQTL, PCC_DeJager_eQTL, AC_DeJager_eQTL, Mic_Kellis_eQTL, Oli_Kellis_eQTL, Inh_Kellis_eQTL, Ast_mega_eQTL, Inh_mega_eQTL, Mic_mega_eQTL, Oli_mega_eQTL, DLPFC_Bennett_pQTL, STARNET_eQTL_Mac |\n",
       "\n"
      ],
      "text/plain": [
       "  Gene_name Projects_or_PI_interested NIAGADS_debate xQTL_debate\n",
       "1 LACTB     xQTL main paper           NA             NA         \n",
       "  study_xQTL                                                                                                                                                                                                                                                                                                                                                                                                                                       \n",
       "1 Knight_eQTL_brain, MiGA_GFM_eQTL, MiGA_SVZ_eQTL, MiGA_THA_eQTL, BM_10_MSBB_eQTL, BM_22_MSBB_eQTL, BM_36_MSBB_eQTL, BM_44_MSBB_eQTL, MSBB_BM36_pQTL_chr15_ENSG00000103642_P83111, Mic_DeJager_eQTL, Oli_DeJager_eQTL, Exc_DeJager_eQTL, DLPFC_DeJager_eQTL, PCC_DeJager_eQTL, AC_DeJager_eQTL, Mic_Kellis_eQTL, Oli_Kellis_eQTL, Inh_Kellis_eQTL, Ast_mega_eQTL, Inh_mega_eQTL, Mic_mega_eQTL, Oli_mega_eQTL, DLPFC_Bennett_pQTL, STARNET_eQTL_Mac"
      ]
     },
     "metadata": {},
     "output_type": "display_data"
    }
   ],
   "source": [
    "long_list_study %>% filter(Gene_name == 'LACTB')"
   ]
  },
  {
   "cell_type": "code",
   "execution_count": 431,
   "id": "cb71c61a-3b5d-44ae-960b-e4e3f216215c",
   "metadata": {},
   "outputs": [
    {
     "data": {
      "text/html": [
       "<table class=\"dataframe\">\n",
       "<caption>A tibble: 157 x 5</caption>\n",
       "<thead>\n",
       "\t<tr><th scope=col>Gene_name</th><th scope=col>Projects_or_PI_interested</th><th scope=col>NIAGADS_debate</th><th scope=col>xQTL_debate</th><th scope=col>study_xQTL</th></tr>\n",
       "\t<tr><th scope=col>&lt;chr&gt;</th><th scope=col>&lt;chr&gt;</th><th scope=col>&lt;chr&gt;</th><th scope=col>&lt;chr&gt;</th><th scope=col>&lt;chr&gt;</th></tr>\n",
       "</thead>\n",
       "<tbody>\n",
       "\t<tr><td>ABCA1  </td><td>NIAGADS_1                                                       </td><td>consistent        </td><td>consistent</td><td>MiGA_GTS_eQTL, MiGA_SVZ_eQTL, Exc_DeJager_eQTL, AC_DeJager_eQTL, Exc_Kellis_eQTL, Exc_mega_eQTL, Inh_mega_eQTL, Mic_mega_eQTL, monocyte_ROSMAP_eQTL                                                                                                                                                                                                                                                                                                                                                                                               </td></tr>\n",
       "\t<tr><td>ABCA7  </td><td>Shulman, NIAGADS_1, NIAGADS_2                                   </td><td>NA                </td><td>NA        </td><td>Knight_eQTL_brain, MiGA_GTS_eQTL, MiGA_SVZ_eQTL, BM_22_MSBB_eQTL, BM_44_MSBB_eQTL, Oli_DeJager_eQTL, DLPFC_DeJager_eQTL, PCC_DeJager_eQTL, AC_DeJager_eQTL, Oli_Kellis_eQTL, DLPFC_Bennett_pQTL, DLPFC_Klein_gpQTL_adjusted_gp_6964_Q8IZY2, DLPFC_Klein_gpQTL_adjusted_gp_6965_Q8IZY2, DLPFC_Klein_gpQTL_unadjusted_gp_6964_Q8IZY2, DLPFC_Klein_gpQTL_unadjusted_gp_6965_Q8IZY2, monocyte_ROSMAP_eQTL, STARNET_eQTL_Mac                                                                                                                           </td></tr>\n",
       "\t<tr><td>ABHD17C</td><td>NIAGADS_1                                                       </td><td>NA                </td><td>CTSH      </td><td>MiGA_GTS_eQTL, MiGA_SVZ_eQTL, BM_22_MSBB_eQTL, Ast_DeJager_eQTL, DLPFC_DeJager_eQTL, AC_DeJager_eQTL, Ast_Kellis_eQTL, Ast_mega_eQTL, STARNET_eQTL_Mac                                                                                                                                                                                                                                                                                                                                                                                            </td></tr>\n",
       "\t<tr><td>ABI3   </td><td>NIAGADS_1, NIAGADS_2                                            </td><td>NA                </td><td>NA        </td><td>MiGA_GFM_eQTL, MiGA_GTS_eQTL, MiGA_SVZ_eQTL, BM_44_MSBB_eQTL, Mic_mega_eQTL, STARNET_eQTL_Mac                                                                                                                                                                                                                                                                                                                                                                                                                                                     </td></tr>\n",
       "\t<tr><td>ACE    </td><td>gpQTL, NIAGADS_1                                                </td><td>consistent        </td><td>consistent</td><td>Knight_eQTL_brain, BM_22_MSBB_eQTL, BM_36_MSBB_eQTL, BM_44_MSBB_eQTL, MSBB_BM36_pQTL_chr17_ENSG00000159640_P12821, Exc_DeJager_eQTL, DLPFC_DeJager_eQTL, PCC_DeJager_eQTL, Exc_mega_eQTL, DLPFC_Bennett_pQTL, DLPFC_Klein_gpQTL_adjusted_gp_2630_P12821, DLPFC_Klein_gpQTL_adjusted_gp_2632_P12821, DLPFC_Klein_gpQTL_unadjusted_gp_2629_P12821, DLPFC_Klein_gpQTL_unadjusted_gp_2630_P12821, DLPFC_Klein_gpQTL_unadjusted_gp_2632_P12821                                                                                                         </td></tr>\n",
       "\t<tr><td>ADAM10 </td><td>Shulman, NIAGADS_2                                              </td><td>NA                </td><td>NA        </td><td>MiGA_GTS_eQTL, MiGA_SVZ_eQTL, BM_36_MSBB_eQTL, Oli_DeJager_eQTL, Oli_Kellis_eQTL, Exc_Kellis_eQTL, Exc_mega_eQTL, Mic_mega_eQTL, Oli_mega_eQTL, DLPFC_Bennett_pQTL, DLPFC_Klein_gpQTL_adjusted_gp_0147_O14672, DLPFC_Klein_gpQTL_adjusted_gp_0154_O14672, DLPFC_Klein_gpQTL_adjusted_gp_0155_O14672, DLPFC_Klein_gpQTL_adjusted_gp_0156_O14672, DLPFC_Klein_gpQTL_adjusted_gp_0157_O14672, DLPFC_Klein_gpQTL_unadjusted_gp_0154_O14672, DLPFC_Klein_gpQTL_unadjusted_gp_0156_O14672, DLPFC_Klein_gpQTL_unadjusted_gp_0157_O14672, STARNET_eQTL_Mac</td></tr>\n",
       "\t<tr><td>ADAM17 </td><td>xQTL main paper, Shulman, NIAGADS_1                             </td><td>ITGB1BP1          </td><td>NA        </td><td>Knight_eQTL_brain, MiGA_GTS_eQTL, MiGA_SVZ_eQTL, MiGA_THA_eQTL, BM_10_MSBB_eQTL, BM_22_MSBB_eQTL, BM_36_MSBB_eQTL, BM_44_MSBB_eQTL, Ast_DeJager_eQTL, Oli_DeJager_eQTL, Exc_DeJager_eQTL, Inh_DeJager_eQTL, DLPFC_DeJager_eQTL, PCC_DeJager_eQTL, AC_DeJager_eQTL, Ast_Kellis_eQTL, Oli_Kellis_eQTL, Exc_Kellis_eQTL, Ast_mega_eQTL, Exc_mega_eQTL, Inh_mega_eQTL, Mic_mega_eQTL, OPC_mega_eQTL, Oli_mega_eQTL, DLPFC_Klein_gpQTL_adjusted_gp_5127_P78536                                                                                         </td></tr>\n",
       "\t<tr><td>ADAMTS1</td><td>NIAGADS_1                                                       </td><td>NA                </td><td>NA        </td><td>MiGA_GFM_eQTL, MiGA_GTS_eQTL, MiGA_SVZ_eQTL, MiGA_THA_eQTL                                                                                                                                                                                                                                                                                                                                                                                                                                                                                        </td></tr>\n",
       "\t<tr><td>AKAP9  </td><td>Shulman                                                         </td><td>NA                </td><td>NA        </td><td>NA                                                                                                                                                                                                                                                                                                                                                                                                                                                                                                                                                </td></tr>\n",
       "\t<tr><td>ALDH1A2</td><td>Shulman                                                         </td><td>NA                </td><td>NA        </td><td>MSBB_BM36_pQTL_chr15_ENSG00000128918_O94788, Oli_DeJager_eQTL, Exc_DeJager_eQTL, Inh_DeJager_eQTL, DLPFC_DeJager_eQTL, AC_DeJager_eQTL, Oli_Kellis_eQTL, Exc_Kellis_eQTL, Exc_mega_eQTL, Inh_mega_eQTL, Oli_mega_eQTL, STARNET_eQTL_Mac                                                                                                                                                                                                                                                                                                           </td></tr>\n",
       "\t<tr><td>ANK3   </td><td>NIAGADS_1                                                       </td><td>NA                </td><td>NA        </td><td>Knight_eQTL_brain, MiGA_GTS_eQTL, MiGA_SVZ_eQTL, BM_10_MSBB_eQTL, BM_22_MSBB_eQTL, BM_36_MSBB_eQTL, BM_44_MSBB_eQTL, MSBB_BM36_pQTL_chr10_ENSG00000151150_H0YAH5, Oli_DeJager_eQTL, DLPFC_DeJager_eQTL, AC_DeJager_eQTL, Oli_Kellis_eQTL, Exc_Kellis_eQTL, Inh_mega_eQTL, OPC_mega_eQTL, Oli_mega_eQTL                                                                                                                                                                                                                                            </td></tr>\n",
       "\t<tr><td>ANKH   </td><td>NIAGADS_1                                                       </td><td>NA                </td><td>NA        </td><td>MiGA_GFM_eQTL, MiGA_GTS_eQTL, MiGA_SVZ_eQTL, Oli_DeJager_eQTL, Exc_DeJager_eQTL, Inh_DeJager_eQTL, AC_DeJager_eQTL, Ast_Kellis_eQTL, Oli_Kellis_eQTL, Exc_Kellis_eQTL, Inh_Kellis_eQTL, Exc_mega_eQTL, Inh_mega_eQTL, OPC_mega_eQTL, Oli_mega_eQTL, STARNET_eQTL_Mac                                                                                                                                                                                                                                                                              </td></tr>\n",
       "\t<tr><td>AP4M1  </td><td>Shulman                                                         </td><td>NA                </td><td>NA        </td><td>MiGA_GFM_eQTL, MiGA_GTS_eQTL, MiGA_SVZ_eQTL, MiGA_THA_eQTL, MSBB_BM36_pQTL_chr7_ENSG00000221838_O00189                                                                                                                                                                                                                                                                                                                                                                                                                                            </td></tr>\n",
       "\t<tr><td>APBB3  </td><td>NIAGADS_2                                                       </td><td>NA                </td><td>NA        </td><td>MiGA_SVZ_eQTL, DLPFC_DeJager_eQTL, AC_DeJager_eQTL, Ast_Kellis_eQTL, Oli_Kellis_eQTL                                                                                                                                                                                                                                                                                                                                                                                                                                                              </td></tr>\n",
       "\t<tr><td>APH1B  </td><td>xQTL main paper, Shulman, NIAGADS_1                             </td><td>consistent        </td><td>consistent</td><td>MiGA_GTS_eQTL, MiGA_SVZ_eQTL, MiGA_THA_eQTL, BM_10_MSBB_eQTL, BM_36_MSBB_eQTL, Oli_DeJager_eQTL, Exc_DeJager_eQTL, DLPFC_DeJager_eQTL, AC_DeJager_eQTL, Oli_Kellis_eQTL, Exc_Kellis_eQTL, Inh_Kellis_eQTL, Ast_mega_eQTL, Exc_mega_eQTL, Inh_mega_eQTL, OPC_mega_eQTL, Oli_mega_eQTL                                                                                                                                                                                                                                                              </td></tr>\n",
       "\t<tr><td>APOC1  </td><td>xQTL main paper                                                 </td><td>NA                </td><td>NA        </td><td>MiGA_GFM_eQTL, MiGA_GTS_eQTL, MSBB_BM36_pQTL_chr19_ENSG00000130208_P02654, Mic_DeJager_eQTL, DLPFC_DeJager_eQTL, AC_DeJager_eQTL, Mic_mega_eQTL, STARNET_eQTL_Mac                                                                                                                                                                                                                                                                                                                                                                                 </td></tr>\n",
       "\t<tr><td>APOC4  </td><td>xQTL main paper                                                 </td><td>NA                </td><td>NA        </td><td>BM_36_MSBB_eQTL, STARNET_eQTL_Mac                                                                                                                                                                                                                                                                                                                                                                                                                                                                                                                 </td></tr>\n",
       "\t<tr><td>APOE   </td><td>Shulman, NIAGADS_2                                              </td><td>NA                </td><td>NA        </td><td>MiGA_SVZ_eQTL, Mic_Kellis_eQTL, Ast_10_Kellis_eQTL, DLPFC_Klein_gpQTL_adjusted_gp_1235_P02649, DLPFC_Klein_gpQTL_unadjusted_gp_1235_P02649, monocyte_ROSMAP_eQTL, STARNET_eQTL_Mac                                                                                                                                                                                                                                                                                                                                                                </td></tr>\n",
       "\t<tr><td>APP    </td><td>xQTL main paper, Shulman, St George-Hyslop, NIAGADS_1, NIAGADS_2</td><td>NA                </td><td>NA        </td><td>BM_36_MSBB_eQTL, Oli_DeJager_eQTL, AC_DeJager_eQTL, Oli_Kellis_eQTL, Exc_mega_eQTL, Mic_mega_eQTL, Oli_mega_eQTL                                                                                                                                                                                                                                                                                                                                                                                                                                  </td></tr>\n",
       "\t<tr><td>AQP9   </td><td>Shulman                                                         </td><td>NA                </td><td>NA        </td><td>MiGA_GFM_eQTL, MiGA_SVZ_eQTL, MiGA_THA_eQTL                                                                                                                                                                                                                                                                                                                                                                                                                                                                                                       </td></tr>\n",
       "\t<tr><td>ARRB2  </td><td>Shulman                                                         </td><td>NA                </td><td>NA        </td><td>MiGA_GTS_eQTL, MiGA_SVZ_eQTL, DLPFC_Bennett_pQTL, STARNET_eQTL_Mac                                                                                                                                                                                                                                                                                                                                                                                                                                                                                </td></tr>\n",
       "\t<tr><td>ARSA   </td><td>Shulman                                                         </td><td>NA                </td><td>NA        </td><td>MiGA_GFM_eQTL, MiGA_GTS_eQTL, MiGA_SVZ_eQTL, MiGA_THA_eQTL, BM_22_MSBB_eQTL, BM_44_MSBB_eQTL, MSBB_BM36_pQTL_chr22_ENSG00000100299_P15289, Ast_DeJager_eQTL, Oli_DeJager_eQTL, Exc_DeJager_eQTL, DLPFC_DeJager_eQTL, PCC_DeJager_eQTL, AC_DeJager_eQTL, Oli_Kellis_eQTL, OPC_Kellis_eQTL, Exc_Kellis_eQTL, Inh_Kellis_eQTL, Ast_mega_eQTL, Exc_mega_eQTL, Inh_mega_eQTL, Oli_mega_eQTL, DLPFC_Bennett_pQTL, monocyte_ROSMAP_eQTL, STARNET_eQTL_Mac                                                                                                </td></tr>\n",
       "\t<tr><td>BCKDK  </td><td>NIAGADS_1                                                       </td><td>KAT8,ZNF843,PRSS36</td><td>NA        </td><td>MiGA_THA_eQTL, Inh_Kellis_eQTL, STARNET_eQTL_Mac                                                                                                                                                                                                                                                                                                                                                                                                                                                                                                  </td></tr>\n",
       "\t<tr><td>BIN1   </td><td>Shulman, NIAGADS_1, NIAGADS_2                                   </td><td>consistent        </td><td>consistent</td><td>MiGA_THA_eQTL, Mic_DeJager_eQTL, Exc_DeJager_eQTL, PCC_DeJager_eQTL, AC_DeJager_eQTL, Mic_Kellis_eQTL, Exc_Kellis_eQTL, Mic_13_Kellis_eQTL, Exc_mega_eQTL, Mic_mega_eQTL, DLPFC_Bennett_pQTL, DLPFC_Klein_gpQTL_unadjusted_gp_0060_O00499, STARNET_eQTL_Mac                                                                                                                                                                                                                                                                                       </td></tr>\n",
       "\t<tr><td>BLNK   </td><td>ColocBoost, NIAGADS_1                                           </td><td>NA                </td><td>NA        </td><td>MiGA_GFM_eQTL, MiGA_GTS_eQTL, MiGA_SVZ_eQTL, MiGA_THA_eQTL, BM_10_MSBB_eQTL, AC_DeJager_eQTL, Mic_Kellis_eQTL, Mic_13_Kellis_eQTL, Mic_mega_eQTL, monocyte_ROSMAP_eQTL                                                                                                                                                                                                                                                                                                                                                                            </td></tr>\n",
       "\t<tr><td>C1S    </td><td>xQTL main paper                                                 </td><td>NA                </td><td>NA        </td><td>MiGA_GTS_eQTL, MiGA_THA_eQTL, BM_44_MSBB_eQTL, Oli_DeJager_eQTL, Inh_DeJager_eQTL, Oli_Kellis_eQTL, Exc_mega_eQTL, Inh_mega_eQTL, DLPFC_Bennett_pQTL                                                                                                                                                                                                                                                                                                                                                                                              </td></tr>\n",
       "\t<tr><td>C4A    </td><td>Shulman                                                         </td><td>NA                </td><td>NA        </td><td>NA                                                                                                                                                                                                                                                                                                                                                                                                                                                                                                                                                </td></tr>\n",
       "\t<tr><td>C4B    </td><td>Shulman                                                         </td><td>NA                </td><td>NA        </td><td>NA                                                                                                                                                                                                                                                                                                                                                                                                                                                                                                                                                </td></tr>\n",
       "\t<tr><td>CARHSP1</td><td>Shulman                                                         </td><td>NA                </td><td>NA        </td><td>MiGA_GFM_eQTL, MiGA_SVZ_eQTL, MiGA_THA_eQTL, BM_10_MSBB_eQTL, MSBB_BM36_pQTL_chr16_ENSG00000153048_Q9Y2V2, Exc_DeJager_eQTL, Inh_DeJager_eQTL, DLPFC_DeJager_eQTL, PCC_DeJager_eQTL, AC_DeJager_eQTL, Oli_Kellis_eQTL, Exc_Kellis_eQTL, Inh_Kellis_eQTL, Exc_mega_eQTL, Inh_mega_eQTL, Oli_mega_eQTL, DLPFC_Bennett_pQTL, monocyte_ROSMAP_eQTL                                                                                                                                                                                                    </td></tr>\n",
       "\t<tr><td>CASP7  </td><td>NIAGADS_2                                                       </td><td>NA                </td><td>NA        </td><td>Knight_eQTL_brain, MiGA_GFM_eQTL, MiGA_GTS_eQTL, MiGA_SVZ_eQTL, MiGA_THA_eQTL, BM_10_MSBB_eQTL, BM_22_MSBB_eQTL, BM_36_MSBB_eQTL, BM_44_MSBB_eQTL, MSBB_BM36_pQTL_chr10_ENSG00000165806_P55210, Ast_DeJager_eQTL, DLPFC_DeJager_eQTL, PCC_DeJager_eQTL, AC_DeJager_eQTL, Ast_Kellis_eQTL, Ast_mega_eQTL, monocyte_ROSMAP_eQTL, STARNET_eQTL_Mac                                                                                                                                                                                                   </td></tr>\n",
       "\t<tr><td>...</td><td>...</td><td>...</td><td>...</td><td>...</td></tr>\n",
       "\t<tr><td>SNRNP70 </td><td>NIAGADS_1                            </td><td>NA          </td><td>LILRB2    </td><td>MiGA_GFM_eQTL, MiGA_GTS_eQTL, MiGA_SVZ_eQTL, MiGA_THA_eQTL, MSBB_BM36_pQTL_chr19_ENSG00000104852_P08621-4, Oli_DeJager_eQTL, AC_DeJager_eQTL, Oli_Kellis_eQTL, Ast_10_Kellis_eQTL, Ast_mega_eQTL, Oli_mega_eQTL, monocyte_ROSMAP_eQTL, STARNET_eQTL_Mac                                                                                                                                                                                                                                                                                                                                                                                                            </td></tr>\n",
       "\t<tr><td>SNX1    </td><td>NIAGADS_1                            </td><td>consistent  </td><td>consistent</td><td>MiGA_GFM_eQTL, MiGA_THA_eQTL, BM_44_MSBB_eQTL, DLPFC_DeJager_eQTL, PCC_DeJager_eQTL, AC_DeJager_eQTL, monocyte_ROSMAP_eQTL                                                                                                                                                                                                                                                                                                                                                                                                                                                                                                                                         </td></tr>\n",
       "\t<tr><td>SNX32   </td><td>Shulman                              </td><td>NA          </td><td>NA        </td><td>Knight_eQTL_brain, MiGA_GFM_eQTL, MiGA_SVZ_eQTL, BM_10_MSBB_eQTL, BM_22_MSBB_eQTL, BM_36_MSBB_eQTL, BM_44_MSBB_eQTL, MSBB_BM36_pQTL_chr11_ENSG00000172803_Q86XE0, Ast_DeJager_eQTL, Exc_DeJager_eQTL, Inh_DeJager_eQTL, DLPFC_DeJager_eQTL, PCC_DeJager_eQTL, AC_DeJager_eQTL, Exc_Kellis_eQTL, Ast_mega_eQTL, Exc_mega_eQTL, Inh_mega_eQTL, DLPFC_Bennett_pQTL, STARNET_eQTL_Mac                                                                                                                                                                                                                                                                                  </td></tr>\n",
       "\t<tr><td>SORL1   </td><td>NIAGADS_1, NIAGADS_2                 </td><td>NA          </td><td>NA        </td><td>MiGA_GFM_eQTL, MiGA_SVZ_eQTL, MiGA_THA_eQTL, AC_DeJager_eQTL, Mic_Kellis_eQTL, Ast_Kellis_eQTL, Exc_Kellis_eQTL, Ast_mega_eQTL, Inh_mega_eQTL, Mic_mega_eQTL, Oli_mega_eQTL, DLPFC_Klein_gpQTL_adjusted_gp_7280_Q92673, DLPFC_Klein_gpQTL_adjusted_gp_7281_Q92673, DLPFC_Klein_gpQTL_unadjusted_gp_7276_Q92673, DLPFC_Klein_gpQTL_unadjusted_gp_7281_Q92673, DLPFC_Klein_gpQTL_unadjusted_gp_7285_Q92673, DLPFC_Klein_gpQTL_unadjusted_gp_7288_Q92673                                                                                                                                                                                                              </td></tr>\n",
       "\t<tr><td>SORT1   </td><td>NIAGADS_1                            </td><td>NA          </td><td>NA        </td><td>MiGA_GTS_eQTL, MiGA_THA_eQTL, Oli_DeJager_eQTL, AC_DeJager_eQTL, Oli_Kellis_eQTL, Exc_Kellis_eQTL, Ast_10_Kellis_eQTL, Oli_mega_eQTL, DLPFC_Bennett_pQTL, DLPFC_Klein_gpQTL_adjusted_gp_7923_Q99523, DLPFC_Klein_gpQTL_adjusted_gp_7928_Q99523, DLPFC_Klein_gpQTL_unadjusted_gp_7917_Q99523, DLPFC_Klein_gpQTL_unadjusted_gp_7923_Q99523, DLPFC_Klein_gpQTL_unadjusted_gp_7924_Q99523, DLPFC_Klein_gpQTL_unadjusted_gp_7927_Q99523, DLPFC_Klein_gpQTL_unadjusted_gp_7928_Q99523, DLPFC_Klein_gpQTL_unadjusted_gp_7929_Q99523, DLPFC_Klein_gpQTL_unadjusted_gp_7931_Q99523, DLPFC_Klein_gpQTL_unadjusted_gp_7933_Q99523, DLPFC_Klein_gpQTL_unadjusted_gp_7936_Q99523</td></tr>\n",
       "\t<tr><td>SPDYE3  </td><td>NIAGADS_1                            </td><td>NA          </td><td>NA        </td><td>Ast_DeJager_eQTL, Oli_DeJager_eQTL, Exc_DeJager_eQTL, Inh_DeJager_eQTL, Exc_Kellis_eQTL, Exc_mega_eQTL, Inh_mega_eQTL                                                                                                                                                                                                                                                                                                                                                                                                                                                                                                                                              </td></tr>\n",
       "\t<tr><td>SPI1    </td><td>xQTL main paper, NIAGADS_1, NIAGADS_2</td><td>NA          </td><td>NA        </td><td>MiGA_THA_eQTL, STARNET_eQTL_Mac                                                                                                                                                                                                                                                                                                                                                                                                                                                                                                                                                                                                                                    </td></tr>\n",
       "\t<tr><td>SPPL2A  </td><td>Shulman, NIAGADS_1                   </td><td>consistent  </td><td>consistent</td><td>MiGA_GFM_eQTL, MiGA_GTS_eQTL, MiGA_SVZ_eQTL, MiGA_THA_eQTL, Inh_DeJager_eQTL, DLPFC_DeJager_eQTL, AC_DeJager_eQTL, Exc_Kellis_eQTL, Exc_mega_eQTL, Inh_mega_eQTL, Oli_mega_eQTL, DLPFC_Bennett_pQTL, STARNET_eQTL_Mac                                                                                                                                                                                                                                                                                                                                                                                                                                              </td></tr>\n",
       "\t<tr><td>SPRED2  </td><td>Shulman                              </td><td>NA          </td><td>NA        </td><td>MiGA_GFM_eQTL, MiGA_GTS_eQTL, Ast_mega_eQTL, STARNET_eQTL_Mac                                                                                                                                                                                                                                                                                                                                                                                                                                                                                                                                                                                                      </td></tr>\n",
       "\t<tr><td>STAG3   </td><td>Shulman                              </td><td>NA          </td><td>NA        </td><td>MiGA_GFM_eQTL, MiGA_GTS_eQTL, MiGA_SVZ_eQTL, MiGA_THA_eQTL, BM_10_MSBB_eQTL, BM_22_MSBB_eQTL, BM_36_MSBB_eQTL, Ast_DeJager_eQTL, Oli_DeJager_eQTL, Exc_DeJager_eQTL, Inh_DeJager_eQTL, DLPFC_DeJager_eQTL, PCC_DeJager_eQTL, Ast_Kellis_eQTL, Exc_mega_eQTL                                                                                                                                                                                                                                                                                                                                                                                                        </td></tr>\n",
       "\t<tr><td>STMN4   </td><td>Shulman                              </td><td>NA          </td><td>NA        </td><td>Knight_eQTL_brain, MiGA_SVZ_eQTL, MiGA_THA_eQTL, BM_10_MSBB_eQTL, BM_22_MSBB_eQTL, BM_36_MSBB_eQTL, BM_44_MSBB_eQTL, MSBB_BM36_pQTL_chr8_ENSG00000015592_Q9H169, Oli_DeJager_eQTL, DLPFC_DeJager_eQTL, PCC_DeJager_eQTL, AC_DeJager_eQTL, Oli_Kellis_eQTL, Oli_mega_eQTL, DLPFC_Bennett_pQTL                                                                                                                                                                                                                                                                                                                                                                       </td></tr>\n",
       "\t<tr><td>STX6    </td><td>Shulman                              </td><td>NA          </td><td>NA        </td><td>MiGA_GFM_eQTL, MiGA_SVZ_eQTL, MiGA_THA_eQTL, BM_22_MSBB_eQTL, BM_36_MSBB_eQTL, Exc_DeJager_eQTL, AC_DeJager_eQTL, Mic_Kellis_eQTL, Oli_Kellis_eQTL, Exc_Kellis_eQTL, Inh_Kellis_eQTL, Exc_mega_eQTL, Inh_mega_eQTL, Mic_mega_eQTL, OPC_mega_eQTL, Oli_mega_eQTL, STARNET_eQTL_Mac                                                                                                                                                                                                                                                                                                                                                                                  </td></tr>\n",
       "\t<tr><td>TMEM106B</td><td>gpQTL, NIAGADS_1                     </td><td>NA          </td><td>NA        </td><td>MiGA_GFM_eQTL, MiGA_GTS_eQTL, MiGA_THA_eQTL, Exc_mega_eQTL, Inh_mega_eQTL, DLPFC_Bennett_pQTL, DLPFC_Klein_gpQTL_unadjusted_gp_8491_Q9NUM4, STARNET_eQTL_Mac                                                                                                                                                                                                                                                                                                                                                                                                                                                                                                       </td></tr>\n",
       "\t<tr><td>TNIP1   </td><td>NIAGADS_1                            </td><td>consistent  </td><td>consistent</td><td>MiGA_GTS_eQTL, MiGA_SVZ_eQTL, BM_44_MSBB_eQTL, Exc_DeJager_eQTL, DLPFC_DeJager_eQTL, PCC_DeJager_eQTL                                                                                                                                                                                                                                                                                                                                                                                                                                                                                                                                                              </td></tr>\n",
       "\t<tr><td>TPCN1   </td><td>NIAGADS_1                            </td><td>NA          </td><td>NA        </td><td>MiGA_GFM_eQTL, MiGA_GTS_eQTL, MiGA_SVZ_eQTL, Ast_10_Kellis_eQTL                                                                                                                                                                                                                                                                                                                                                                                                                                                                                                                                                                                                    </td></tr>\n",
       "\t<tr><td>TREM2   </td><td>xQTL main paper, NIAGADS_1, NIAGADS_2</td><td>NA          </td><td>NA        </td><td>MiGA_THA_eQTL, BM_36_MSBB_eQTL, BM_44_MSBB_eQTL, DLPFC_DeJager_eQTL, PCC_DeJager_eQTL, AC_DeJager_eQTL, STARNET_eQTL_Mac                                                                                                                                                                                                                                                                                                                                                                                                                                                                                                                                           </td></tr>\n",
       "\t<tr><td>TREML2  </td><td>xQTL main paper, NIAGADS_1           </td><td>NA          </td><td>NA        </td><td>monocyte_ROSMAP_eQTL, STARNET_eQTL_Mac                                                                                                                                                                                                                                                                                                                                                                                                                                                                                                                                                                                                                             </td></tr>\n",
       "\t<tr><td>TSPAN14 </td><td>LeafCutter2, Shulman, NIAGADS_1      </td><td>NA          </td><td>NA        </td><td>Knight_eQTL_brain, MiGA_THA_eQTL, BM_10_MSBB_eQTL, BM_36_MSBB_eQTL, BM_44_MSBB_eQTL, MSBB_BM36_pQTL_chr10_ENSG00000108219_Q8NG11, Oli_DeJager_eQTL, DLPFC_DeJager_eQTL, PCC_DeJager_eQTL, AC_DeJager_eQTL, Ast_Kellis_eQTL, Oli_Kellis_eQTL, Exc_Kellis_eQTL, Mic_13_Kellis_eQTL, Ast_mega_eQTL, Exc_mega_eQTL, Oli_mega_eQTL, STARNET_eQTL_Mac                                                                                                                                                                                                                                                                                                                    </td></tr>\n",
       "\t<tr><td>TSPOAP1 </td><td>NIAGADS_1                            </td><td>GDPD1       </td><td>NA        </td><td>MiGA_GFM_eQTL, MiGA_SVZ_eQTL, MiGA_THA_eQTL, BM_10_MSBB_eQTL, BM_22_MSBB_eQTL, BM_36_MSBB_eQTL, BM_44_MSBB_eQTL, Ast_DeJager_eQTL, OPC_DeJager_eQTL, Exc_DeJager_eQTL, Inh_DeJager_eQTL, AC_DeJager_eQTL, Ast_Kellis_eQTL, OPC_Kellis_eQTL, Exc_Kellis_eQTL, Ast_10_Kellis_eQTL, Ast_mega_eQTL, Exc_mega_eQTL, Inh_mega_eQTL, OPC_mega_eQTL                                                                                                                                                                                                                                                                                                                        </td></tr>\n",
       "\t<tr><td>UMAD1   </td><td>NIAGADS_1                            </td><td>NA          </td><td>NA        </td><td>MiGA_GTS_eQTL, MiGA_SVZ_eQTL, MiGA_THA_eQTL, BM_36_MSBB_eQTL, MSBB_BM36_pQTL_chr7_ENSG00000219545_C9J7I0, DLPFC_DeJager_eQTL, AC_DeJager_eQTL, Exc_Kellis_eQTL, Ast_10_Kellis_eQTL, Exc_mega_eQTL, STARNET_eQTL_Mac                                                                                                                                                                                                                                                                                                                                                                                                                                                </td></tr>\n",
       "\t<tr><td>UNC5CL  </td><td>NIAGADS_1                            </td><td>NA          </td><td>NA        </td><td>MiGA_GFM_eQTL, MiGA_THA_eQTL                                                                                                                                                                                                                                                                                                                                                                                                                                                                                                                                                                                                                                       </td></tr>\n",
       "\t<tr><td>USP6NL  </td><td>xQTL main paper, NIAGADS_1           </td><td>NA          </td><td>NA        </td><td>MiGA_GTS_eQTL, MiGA_THA_eQTL, BM_36_MSBB_eQTL, Mic_DeJager_eQTL, Oli_DeJager_eQTL, Exc_DeJager_eQTL, Inh_DeJager_eQTL, DLPFC_DeJager_eQTL, PCC_DeJager_eQTL, AC_DeJager_eQTL, Mic_Kellis_eQTL, Oli_Kellis_eQTL, Exc_mega_eQTL, Inh_mega_eQTL, Mic_mega_eQTL, OPC_mega_eQTL, Oli_mega_eQTL, STARNET_eQTL_Mac                                                                                                                                                                                                                                                                                                                                                        </td></tr>\n",
       "\t<tr><td>WDR12   </td><td>xQTL main paper, NIAGADS_1           </td><td>WDR12,NBEAL1</td><td>NA        </td><td>BM_22_MSBB_eQTL, BM_44_MSBB_eQTL, DLPFC_DeJager_eQTL, PCC_DeJager_eQTL, AC_DeJager_eQTL, Exc_mega_eQTL, monocyte_ROSMAP_eQTL                                                                                                                                                                                                                                                                                                                                                                                                                                                                                                                                       </td></tr>\n",
       "\t<tr><td>WDR81   </td><td>NIAGADS_1                            </td><td>NA          </td><td>NA        </td><td>MiGA_GFM_eQTL, MiGA_GTS_eQTL, MiGA_SVZ_eQTL, MiGA_THA_eQTL, MSBB_BM36_pQTL_chr17_ENSG00000167716_Q562E7, Exc_DeJager_eQTL, AC_DeJager_eQTL, Ast_Kellis_eQTL, Exc_Kellis_eQTL, Exc_mega_eQTL, DLPFC_Bennett_pQTL, STARNET_eQTL_Mac                                                                                                                                                                                                                                                                                                                                                                                                                                  </td></tr>\n",
       "\t<tr><td>WNT3    </td><td>NIAGADS_1                            </td><td>NA          </td><td>NA        </td><td>Knight_eQTL_brain, MiGA_GFM_eQTL, MiGA_SVZ_eQTL, MiGA_THA_eQTL, BM_10_MSBB_eQTL, BM_22_MSBB_eQTL, BM_36_MSBB_eQTL, BM_44_MSBB_eQTL, Exc_DeJager_eQTL, DLPFC_DeJager_eQTL, PCC_DeJager_eQTL, AC_DeJager_eQTL, Exc_mega_eQTL, Inh_mega_eQTL                                                                                                                                                                                                                                                                                                                                                                                                                          </td></tr>\n",
       "\t<tr><td>WWOX    </td><td>Shulman                              </td><td>NA          </td><td>NA        </td><td>Knight_eQTL_brain, MiGA_GFM_eQTL, MiGA_SVZ_eQTL, MiGA_THA_eQTL, BM_10_MSBB_eQTL, BM_22_MSBB_eQTL, BM_36_MSBB_eQTL, BM_44_MSBB_eQTL, MSBB_BM36_pQTL_chr16_ENSG00000186153_Q9NZC7, Mic_DeJager_eQTL, Ast_DeJager_eQTL, Oli_DeJager_eQTL, OPC_DeJager_eQTL, Exc_DeJager_eQTL, Inh_DeJager_eQTL, DLPFC_DeJager_eQTL, PCC_DeJager_eQTL, AC_DeJager_eQTL, Mic_Kellis_eQTL, Ast_Kellis_eQTL, Oli_Kellis_eQTL, OPC_Kellis_eQTL, Exc_Kellis_eQTL, Inh_Kellis_eQTL, Ast_10_Kellis_eQTL, Ast_mega_eQTL, Exc_mega_eQTL, Inh_mega_eQTL, Mic_mega_eQTL, OPC_mega_eQTL, Oli_mega_eQTL, DLPFC_Bennett_pQTL, STARNET_eQTL_Mac                                                       </td></tr>\n",
       "\t<tr><td>YOD1    </td><td>Shulman                              </td><td>NA          </td><td>NA        </td><td>MiGA_GFM_eQTL, BM_44_MSBB_eQTL, MSBB_BM36_pQTL_chr1_ENSG00000180667_Q5VVQ6, Exc_DeJager_eQTL, Inh_DeJager_eQTL, DLPFC_DeJager_eQTL, PCC_DeJager_eQTL, AC_DeJager_eQTL, Exc_Kellis_eQTL, Exc_mega_eQTL, DLPFC_Bennett_pQTL                                                                                                                                                                                                                                                                                                                                                                                                                                          </td></tr>\n",
       "\t<tr><td>ZNF843  </td><td>NIAGADS_1                            </td><td>NA          </td><td>BCKDK     </td><td>MiGA_GTS_eQTL, MiGA_SVZ_eQTL, MiGA_THA_eQTL, AC_DeJager_eQTL, monocyte_ROSMAP_eQTL                                                                                                                                                                                                                                                                                                                                                                                                                                                                                                                                                                                 </td></tr>\n",
       "\t<tr><td>ZYX     </td><td>xQTL main paper                      </td><td>NA          </td><td>NA        </td><td>MiGA_SVZ_eQTL, BM_36_MSBB_eQTL, Mic_DeJager_eQTL, Inh_DeJager_eQTL, PCC_DeJager_eQTL, AC_DeJager_eQTL, DLPFC_Bennett_pQTL, monocyte_ROSMAP_eQTL, STARNET_eQTL_Mac                                                                                                                                                                                                                                                                                                                                                                                                                                                                                                  </td></tr>\n",
       "\t<tr><td>LACTB   </td><td>xQTL main paper                      </td><td>NA          </td><td>NA        </td><td>Knight_eQTL_brain, MiGA_GFM_eQTL, MiGA_SVZ_eQTL, MiGA_THA_eQTL, BM_10_MSBB_eQTL, BM_22_MSBB_eQTL, BM_36_MSBB_eQTL, BM_44_MSBB_eQTL, MSBB_BM36_pQTL_chr15_ENSG00000103642_P83111, Mic_DeJager_eQTL, Oli_DeJager_eQTL, Exc_DeJager_eQTL, DLPFC_DeJager_eQTL, PCC_DeJager_eQTL, AC_DeJager_eQTL, Mic_Kellis_eQTL, Oli_Kellis_eQTL, Inh_Kellis_eQTL, Ast_mega_eQTL, Inh_mega_eQTL, Mic_mega_eQTL, Oli_mega_eQTL, DLPFC_Bennett_pQTL, STARNET_eQTL_Mac                                                                                                                                                                                                                  </td></tr>\n",
       "</tbody>\n",
       "</table>\n"
      ],
      "text/latex": [
       "A tibble: 157 x 5\n",
       "\\begin{tabular}{lllll}\n",
       " Gene\\_name & Projects\\_or\\_PI\\_interested & NIAGADS\\_debate & xQTL\\_debate & study\\_xQTL\\\\\n",
       " <chr> & <chr> & <chr> & <chr> & <chr>\\\\\n",
       "\\hline\n",
       "\t ABCA1   & NIAGADS\\_1                                                        & consistent         & consistent & MiGA\\_GTS\\_eQTL, MiGA\\_SVZ\\_eQTL, Exc\\_DeJager\\_eQTL, AC\\_DeJager\\_eQTL, Exc\\_Kellis\\_eQTL, Exc\\_mega\\_eQTL, Inh\\_mega\\_eQTL, Mic\\_mega\\_eQTL, monocyte\\_ROSMAP\\_eQTL                                                                                                                                                                                                                                                                                                                                                                                               \\\\\n",
       "\t ABCA7   & Shulman, NIAGADS\\_1, NIAGADS\\_2                                    & NA                 & NA         & Knight\\_eQTL\\_brain, MiGA\\_GTS\\_eQTL, MiGA\\_SVZ\\_eQTL, BM\\_22\\_MSBB\\_eQTL, BM\\_44\\_MSBB\\_eQTL, Oli\\_DeJager\\_eQTL, DLPFC\\_DeJager\\_eQTL, PCC\\_DeJager\\_eQTL, AC\\_DeJager\\_eQTL, Oli\\_Kellis\\_eQTL, DLPFC\\_Bennett\\_pQTL, DLPFC\\_Klein\\_gpQTL\\_adjusted\\_gp\\_6964\\_Q8IZY2, DLPFC\\_Klein\\_gpQTL\\_adjusted\\_gp\\_6965\\_Q8IZY2, DLPFC\\_Klein\\_gpQTL\\_unadjusted\\_gp\\_6964\\_Q8IZY2, DLPFC\\_Klein\\_gpQTL\\_unadjusted\\_gp\\_6965\\_Q8IZY2, monocyte\\_ROSMAP\\_eQTL, STARNET\\_eQTL\\_Mac                                                                                                                           \\\\\n",
       "\t ABHD17C & NIAGADS\\_1                                                        & NA                 & CTSH       & MiGA\\_GTS\\_eQTL, MiGA\\_SVZ\\_eQTL, BM\\_22\\_MSBB\\_eQTL, Ast\\_DeJager\\_eQTL, DLPFC\\_DeJager\\_eQTL, AC\\_DeJager\\_eQTL, Ast\\_Kellis\\_eQTL, Ast\\_mega\\_eQTL, STARNET\\_eQTL\\_Mac                                                                                                                                                                                                                                                                                                                                                                                            \\\\\n",
       "\t ABI3    & NIAGADS\\_1, NIAGADS\\_2                                             & NA                 & NA         & MiGA\\_GFM\\_eQTL, MiGA\\_GTS\\_eQTL, MiGA\\_SVZ\\_eQTL, BM\\_44\\_MSBB\\_eQTL, Mic\\_mega\\_eQTL, STARNET\\_eQTL\\_Mac                                                                                                                                                                                                                                                                                                                                                                                                                                                     \\\\\n",
       "\t ACE     & gpQTL, NIAGADS\\_1                                                 & consistent         & consistent & Knight\\_eQTL\\_brain, BM\\_22\\_MSBB\\_eQTL, BM\\_36\\_MSBB\\_eQTL, BM\\_44\\_MSBB\\_eQTL, MSBB\\_BM36\\_pQTL\\_chr17\\_ENSG00000159640\\_P12821, Exc\\_DeJager\\_eQTL, DLPFC\\_DeJager\\_eQTL, PCC\\_DeJager\\_eQTL, Exc\\_mega\\_eQTL, DLPFC\\_Bennett\\_pQTL, DLPFC\\_Klein\\_gpQTL\\_adjusted\\_gp\\_2630\\_P12821, DLPFC\\_Klein\\_gpQTL\\_adjusted\\_gp\\_2632\\_P12821, DLPFC\\_Klein\\_gpQTL\\_unadjusted\\_gp\\_2629\\_P12821, DLPFC\\_Klein\\_gpQTL\\_unadjusted\\_gp\\_2630\\_P12821, DLPFC\\_Klein\\_gpQTL\\_unadjusted\\_gp\\_2632\\_P12821                                                                                                         \\\\\n",
       "\t ADAM10  & Shulman, NIAGADS\\_2                                               & NA                 & NA         & MiGA\\_GTS\\_eQTL, MiGA\\_SVZ\\_eQTL, BM\\_36\\_MSBB\\_eQTL, Oli\\_DeJager\\_eQTL, Oli\\_Kellis\\_eQTL, Exc\\_Kellis\\_eQTL, Exc\\_mega\\_eQTL, Mic\\_mega\\_eQTL, Oli\\_mega\\_eQTL, DLPFC\\_Bennett\\_pQTL, DLPFC\\_Klein\\_gpQTL\\_adjusted\\_gp\\_0147\\_O14672, DLPFC\\_Klein\\_gpQTL\\_adjusted\\_gp\\_0154\\_O14672, DLPFC\\_Klein\\_gpQTL\\_adjusted\\_gp\\_0155\\_O14672, DLPFC\\_Klein\\_gpQTL\\_adjusted\\_gp\\_0156\\_O14672, DLPFC\\_Klein\\_gpQTL\\_adjusted\\_gp\\_0157\\_O14672, DLPFC\\_Klein\\_gpQTL\\_unadjusted\\_gp\\_0154\\_O14672, DLPFC\\_Klein\\_gpQTL\\_unadjusted\\_gp\\_0156\\_O14672, DLPFC\\_Klein\\_gpQTL\\_unadjusted\\_gp\\_0157\\_O14672, STARNET\\_eQTL\\_Mac\\\\\n",
       "\t ADAM17  & xQTL main paper, Shulman, NIAGADS\\_1                              & ITGB1BP1           & NA         & Knight\\_eQTL\\_brain, MiGA\\_GTS\\_eQTL, MiGA\\_SVZ\\_eQTL, MiGA\\_THA\\_eQTL, BM\\_10\\_MSBB\\_eQTL, BM\\_22\\_MSBB\\_eQTL, BM\\_36\\_MSBB\\_eQTL, BM\\_44\\_MSBB\\_eQTL, Ast\\_DeJager\\_eQTL, Oli\\_DeJager\\_eQTL, Exc\\_DeJager\\_eQTL, Inh\\_DeJager\\_eQTL, DLPFC\\_DeJager\\_eQTL, PCC\\_DeJager\\_eQTL, AC\\_DeJager\\_eQTL, Ast\\_Kellis\\_eQTL, Oli\\_Kellis\\_eQTL, Exc\\_Kellis\\_eQTL, Ast\\_mega\\_eQTL, Exc\\_mega\\_eQTL, Inh\\_mega\\_eQTL, Mic\\_mega\\_eQTL, OPC\\_mega\\_eQTL, Oli\\_mega\\_eQTL, DLPFC\\_Klein\\_gpQTL\\_adjusted\\_gp\\_5127\\_P78536                                                                                         \\\\\n",
       "\t ADAMTS1 & NIAGADS\\_1                                                        & NA                 & NA         & MiGA\\_GFM\\_eQTL, MiGA\\_GTS\\_eQTL, MiGA\\_SVZ\\_eQTL, MiGA\\_THA\\_eQTL                                                                                                                                                                                                                                                                                                                                                                                                                                                                                        \\\\\n",
       "\t AKAP9   & Shulman                                                          & NA                 & NA         & NA                                                                                                                                                                                                                                                                                                                                                                                                                                                                                                                                                \\\\\n",
       "\t ALDH1A2 & Shulman                                                          & NA                 & NA         & MSBB\\_BM36\\_pQTL\\_chr15\\_ENSG00000128918\\_O94788, Oli\\_DeJager\\_eQTL, Exc\\_DeJager\\_eQTL, Inh\\_DeJager\\_eQTL, DLPFC\\_DeJager\\_eQTL, AC\\_DeJager\\_eQTL, Oli\\_Kellis\\_eQTL, Exc\\_Kellis\\_eQTL, Exc\\_mega\\_eQTL, Inh\\_mega\\_eQTL, Oli\\_mega\\_eQTL, STARNET\\_eQTL\\_Mac                                                                                                                                                                                                                                                                                                           \\\\\n",
       "\t ANK3    & NIAGADS\\_1                                                        & NA                 & NA         & Knight\\_eQTL\\_brain, MiGA\\_GTS\\_eQTL, MiGA\\_SVZ\\_eQTL, BM\\_10\\_MSBB\\_eQTL, BM\\_22\\_MSBB\\_eQTL, BM\\_36\\_MSBB\\_eQTL, BM\\_44\\_MSBB\\_eQTL, MSBB\\_BM36\\_pQTL\\_chr10\\_ENSG00000151150\\_H0YAH5, Oli\\_DeJager\\_eQTL, DLPFC\\_DeJager\\_eQTL, AC\\_DeJager\\_eQTL, Oli\\_Kellis\\_eQTL, Exc\\_Kellis\\_eQTL, Inh\\_mega\\_eQTL, OPC\\_mega\\_eQTL, Oli\\_mega\\_eQTL                                                                                                                                                                                                                                            \\\\\n",
       "\t ANKH    & NIAGADS\\_1                                                        & NA                 & NA         & MiGA\\_GFM\\_eQTL, MiGA\\_GTS\\_eQTL, MiGA\\_SVZ\\_eQTL, Oli\\_DeJager\\_eQTL, Exc\\_DeJager\\_eQTL, Inh\\_DeJager\\_eQTL, AC\\_DeJager\\_eQTL, Ast\\_Kellis\\_eQTL, Oli\\_Kellis\\_eQTL, Exc\\_Kellis\\_eQTL, Inh\\_Kellis\\_eQTL, Exc\\_mega\\_eQTL, Inh\\_mega\\_eQTL, OPC\\_mega\\_eQTL, Oli\\_mega\\_eQTL, STARNET\\_eQTL\\_Mac                                                                                                                                                                                                                                                                              \\\\\n",
       "\t AP4M1   & Shulman                                                          & NA                 & NA         & MiGA\\_GFM\\_eQTL, MiGA\\_GTS\\_eQTL, MiGA\\_SVZ\\_eQTL, MiGA\\_THA\\_eQTL, MSBB\\_BM36\\_pQTL\\_chr7\\_ENSG00000221838\\_O00189                                                                                                                                                                                                                                                                                                                                                                                                                                            \\\\\n",
       "\t APBB3   & NIAGADS\\_2                                                        & NA                 & NA         & MiGA\\_SVZ\\_eQTL, DLPFC\\_DeJager\\_eQTL, AC\\_DeJager\\_eQTL, Ast\\_Kellis\\_eQTL, Oli\\_Kellis\\_eQTL                                                                                                                                                                                                                                                                                                                                                                                                                                                              \\\\\n",
       "\t APH1B   & xQTL main paper, Shulman, NIAGADS\\_1                              & consistent         & consistent & MiGA\\_GTS\\_eQTL, MiGA\\_SVZ\\_eQTL, MiGA\\_THA\\_eQTL, BM\\_10\\_MSBB\\_eQTL, BM\\_36\\_MSBB\\_eQTL, Oli\\_DeJager\\_eQTL, Exc\\_DeJager\\_eQTL, DLPFC\\_DeJager\\_eQTL, AC\\_DeJager\\_eQTL, Oli\\_Kellis\\_eQTL, Exc\\_Kellis\\_eQTL, Inh\\_Kellis\\_eQTL, Ast\\_mega\\_eQTL, Exc\\_mega\\_eQTL, Inh\\_mega\\_eQTL, OPC\\_mega\\_eQTL, Oli\\_mega\\_eQTL                                                                                                                                                                                                                                                              \\\\\n",
       "\t APOC1   & xQTL main paper                                                  & NA                 & NA         & MiGA\\_GFM\\_eQTL, MiGA\\_GTS\\_eQTL, MSBB\\_BM36\\_pQTL\\_chr19\\_ENSG00000130208\\_P02654, Mic\\_DeJager\\_eQTL, DLPFC\\_DeJager\\_eQTL, AC\\_DeJager\\_eQTL, Mic\\_mega\\_eQTL, STARNET\\_eQTL\\_Mac                                                                                                                                                                                                                                                                                                                                                                                 \\\\\n",
       "\t APOC4   & xQTL main paper                                                  & NA                 & NA         & BM\\_36\\_MSBB\\_eQTL, STARNET\\_eQTL\\_Mac                                                                                                                                                                                                                                                                                                                                                                                                                                                                                                                 \\\\\n",
       "\t APOE    & Shulman, NIAGADS\\_2                                               & NA                 & NA         & MiGA\\_SVZ\\_eQTL, Mic\\_Kellis\\_eQTL, Ast\\_10\\_Kellis\\_eQTL, DLPFC\\_Klein\\_gpQTL\\_adjusted\\_gp\\_1235\\_P02649, DLPFC\\_Klein\\_gpQTL\\_unadjusted\\_gp\\_1235\\_P02649, monocyte\\_ROSMAP\\_eQTL, STARNET\\_eQTL\\_Mac                                                                                                                                                                                                                                                                                                                                                                \\\\\n",
       "\t APP     & xQTL main paper, Shulman, St George-Hyslop, NIAGADS\\_1, NIAGADS\\_2 & NA                 & NA         & BM\\_36\\_MSBB\\_eQTL, Oli\\_DeJager\\_eQTL, AC\\_DeJager\\_eQTL, Oli\\_Kellis\\_eQTL, Exc\\_mega\\_eQTL, Mic\\_mega\\_eQTL, Oli\\_mega\\_eQTL                                                                                                                                                                                                                                                                                                                                                                                                                                  \\\\\n",
       "\t AQP9    & Shulman                                                          & NA                 & NA         & MiGA\\_GFM\\_eQTL, MiGA\\_SVZ\\_eQTL, MiGA\\_THA\\_eQTL                                                                                                                                                                                                                                                                                                                                                                                                                                                                                                       \\\\\n",
       "\t ARRB2   & Shulman                                                          & NA                 & NA         & MiGA\\_GTS\\_eQTL, MiGA\\_SVZ\\_eQTL, DLPFC\\_Bennett\\_pQTL, STARNET\\_eQTL\\_Mac                                                                                                                                                                                                                                                                                                                                                                                                                                                                                \\\\\n",
       "\t ARSA    & Shulman                                                          & NA                 & NA         & MiGA\\_GFM\\_eQTL, MiGA\\_GTS\\_eQTL, MiGA\\_SVZ\\_eQTL, MiGA\\_THA\\_eQTL, BM\\_22\\_MSBB\\_eQTL, BM\\_44\\_MSBB\\_eQTL, MSBB\\_BM36\\_pQTL\\_chr22\\_ENSG00000100299\\_P15289, Ast\\_DeJager\\_eQTL, Oli\\_DeJager\\_eQTL, Exc\\_DeJager\\_eQTL, DLPFC\\_DeJager\\_eQTL, PCC\\_DeJager\\_eQTL, AC\\_DeJager\\_eQTL, Oli\\_Kellis\\_eQTL, OPC\\_Kellis\\_eQTL, Exc\\_Kellis\\_eQTL, Inh\\_Kellis\\_eQTL, Ast\\_mega\\_eQTL, Exc\\_mega\\_eQTL, Inh\\_mega\\_eQTL, Oli\\_mega\\_eQTL, DLPFC\\_Bennett\\_pQTL, monocyte\\_ROSMAP\\_eQTL, STARNET\\_eQTL\\_Mac                                                                                                \\\\\n",
       "\t BCKDK   & NIAGADS\\_1                                                        & KAT8,ZNF843,PRSS36 & NA         & MiGA\\_THA\\_eQTL, Inh\\_Kellis\\_eQTL, STARNET\\_eQTL\\_Mac                                                                                                                                                                                                                                                                                                                                                                                                                                                                                                  \\\\\n",
       "\t BIN1    & Shulman, NIAGADS\\_1, NIAGADS\\_2                                    & consistent         & consistent & MiGA\\_THA\\_eQTL, Mic\\_DeJager\\_eQTL, Exc\\_DeJager\\_eQTL, PCC\\_DeJager\\_eQTL, AC\\_DeJager\\_eQTL, Mic\\_Kellis\\_eQTL, Exc\\_Kellis\\_eQTL, Mic\\_13\\_Kellis\\_eQTL, Exc\\_mega\\_eQTL, Mic\\_mega\\_eQTL, DLPFC\\_Bennett\\_pQTL, DLPFC\\_Klein\\_gpQTL\\_unadjusted\\_gp\\_0060\\_O00499, STARNET\\_eQTL\\_Mac                                                                                                                                                                                                                                                                                       \\\\\n",
       "\t BLNK    & ColocBoost, NIAGADS\\_1                                            & NA                 & NA         & MiGA\\_GFM\\_eQTL, MiGA\\_GTS\\_eQTL, MiGA\\_SVZ\\_eQTL, MiGA\\_THA\\_eQTL, BM\\_10\\_MSBB\\_eQTL, AC\\_DeJager\\_eQTL, Mic\\_Kellis\\_eQTL, Mic\\_13\\_Kellis\\_eQTL, Mic\\_mega\\_eQTL, monocyte\\_ROSMAP\\_eQTL                                                                                                                                                                                                                                                                                                                                                                            \\\\\n",
       "\t C1S     & xQTL main paper                                                  & NA                 & NA         & MiGA\\_GTS\\_eQTL, MiGA\\_THA\\_eQTL, BM\\_44\\_MSBB\\_eQTL, Oli\\_DeJager\\_eQTL, Inh\\_DeJager\\_eQTL, Oli\\_Kellis\\_eQTL, Exc\\_mega\\_eQTL, Inh\\_mega\\_eQTL, DLPFC\\_Bennett\\_pQTL                                                                                                                                                                                                                                                                                                                                                                                              \\\\\n",
       "\t C4A     & Shulman                                                          & NA                 & NA         & NA                                                                                                                                                                                                                                                                                                                                                                                                                                                                                                                                                \\\\\n",
       "\t C4B     & Shulman                                                          & NA                 & NA         & NA                                                                                                                                                                                                                                                                                                                                                                                                                                                                                                                                                \\\\\n",
       "\t CARHSP1 & Shulman                                                          & NA                 & NA         & MiGA\\_GFM\\_eQTL, MiGA\\_SVZ\\_eQTL, MiGA\\_THA\\_eQTL, BM\\_10\\_MSBB\\_eQTL, MSBB\\_BM36\\_pQTL\\_chr16\\_ENSG00000153048\\_Q9Y2V2, Exc\\_DeJager\\_eQTL, Inh\\_DeJager\\_eQTL, DLPFC\\_DeJager\\_eQTL, PCC\\_DeJager\\_eQTL, AC\\_DeJager\\_eQTL, Oli\\_Kellis\\_eQTL, Exc\\_Kellis\\_eQTL, Inh\\_Kellis\\_eQTL, Exc\\_mega\\_eQTL, Inh\\_mega\\_eQTL, Oli\\_mega\\_eQTL, DLPFC\\_Bennett\\_pQTL, monocyte\\_ROSMAP\\_eQTL                                                                                                                                                                                                    \\\\\n",
       "\t CASP7   & NIAGADS\\_2                                                        & NA                 & NA         & Knight\\_eQTL\\_brain, MiGA\\_GFM\\_eQTL, MiGA\\_GTS\\_eQTL, MiGA\\_SVZ\\_eQTL, MiGA\\_THA\\_eQTL, BM\\_10\\_MSBB\\_eQTL, BM\\_22\\_MSBB\\_eQTL, BM\\_36\\_MSBB\\_eQTL, BM\\_44\\_MSBB\\_eQTL, MSBB\\_BM36\\_pQTL\\_chr10\\_ENSG00000165806\\_P55210, Ast\\_DeJager\\_eQTL, DLPFC\\_DeJager\\_eQTL, PCC\\_DeJager\\_eQTL, AC\\_DeJager\\_eQTL, Ast\\_Kellis\\_eQTL, Ast\\_mega\\_eQTL, monocyte\\_ROSMAP\\_eQTL, STARNET\\_eQTL\\_Mac                                                                                                                                                                                                   \\\\\n",
       "\t ... & ... & ... & ... & ...\\\\\n",
       "\t SNRNP70  & NIAGADS\\_1                             & NA           & LILRB2     & MiGA\\_GFM\\_eQTL, MiGA\\_GTS\\_eQTL, MiGA\\_SVZ\\_eQTL, MiGA\\_THA\\_eQTL, MSBB\\_BM36\\_pQTL\\_chr19\\_ENSG00000104852\\_P08621-4, Oli\\_DeJager\\_eQTL, AC\\_DeJager\\_eQTL, Oli\\_Kellis\\_eQTL, Ast\\_10\\_Kellis\\_eQTL, Ast\\_mega\\_eQTL, Oli\\_mega\\_eQTL, monocyte\\_ROSMAP\\_eQTL, STARNET\\_eQTL\\_Mac                                                                                                                                                                                                                                                                                                                                                                                                            \\\\\n",
       "\t SNX1     & NIAGADS\\_1                             & consistent   & consistent & MiGA\\_GFM\\_eQTL, MiGA\\_THA\\_eQTL, BM\\_44\\_MSBB\\_eQTL, DLPFC\\_DeJager\\_eQTL, PCC\\_DeJager\\_eQTL, AC\\_DeJager\\_eQTL, monocyte\\_ROSMAP\\_eQTL                                                                                                                                                                                                                                                                                                                                                                                                                                                                                                                                         \\\\\n",
       "\t SNX32    & Shulman                               & NA           & NA         & Knight\\_eQTL\\_brain, MiGA\\_GFM\\_eQTL, MiGA\\_SVZ\\_eQTL, BM\\_10\\_MSBB\\_eQTL, BM\\_22\\_MSBB\\_eQTL, BM\\_36\\_MSBB\\_eQTL, BM\\_44\\_MSBB\\_eQTL, MSBB\\_BM36\\_pQTL\\_chr11\\_ENSG00000172803\\_Q86XE0, Ast\\_DeJager\\_eQTL, Exc\\_DeJager\\_eQTL, Inh\\_DeJager\\_eQTL, DLPFC\\_DeJager\\_eQTL, PCC\\_DeJager\\_eQTL, AC\\_DeJager\\_eQTL, Exc\\_Kellis\\_eQTL, Ast\\_mega\\_eQTL, Exc\\_mega\\_eQTL, Inh\\_mega\\_eQTL, DLPFC\\_Bennett\\_pQTL, STARNET\\_eQTL\\_Mac                                                                                                                                                                                                                                                                                  \\\\\n",
       "\t SORL1    & NIAGADS\\_1, NIAGADS\\_2                  & NA           & NA         & MiGA\\_GFM\\_eQTL, MiGA\\_SVZ\\_eQTL, MiGA\\_THA\\_eQTL, AC\\_DeJager\\_eQTL, Mic\\_Kellis\\_eQTL, Ast\\_Kellis\\_eQTL, Exc\\_Kellis\\_eQTL, Ast\\_mega\\_eQTL, Inh\\_mega\\_eQTL, Mic\\_mega\\_eQTL, Oli\\_mega\\_eQTL, DLPFC\\_Klein\\_gpQTL\\_adjusted\\_gp\\_7280\\_Q92673, DLPFC\\_Klein\\_gpQTL\\_adjusted\\_gp\\_7281\\_Q92673, DLPFC\\_Klein\\_gpQTL\\_unadjusted\\_gp\\_7276\\_Q92673, DLPFC\\_Klein\\_gpQTL\\_unadjusted\\_gp\\_7281\\_Q92673, DLPFC\\_Klein\\_gpQTL\\_unadjusted\\_gp\\_7285\\_Q92673, DLPFC\\_Klein\\_gpQTL\\_unadjusted\\_gp\\_7288\\_Q92673                                                                                                                                                                                                              \\\\\n",
       "\t SORT1    & NIAGADS\\_1                             & NA           & NA         & MiGA\\_GTS\\_eQTL, MiGA\\_THA\\_eQTL, Oli\\_DeJager\\_eQTL, AC\\_DeJager\\_eQTL, Oli\\_Kellis\\_eQTL, Exc\\_Kellis\\_eQTL, Ast\\_10\\_Kellis\\_eQTL, Oli\\_mega\\_eQTL, DLPFC\\_Bennett\\_pQTL, DLPFC\\_Klein\\_gpQTL\\_adjusted\\_gp\\_7923\\_Q99523, DLPFC\\_Klein\\_gpQTL\\_adjusted\\_gp\\_7928\\_Q99523, DLPFC\\_Klein\\_gpQTL\\_unadjusted\\_gp\\_7917\\_Q99523, DLPFC\\_Klein\\_gpQTL\\_unadjusted\\_gp\\_7923\\_Q99523, DLPFC\\_Klein\\_gpQTL\\_unadjusted\\_gp\\_7924\\_Q99523, DLPFC\\_Klein\\_gpQTL\\_unadjusted\\_gp\\_7927\\_Q99523, DLPFC\\_Klein\\_gpQTL\\_unadjusted\\_gp\\_7928\\_Q99523, DLPFC\\_Klein\\_gpQTL\\_unadjusted\\_gp\\_7929\\_Q99523, DLPFC\\_Klein\\_gpQTL\\_unadjusted\\_gp\\_7931\\_Q99523, DLPFC\\_Klein\\_gpQTL\\_unadjusted\\_gp\\_7933\\_Q99523, DLPFC\\_Klein\\_gpQTL\\_unadjusted\\_gp\\_7936\\_Q99523\\\\\n",
       "\t SPDYE3   & NIAGADS\\_1                             & NA           & NA         & Ast\\_DeJager\\_eQTL, Oli\\_DeJager\\_eQTL, Exc\\_DeJager\\_eQTL, Inh\\_DeJager\\_eQTL, Exc\\_Kellis\\_eQTL, Exc\\_mega\\_eQTL, Inh\\_mega\\_eQTL                                                                                                                                                                                                                                                                                                                                                                                                                                                                                                                                              \\\\\n",
       "\t SPI1     & xQTL main paper, NIAGADS\\_1, NIAGADS\\_2 & NA           & NA         & MiGA\\_THA\\_eQTL, STARNET\\_eQTL\\_Mac                                                                                                                                                                                                                                                                                                                                                                                                                                                                                                                                                                                                                                    \\\\\n",
       "\t SPPL2A   & Shulman, NIAGADS\\_1                    & consistent   & consistent & MiGA\\_GFM\\_eQTL, MiGA\\_GTS\\_eQTL, MiGA\\_SVZ\\_eQTL, MiGA\\_THA\\_eQTL, Inh\\_DeJager\\_eQTL, DLPFC\\_DeJager\\_eQTL, AC\\_DeJager\\_eQTL, Exc\\_Kellis\\_eQTL, Exc\\_mega\\_eQTL, Inh\\_mega\\_eQTL, Oli\\_mega\\_eQTL, DLPFC\\_Bennett\\_pQTL, STARNET\\_eQTL\\_Mac                                                                                                                                                                                                                                                                                                                                                                                                                                              \\\\\n",
       "\t SPRED2   & Shulman                               & NA           & NA         & MiGA\\_GFM\\_eQTL, MiGA\\_GTS\\_eQTL, Ast\\_mega\\_eQTL, STARNET\\_eQTL\\_Mac                                                                                                                                                                                                                                                                                                                                                                                                                                                                                                                                                                                                      \\\\\n",
       "\t STAG3    & Shulman                               & NA           & NA         & MiGA\\_GFM\\_eQTL, MiGA\\_GTS\\_eQTL, MiGA\\_SVZ\\_eQTL, MiGA\\_THA\\_eQTL, BM\\_10\\_MSBB\\_eQTL, BM\\_22\\_MSBB\\_eQTL, BM\\_36\\_MSBB\\_eQTL, Ast\\_DeJager\\_eQTL, Oli\\_DeJager\\_eQTL, Exc\\_DeJager\\_eQTL, Inh\\_DeJager\\_eQTL, DLPFC\\_DeJager\\_eQTL, PCC\\_DeJager\\_eQTL, Ast\\_Kellis\\_eQTL, Exc\\_mega\\_eQTL                                                                                                                                                                                                                                                                                                                                                                                                        \\\\\n",
       "\t STMN4    & Shulman                               & NA           & NA         & Knight\\_eQTL\\_brain, MiGA\\_SVZ\\_eQTL, MiGA\\_THA\\_eQTL, BM\\_10\\_MSBB\\_eQTL, BM\\_22\\_MSBB\\_eQTL, BM\\_36\\_MSBB\\_eQTL, BM\\_44\\_MSBB\\_eQTL, MSBB\\_BM36\\_pQTL\\_chr8\\_ENSG00000015592\\_Q9H169, Oli\\_DeJager\\_eQTL, DLPFC\\_DeJager\\_eQTL, PCC\\_DeJager\\_eQTL, AC\\_DeJager\\_eQTL, Oli\\_Kellis\\_eQTL, Oli\\_mega\\_eQTL, DLPFC\\_Bennett\\_pQTL                                                                                                                                                                                                                                                                                                                                                                       \\\\\n",
       "\t STX6     & Shulman                               & NA           & NA         & MiGA\\_GFM\\_eQTL, MiGA\\_SVZ\\_eQTL, MiGA\\_THA\\_eQTL, BM\\_22\\_MSBB\\_eQTL, BM\\_36\\_MSBB\\_eQTL, Exc\\_DeJager\\_eQTL, AC\\_DeJager\\_eQTL, Mic\\_Kellis\\_eQTL, Oli\\_Kellis\\_eQTL, Exc\\_Kellis\\_eQTL, Inh\\_Kellis\\_eQTL, Exc\\_mega\\_eQTL, Inh\\_mega\\_eQTL, Mic\\_mega\\_eQTL, OPC\\_mega\\_eQTL, Oli\\_mega\\_eQTL, STARNET\\_eQTL\\_Mac                                                                                                                                                                                                                                                                                                                                                                                  \\\\\n",
       "\t TMEM106B & gpQTL, NIAGADS\\_1                      & NA           & NA         & MiGA\\_GFM\\_eQTL, MiGA\\_GTS\\_eQTL, MiGA\\_THA\\_eQTL, Exc\\_mega\\_eQTL, Inh\\_mega\\_eQTL, DLPFC\\_Bennett\\_pQTL, DLPFC\\_Klein\\_gpQTL\\_unadjusted\\_gp\\_8491\\_Q9NUM4, STARNET\\_eQTL\\_Mac                                                                                                                                                                                                                                                                                                                                                                                                                                                                                                       \\\\\n",
       "\t TNIP1    & NIAGADS\\_1                             & consistent   & consistent & MiGA\\_GTS\\_eQTL, MiGA\\_SVZ\\_eQTL, BM\\_44\\_MSBB\\_eQTL, Exc\\_DeJager\\_eQTL, DLPFC\\_DeJager\\_eQTL, PCC\\_DeJager\\_eQTL                                                                                                                                                                                                                                                                                                                                                                                                                                                                                                                                                              \\\\\n",
       "\t TPCN1    & NIAGADS\\_1                             & NA           & NA         & MiGA\\_GFM\\_eQTL, MiGA\\_GTS\\_eQTL, MiGA\\_SVZ\\_eQTL, Ast\\_10\\_Kellis\\_eQTL                                                                                                                                                                                                                                                                                                                                                                                                                                                                                                                                                                                                    \\\\\n",
       "\t TREM2    & xQTL main paper, NIAGADS\\_1, NIAGADS\\_2 & NA           & NA         & MiGA\\_THA\\_eQTL, BM\\_36\\_MSBB\\_eQTL, BM\\_44\\_MSBB\\_eQTL, DLPFC\\_DeJager\\_eQTL, PCC\\_DeJager\\_eQTL, AC\\_DeJager\\_eQTL, STARNET\\_eQTL\\_Mac                                                                                                                                                                                                                                                                                                                                                                                                                                                                                                                                           \\\\\n",
       "\t TREML2   & xQTL main paper, NIAGADS\\_1            & NA           & NA         & monocyte\\_ROSMAP\\_eQTL, STARNET\\_eQTL\\_Mac                                                                                                                                                                                                                                                                                                                                                                                                                                                                                                                                                                                                                             \\\\\n",
       "\t TSPAN14  & LeafCutter2, Shulman, NIAGADS\\_1       & NA           & NA         & Knight\\_eQTL\\_brain, MiGA\\_THA\\_eQTL, BM\\_10\\_MSBB\\_eQTL, BM\\_36\\_MSBB\\_eQTL, BM\\_44\\_MSBB\\_eQTL, MSBB\\_BM36\\_pQTL\\_chr10\\_ENSG00000108219\\_Q8NG11, Oli\\_DeJager\\_eQTL, DLPFC\\_DeJager\\_eQTL, PCC\\_DeJager\\_eQTL, AC\\_DeJager\\_eQTL, Ast\\_Kellis\\_eQTL, Oli\\_Kellis\\_eQTL, Exc\\_Kellis\\_eQTL, Mic\\_13\\_Kellis\\_eQTL, Ast\\_mega\\_eQTL, Exc\\_mega\\_eQTL, Oli\\_mega\\_eQTL, STARNET\\_eQTL\\_Mac                                                                                                                                                                                                                                                                                                                    \\\\\n",
       "\t TSPOAP1  & NIAGADS\\_1                             & GDPD1        & NA         & MiGA\\_GFM\\_eQTL, MiGA\\_SVZ\\_eQTL, MiGA\\_THA\\_eQTL, BM\\_10\\_MSBB\\_eQTL, BM\\_22\\_MSBB\\_eQTL, BM\\_36\\_MSBB\\_eQTL, BM\\_44\\_MSBB\\_eQTL, Ast\\_DeJager\\_eQTL, OPC\\_DeJager\\_eQTL, Exc\\_DeJager\\_eQTL, Inh\\_DeJager\\_eQTL, AC\\_DeJager\\_eQTL, Ast\\_Kellis\\_eQTL, OPC\\_Kellis\\_eQTL, Exc\\_Kellis\\_eQTL, Ast\\_10\\_Kellis\\_eQTL, Ast\\_mega\\_eQTL, Exc\\_mega\\_eQTL, Inh\\_mega\\_eQTL, OPC\\_mega\\_eQTL                                                                                                                                                                                                                                                                                                                        \\\\\n",
       "\t UMAD1    & NIAGADS\\_1                             & NA           & NA         & MiGA\\_GTS\\_eQTL, MiGA\\_SVZ\\_eQTL, MiGA\\_THA\\_eQTL, BM\\_36\\_MSBB\\_eQTL, MSBB\\_BM36\\_pQTL\\_chr7\\_ENSG00000219545\\_C9J7I0, DLPFC\\_DeJager\\_eQTL, AC\\_DeJager\\_eQTL, Exc\\_Kellis\\_eQTL, Ast\\_10\\_Kellis\\_eQTL, Exc\\_mega\\_eQTL, STARNET\\_eQTL\\_Mac                                                                                                                                                                                                                                                                                                                                                                                                                                                \\\\\n",
       "\t UNC5CL   & NIAGADS\\_1                             & NA           & NA         & MiGA\\_GFM\\_eQTL, MiGA\\_THA\\_eQTL                                                                                                                                                                                                                                                                                                                                                                                                                                                                                                                                                                                                                                       \\\\\n",
       "\t USP6NL   & xQTL main paper, NIAGADS\\_1            & NA           & NA         & MiGA\\_GTS\\_eQTL, MiGA\\_THA\\_eQTL, BM\\_36\\_MSBB\\_eQTL, Mic\\_DeJager\\_eQTL, Oli\\_DeJager\\_eQTL, Exc\\_DeJager\\_eQTL, Inh\\_DeJager\\_eQTL, DLPFC\\_DeJager\\_eQTL, PCC\\_DeJager\\_eQTL, AC\\_DeJager\\_eQTL, Mic\\_Kellis\\_eQTL, Oli\\_Kellis\\_eQTL, Exc\\_mega\\_eQTL, Inh\\_mega\\_eQTL, Mic\\_mega\\_eQTL, OPC\\_mega\\_eQTL, Oli\\_mega\\_eQTL, STARNET\\_eQTL\\_Mac                                                                                                                                                                                                                                                                                                                                                        \\\\\n",
       "\t WDR12    & xQTL main paper, NIAGADS\\_1            & WDR12,NBEAL1 & NA         & BM\\_22\\_MSBB\\_eQTL, BM\\_44\\_MSBB\\_eQTL, DLPFC\\_DeJager\\_eQTL, PCC\\_DeJager\\_eQTL, AC\\_DeJager\\_eQTL, Exc\\_mega\\_eQTL, monocyte\\_ROSMAP\\_eQTL                                                                                                                                                                                                                                                                                                                                                                                                                                                                                                                                       \\\\\n",
       "\t WDR81    & NIAGADS\\_1                             & NA           & NA         & MiGA\\_GFM\\_eQTL, MiGA\\_GTS\\_eQTL, MiGA\\_SVZ\\_eQTL, MiGA\\_THA\\_eQTL, MSBB\\_BM36\\_pQTL\\_chr17\\_ENSG00000167716\\_Q562E7, Exc\\_DeJager\\_eQTL, AC\\_DeJager\\_eQTL, Ast\\_Kellis\\_eQTL, Exc\\_Kellis\\_eQTL, Exc\\_mega\\_eQTL, DLPFC\\_Bennett\\_pQTL, STARNET\\_eQTL\\_Mac                                                                                                                                                                                                                                                                                                                                                                                                                                  \\\\\n",
       "\t WNT3     & NIAGADS\\_1                             & NA           & NA         & Knight\\_eQTL\\_brain, MiGA\\_GFM\\_eQTL, MiGA\\_SVZ\\_eQTL, MiGA\\_THA\\_eQTL, BM\\_10\\_MSBB\\_eQTL, BM\\_22\\_MSBB\\_eQTL, BM\\_36\\_MSBB\\_eQTL, BM\\_44\\_MSBB\\_eQTL, Exc\\_DeJager\\_eQTL, DLPFC\\_DeJager\\_eQTL, PCC\\_DeJager\\_eQTL, AC\\_DeJager\\_eQTL, Exc\\_mega\\_eQTL, Inh\\_mega\\_eQTL                                                                                                                                                                                                                                                                                                                                                                                                                          \\\\\n",
       "\t WWOX     & Shulman                               & NA           & NA         & Knight\\_eQTL\\_brain, MiGA\\_GFM\\_eQTL, MiGA\\_SVZ\\_eQTL, MiGA\\_THA\\_eQTL, BM\\_10\\_MSBB\\_eQTL, BM\\_22\\_MSBB\\_eQTL, BM\\_36\\_MSBB\\_eQTL, BM\\_44\\_MSBB\\_eQTL, MSBB\\_BM36\\_pQTL\\_chr16\\_ENSG00000186153\\_Q9NZC7, Mic\\_DeJager\\_eQTL, Ast\\_DeJager\\_eQTL, Oli\\_DeJager\\_eQTL, OPC\\_DeJager\\_eQTL, Exc\\_DeJager\\_eQTL, Inh\\_DeJager\\_eQTL, DLPFC\\_DeJager\\_eQTL, PCC\\_DeJager\\_eQTL, AC\\_DeJager\\_eQTL, Mic\\_Kellis\\_eQTL, Ast\\_Kellis\\_eQTL, Oli\\_Kellis\\_eQTL, OPC\\_Kellis\\_eQTL, Exc\\_Kellis\\_eQTL, Inh\\_Kellis\\_eQTL, Ast\\_10\\_Kellis\\_eQTL, Ast\\_mega\\_eQTL, Exc\\_mega\\_eQTL, Inh\\_mega\\_eQTL, Mic\\_mega\\_eQTL, OPC\\_mega\\_eQTL, Oli\\_mega\\_eQTL, DLPFC\\_Bennett\\_pQTL, STARNET\\_eQTL\\_Mac                                                       \\\\\n",
       "\t YOD1     & Shulman                               & NA           & NA         & MiGA\\_GFM\\_eQTL, BM\\_44\\_MSBB\\_eQTL, MSBB\\_BM36\\_pQTL\\_chr1\\_ENSG00000180667\\_Q5VVQ6, Exc\\_DeJager\\_eQTL, Inh\\_DeJager\\_eQTL, DLPFC\\_DeJager\\_eQTL, PCC\\_DeJager\\_eQTL, AC\\_DeJager\\_eQTL, Exc\\_Kellis\\_eQTL, Exc\\_mega\\_eQTL, DLPFC\\_Bennett\\_pQTL                                                                                                                                                                                                                                                                                                                                                                                                                                          \\\\\n",
       "\t ZNF843   & NIAGADS\\_1                             & NA           & BCKDK      & MiGA\\_GTS\\_eQTL, MiGA\\_SVZ\\_eQTL, MiGA\\_THA\\_eQTL, AC\\_DeJager\\_eQTL, monocyte\\_ROSMAP\\_eQTL                                                                                                                                                                                                                                                                                                                                                                                                                                                                                                                                                                                 \\\\\n",
       "\t ZYX      & xQTL main paper                       & NA           & NA         & MiGA\\_SVZ\\_eQTL, BM\\_36\\_MSBB\\_eQTL, Mic\\_DeJager\\_eQTL, Inh\\_DeJager\\_eQTL, PCC\\_DeJager\\_eQTL, AC\\_DeJager\\_eQTL, DLPFC\\_Bennett\\_pQTL, monocyte\\_ROSMAP\\_eQTL, STARNET\\_eQTL\\_Mac                                                                                                                                                                                                                                                                                                                                                                                                                                                                                                  \\\\\n",
       "\t LACTB    & xQTL main paper                       & NA           & NA         & Knight\\_eQTL\\_brain, MiGA\\_GFM\\_eQTL, MiGA\\_SVZ\\_eQTL, MiGA\\_THA\\_eQTL, BM\\_10\\_MSBB\\_eQTL, BM\\_22\\_MSBB\\_eQTL, BM\\_36\\_MSBB\\_eQTL, BM\\_44\\_MSBB\\_eQTL, MSBB\\_BM36\\_pQTL\\_chr15\\_ENSG00000103642\\_P83111, Mic\\_DeJager\\_eQTL, Oli\\_DeJager\\_eQTL, Exc\\_DeJager\\_eQTL, DLPFC\\_DeJager\\_eQTL, PCC\\_DeJager\\_eQTL, AC\\_DeJager\\_eQTL, Mic\\_Kellis\\_eQTL, Oli\\_Kellis\\_eQTL, Inh\\_Kellis\\_eQTL, Ast\\_mega\\_eQTL, Inh\\_mega\\_eQTL, Mic\\_mega\\_eQTL, Oli\\_mega\\_eQTL, DLPFC\\_Bennett\\_pQTL, STARNET\\_eQTL\\_Mac                                                                                                                                                                                                                  \\\\\n",
       "\\end{tabular}\n"
      ],
      "text/markdown": [
       "\n",
       "A tibble: 157 x 5\n",
       "\n",
       "| Gene_name &lt;chr&gt; | Projects_or_PI_interested &lt;chr&gt; | NIAGADS_debate &lt;chr&gt; | xQTL_debate &lt;chr&gt; | study_xQTL &lt;chr&gt; |\n",
       "|---|---|---|---|---|\n",
       "| ABCA1   | NIAGADS_1                                                        | consistent         | consistent | MiGA_GTS_eQTL, MiGA_SVZ_eQTL, Exc_DeJager_eQTL, AC_DeJager_eQTL, Exc_Kellis_eQTL, Exc_mega_eQTL, Inh_mega_eQTL, Mic_mega_eQTL, monocyte_ROSMAP_eQTL                                                                                                                                                                                                                                                                                                                                                                                                |\n",
       "| ABCA7   | Shulman, NIAGADS_1, NIAGADS_2                                    | NA                 | NA         | Knight_eQTL_brain, MiGA_GTS_eQTL, MiGA_SVZ_eQTL, BM_22_MSBB_eQTL, BM_44_MSBB_eQTL, Oli_DeJager_eQTL, DLPFC_DeJager_eQTL, PCC_DeJager_eQTL, AC_DeJager_eQTL, Oli_Kellis_eQTL, DLPFC_Bennett_pQTL, DLPFC_Klein_gpQTL_adjusted_gp_6964_Q8IZY2, DLPFC_Klein_gpQTL_adjusted_gp_6965_Q8IZY2, DLPFC_Klein_gpQTL_unadjusted_gp_6964_Q8IZY2, DLPFC_Klein_gpQTL_unadjusted_gp_6965_Q8IZY2, monocyte_ROSMAP_eQTL, STARNET_eQTL_Mac                                                                                                                            |\n",
       "| ABHD17C | NIAGADS_1                                                        | NA                 | CTSH       | MiGA_GTS_eQTL, MiGA_SVZ_eQTL, BM_22_MSBB_eQTL, Ast_DeJager_eQTL, DLPFC_DeJager_eQTL, AC_DeJager_eQTL, Ast_Kellis_eQTL, Ast_mega_eQTL, STARNET_eQTL_Mac                                                                                                                                                                                                                                                                                                                                                                                             |\n",
       "| ABI3    | NIAGADS_1, NIAGADS_2                                             | NA                 | NA         | MiGA_GFM_eQTL, MiGA_GTS_eQTL, MiGA_SVZ_eQTL, BM_44_MSBB_eQTL, Mic_mega_eQTL, STARNET_eQTL_Mac                                                                                                                                                                                                                                                                                                                                                                                                                                                      |\n",
       "| ACE     | gpQTL, NIAGADS_1                                                 | consistent         | consistent | Knight_eQTL_brain, BM_22_MSBB_eQTL, BM_36_MSBB_eQTL, BM_44_MSBB_eQTL, MSBB_BM36_pQTL_chr17_ENSG00000159640_P12821, Exc_DeJager_eQTL, DLPFC_DeJager_eQTL, PCC_DeJager_eQTL, Exc_mega_eQTL, DLPFC_Bennett_pQTL, DLPFC_Klein_gpQTL_adjusted_gp_2630_P12821, DLPFC_Klein_gpQTL_adjusted_gp_2632_P12821, DLPFC_Klein_gpQTL_unadjusted_gp_2629_P12821, DLPFC_Klein_gpQTL_unadjusted_gp_2630_P12821, DLPFC_Klein_gpQTL_unadjusted_gp_2632_P12821                                                                                                          |\n",
       "| ADAM10  | Shulman, NIAGADS_2                                               | NA                 | NA         | MiGA_GTS_eQTL, MiGA_SVZ_eQTL, BM_36_MSBB_eQTL, Oli_DeJager_eQTL, Oli_Kellis_eQTL, Exc_Kellis_eQTL, Exc_mega_eQTL, Mic_mega_eQTL, Oli_mega_eQTL, DLPFC_Bennett_pQTL, DLPFC_Klein_gpQTL_adjusted_gp_0147_O14672, DLPFC_Klein_gpQTL_adjusted_gp_0154_O14672, DLPFC_Klein_gpQTL_adjusted_gp_0155_O14672, DLPFC_Klein_gpQTL_adjusted_gp_0156_O14672, DLPFC_Klein_gpQTL_adjusted_gp_0157_O14672, DLPFC_Klein_gpQTL_unadjusted_gp_0154_O14672, DLPFC_Klein_gpQTL_unadjusted_gp_0156_O14672, DLPFC_Klein_gpQTL_unadjusted_gp_0157_O14672, STARNET_eQTL_Mac |\n",
       "| ADAM17  | xQTL main paper, Shulman, NIAGADS_1                              | ITGB1BP1           | NA         | Knight_eQTL_brain, MiGA_GTS_eQTL, MiGA_SVZ_eQTL, MiGA_THA_eQTL, BM_10_MSBB_eQTL, BM_22_MSBB_eQTL, BM_36_MSBB_eQTL, BM_44_MSBB_eQTL, Ast_DeJager_eQTL, Oli_DeJager_eQTL, Exc_DeJager_eQTL, Inh_DeJager_eQTL, DLPFC_DeJager_eQTL, PCC_DeJager_eQTL, AC_DeJager_eQTL, Ast_Kellis_eQTL, Oli_Kellis_eQTL, Exc_Kellis_eQTL, Ast_mega_eQTL, Exc_mega_eQTL, Inh_mega_eQTL, Mic_mega_eQTL, OPC_mega_eQTL, Oli_mega_eQTL, DLPFC_Klein_gpQTL_adjusted_gp_5127_P78536                                                                                          |\n",
       "| ADAMTS1 | NIAGADS_1                                                        | NA                 | NA         | MiGA_GFM_eQTL, MiGA_GTS_eQTL, MiGA_SVZ_eQTL, MiGA_THA_eQTL                                                                                                                                                                                                                                                                                                                                                                                                                                                                                         |\n",
       "| AKAP9   | Shulman                                                          | NA                 | NA         | NA                                                                                                                                                                                                                                                                                                                                                                                                                                                                                                                                                 |\n",
       "| ALDH1A2 | Shulman                                                          | NA                 | NA         | MSBB_BM36_pQTL_chr15_ENSG00000128918_O94788, Oli_DeJager_eQTL, Exc_DeJager_eQTL, Inh_DeJager_eQTL, DLPFC_DeJager_eQTL, AC_DeJager_eQTL, Oli_Kellis_eQTL, Exc_Kellis_eQTL, Exc_mega_eQTL, Inh_mega_eQTL, Oli_mega_eQTL, STARNET_eQTL_Mac                                                                                                                                                                                                                                                                                                            |\n",
       "| ANK3    | NIAGADS_1                                                        | NA                 | NA         | Knight_eQTL_brain, MiGA_GTS_eQTL, MiGA_SVZ_eQTL, BM_10_MSBB_eQTL, BM_22_MSBB_eQTL, BM_36_MSBB_eQTL, BM_44_MSBB_eQTL, MSBB_BM36_pQTL_chr10_ENSG00000151150_H0YAH5, Oli_DeJager_eQTL, DLPFC_DeJager_eQTL, AC_DeJager_eQTL, Oli_Kellis_eQTL, Exc_Kellis_eQTL, Inh_mega_eQTL, OPC_mega_eQTL, Oli_mega_eQTL                                                                                                                                                                                                                                             |\n",
       "| ANKH    | NIAGADS_1                                                        | NA                 | NA         | MiGA_GFM_eQTL, MiGA_GTS_eQTL, MiGA_SVZ_eQTL, Oli_DeJager_eQTL, Exc_DeJager_eQTL, Inh_DeJager_eQTL, AC_DeJager_eQTL, Ast_Kellis_eQTL, Oli_Kellis_eQTL, Exc_Kellis_eQTL, Inh_Kellis_eQTL, Exc_mega_eQTL, Inh_mega_eQTL, OPC_mega_eQTL, Oli_mega_eQTL, STARNET_eQTL_Mac                                                                                                                                                                                                                                                                               |\n",
       "| AP4M1   | Shulman                                                          | NA                 | NA         | MiGA_GFM_eQTL, MiGA_GTS_eQTL, MiGA_SVZ_eQTL, MiGA_THA_eQTL, MSBB_BM36_pQTL_chr7_ENSG00000221838_O00189                                                                                                                                                                                                                                                                                                                                                                                                                                             |\n",
       "| APBB3   | NIAGADS_2                                                        | NA                 | NA         | MiGA_SVZ_eQTL, DLPFC_DeJager_eQTL, AC_DeJager_eQTL, Ast_Kellis_eQTL, Oli_Kellis_eQTL                                                                                                                                                                                                                                                                                                                                                                                                                                                               |\n",
       "| APH1B   | xQTL main paper, Shulman, NIAGADS_1                              | consistent         | consistent | MiGA_GTS_eQTL, MiGA_SVZ_eQTL, MiGA_THA_eQTL, BM_10_MSBB_eQTL, BM_36_MSBB_eQTL, Oli_DeJager_eQTL, Exc_DeJager_eQTL, DLPFC_DeJager_eQTL, AC_DeJager_eQTL, Oli_Kellis_eQTL, Exc_Kellis_eQTL, Inh_Kellis_eQTL, Ast_mega_eQTL, Exc_mega_eQTL, Inh_mega_eQTL, OPC_mega_eQTL, Oli_mega_eQTL                                                                                                                                                                                                                                                               |\n",
       "| APOC1   | xQTL main paper                                                  | NA                 | NA         | MiGA_GFM_eQTL, MiGA_GTS_eQTL, MSBB_BM36_pQTL_chr19_ENSG00000130208_P02654, Mic_DeJager_eQTL, DLPFC_DeJager_eQTL, AC_DeJager_eQTL, Mic_mega_eQTL, STARNET_eQTL_Mac                                                                                                                                                                                                                                                                                                                                                                                  |\n",
       "| APOC4   | xQTL main paper                                                  | NA                 | NA         | BM_36_MSBB_eQTL, STARNET_eQTL_Mac                                                                                                                                                                                                                                                                                                                                                                                                                                                                                                                  |\n",
       "| APOE    | Shulman, NIAGADS_2                                               | NA                 | NA         | MiGA_SVZ_eQTL, Mic_Kellis_eQTL, Ast_10_Kellis_eQTL, DLPFC_Klein_gpQTL_adjusted_gp_1235_P02649, DLPFC_Klein_gpQTL_unadjusted_gp_1235_P02649, monocyte_ROSMAP_eQTL, STARNET_eQTL_Mac                                                                                                                                                                                                                                                                                                                                                                 |\n",
       "| APP     | xQTL main paper, Shulman, St George-Hyslop, NIAGADS_1, NIAGADS_2 | NA                 | NA         | BM_36_MSBB_eQTL, Oli_DeJager_eQTL, AC_DeJager_eQTL, Oli_Kellis_eQTL, Exc_mega_eQTL, Mic_mega_eQTL, Oli_mega_eQTL                                                                                                                                                                                                                                                                                                                                                                                                                                   |\n",
       "| AQP9    | Shulman                                                          | NA                 | NA         | MiGA_GFM_eQTL, MiGA_SVZ_eQTL, MiGA_THA_eQTL                                                                                                                                                                                                                                                                                                                                                                                                                                                                                                        |\n",
       "| ARRB2   | Shulman                                                          | NA                 | NA         | MiGA_GTS_eQTL, MiGA_SVZ_eQTL, DLPFC_Bennett_pQTL, STARNET_eQTL_Mac                                                                                                                                                                                                                                                                                                                                                                                                                                                                                 |\n",
       "| ARSA    | Shulman                                                          | NA                 | NA         | MiGA_GFM_eQTL, MiGA_GTS_eQTL, MiGA_SVZ_eQTL, MiGA_THA_eQTL, BM_22_MSBB_eQTL, BM_44_MSBB_eQTL, MSBB_BM36_pQTL_chr22_ENSG00000100299_P15289, Ast_DeJager_eQTL, Oli_DeJager_eQTL, Exc_DeJager_eQTL, DLPFC_DeJager_eQTL, PCC_DeJager_eQTL, AC_DeJager_eQTL, Oli_Kellis_eQTL, OPC_Kellis_eQTL, Exc_Kellis_eQTL, Inh_Kellis_eQTL, Ast_mega_eQTL, Exc_mega_eQTL, Inh_mega_eQTL, Oli_mega_eQTL, DLPFC_Bennett_pQTL, monocyte_ROSMAP_eQTL, STARNET_eQTL_Mac                                                                                                 |\n",
       "| BCKDK   | NIAGADS_1                                                        | KAT8,ZNF843,PRSS36 | NA         | MiGA_THA_eQTL, Inh_Kellis_eQTL, STARNET_eQTL_Mac                                                                                                                                                                                                                                                                                                                                                                                                                                                                                                   |\n",
       "| BIN1    | Shulman, NIAGADS_1, NIAGADS_2                                    | consistent         | consistent | MiGA_THA_eQTL, Mic_DeJager_eQTL, Exc_DeJager_eQTL, PCC_DeJager_eQTL, AC_DeJager_eQTL, Mic_Kellis_eQTL, Exc_Kellis_eQTL, Mic_13_Kellis_eQTL, Exc_mega_eQTL, Mic_mega_eQTL, DLPFC_Bennett_pQTL, DLPFC_Klein_gpQTL_unadjusted_gp_0060_O00499, STARNET_eQTL_Mac                                                                                                                                                                                                                                                                                        |\n",
       "| BLNK    | ColocBoost, NIAGADS_1                                            | NA                 | NA         | MiGA_GFM_eQTL, MiGA_GTS_eQTL, MiGA_SVZ_eQTL, MiGA_THA_eQTL, BM_10_MSBB_eQTL, AC_DeJager_eQTL, Mic_Kellis_eQTL, Mic_13_Kellis_eQTL, Mic_mega_eQTL, monocyte_ROSMAP_eQTL                                                                                                                                                                                                                                                                                                                                                                             |\n",
       "| C1S     | xQTL main paper                                                  | NA                 | NA         | MiGA_GTS_eQTL, MiGA_THA_eQTL, BM_44_MSBB_eQTL, Oli_DeJager_eQTL, Inh_DeJager_eQTL, Oli_Kellis_eQTL, Exc_mega_eQTL, Inh_mega_eQTL, DLPFC_Bennett_pQTL                                                                                                                                                                                                                                                                                                                                                                                               |\n",
       "| C4A     | Shulman                                                          | NA                 | NA         | NA                                                                                                                                                                                                                                                                                                                                                                                                                                                                                                                                                 |\n",
       "| C4B     | Shulman                                                          | NA                 | NA         | NA                                                                                                                                                                                                                                                                                                                                                                                                                                                                                                                                                 |\n",
       "| CARHSP1 | Shulman                                                          | NA                 | NA         | MiGA_GFM_eQTL, MiGA_SVZ_eQTL, MiGA_THA_eQTL, BM_10_MSBB_eQTL, MSBB_BM36_pQTL_chr16_ENSG00000153048_Q9Y2V2, Exc_DeJager_eQTL, Inh_DeJager_eQTL, DLPFC_DeJager_eQTL, PCC_DeJager_eQTL, AC_DeJager_eQTL, Oli_Kellis_eQTL, Exc_Kellis_eQTL, Inh_Kellis_eQTL, Exc_mega_eQTL, Inh_mega_eQTL, Oli_mega_eQTL, DLPFC_Bennett_pQTL, monocyte_ROSMAP_eQTL                                                                                                                                                                                                     |\n",
       "| CASP7   | NIAGADS_2                                                        | NA                 | NA         | Knight_eQTL_brain, MiGA_GFM_eQTL, MiGA_GTS_eQTL, MiGA_SVZ_eQTL, MiGA_THA_eQTL, BM_10_MSBB_eQTL, BM_22_MSBB_eQTL, BM_36_MSBB_eQTL, BM_44_MSBB_eQTL, MSBB_BM36_pQTL_chr10_ENSG00000165806_P55210, Ast_DeJager_eQTL, DLPFC_DeJager_eQTL, PCC_DeJager_eQTL, AC_DeJager_eQTL, Ast_Kellis_eQTL, Ast_mega_eQTL, monocyte_ROSMAP_eQTL, STARNET_eQTL_Mac                                                                                                                                                                                                    |\n",
       "| ... | ... | ... | ... | ... |\n",
       "| SNRNP70  | NIAGADS_1                             | NA           | LILRB2     | MiGA_GFM_eQTL, MiGA_GTS_eQTL, MiGA_SVZ_eQTL, MiGA_THA_eQTL, MSBB_BM36_pQTL_chr19_ENSG00000104852_P08621-4, Oli_DeJager_eQTL, AC_DeJager_eQTL, Oli_Kellis_eQTL, Ast_10_Kellis_eQTL, Ast_mega_eQTL, Oli_mega_eQTL, monocyte_ROSMAP_eQTL, STARNET_eQTL_Mac                                                                                                                                                                                                                                                                                                                                                                                                             |\n",
       "| SNX1     | NIAGADS_1                             | consistent   | consistent | MiGA_GFM_eQTL, MiGA_THA_eQTL, BM_44_MSBB_eQTL, DLPFC_DeJager_eQTL, PCC_DeJager_eQTL, AC_DeJager_eQTL, monocyte_ROSMAP_eQTL                                                                                                                                                                                                                                                                                                                                                                                                                                                                                                                                          |\n",
       "| SNX32    | Shulman                               | NA           | NA         | Knight_eQTL_brain, MiGA_GFM_eQTL, MiGA_SVZ_eQTL, BM_10_MSBB_eQTL, BM_22_MSBB_eQTL, BM_36_MSBB_eQTL, BM_44_MSBB_eQTL, MSBB_BM36_pQTL_chr11_ENSG00000172803_Q86XE0, Ast_DeJager_eQTL, Exc_DeJager_eQTL, Inh_DeJager_eQTL, DLPFC_DeJager_eQTL, PCC_DeJager_eQTL, AC_DeJager_eQTL, Exc_Kellis_eQTL, Ast_mega_eQTL, Exc_mega_eQTL, Inh_mega_eQTL, DLPFC_Bennett_pQTL, STARNET_eQTL_Mac                                                                                                                                                                                                                                                                                   |\n",
       "| SORL1    | NIAGADS_1, NIAGADS_2                  | NA           | NA         | MiGA_GFM_eQTL, MiGA_SVZ_eQTL, MiGA_THA_eQTL, AC_DeJager_eQTL, Mic_Kellis_eQTL, Ast_Kellis_eQTL, Exc_Kellis_eQTL, Ast_mega_eQTL, Inh_mega_eQTL, Mic_mega_eQTL, Oli_mega_eQTL, DLPFC_Klein_gpQTL_adjusted_gp_7280_Q92673, DLPFC_Klein_gpQTL_adjusted_gp_7281_Q92673, DLPFC_Klein_gpQTL_unadjusted_gp_7276_Q92673, DLPFC_Klein_gpQTL_unadjusted_gp_7281_Q92673, DLPFC_Klein_gpQTL_unadjusted_gp_7285_Q92673, DLPFC_Klein_gpQTL_unadjusted_gp_7288_Q92673                                                                                                                                                                                                               |\n",
       "| SORT1    | NIAGADS_1                             | NA           | NA         | MiGA_GTS_eQTL, MiGA_THA_eQTL, Oli_DeJager_eQTL, AC_DeJager_eQTL, Oli_Kellis_eQTL, Exc_Kellis_eQTL, Ast_10_Kellis_eQTL, Oli_mega_eQTL, DLPFC_Bennett_pQTL, DLPFC_Klein_gpQTL_adjusted_gp_7923_Q99523, DLPFC_Klein_gpQTL_adjusted_gp_7928_Q99523, DLPFC_Klein_gpQTL_unadjusted_gp_7917_Q99523, DLPFC_Klein_gpQTL_unadjusted_gp_7923_Q99523, DLPFC_Klein_gpQTL_unadjusted_gp_7924_Q99523, DLPFC_Klein_gpQTL_unadjusted_gp_7927_Q99523, DLPFC_Klein_gpQTL_unadjusted_gp_7928_Q99523, DLPFC_Klein_gpQTL_unadjusted_gp_7929_Q99523, DLPFC_Klein_gpQTL_unadjusted_gp_7931_Q99523, DLPFC_Klein_gpQTL_unadjusted_gp_7933_Q99523, DLPFC_Klein_gpQTL_unadjusted_gp_7936_Q99523 |\n",
       "| SPDYE3   | NIAGADS_1                             | NA           | NA         | Ast_DeJager_eQTL, Oli_DeJager_eQTL, Exc_DeJager_eQTL, Inh_DeJager_eQTL, Exc_Kellis_eQTL, Exc_mega_eQTL, Inh_mega_eQTL                                                                                                                                                                                                                                                                                                                                                                                                                                                                                                                                               |\n",
       "| SPI1     | xQTL main paper, NIAGADS_1, NIAGADS_2 | NA           | NA         | MiGA_THA_eQTL, STARNET_eQTL_Mac                                                                                                                                                                                                                                                                                                                                                                                                                                                                                                                                                                                                                                     |\n",
       "| SPPL2A   | Shulman, NIAGADS_1                    | consistent   | consistent | MiGA_GFM_eQTL, MiGA_GTS_eQTL, MiGA_SVZ_eQTL, MiGA_THA_eQTL, Inh_DeJager_eQTL, DLPFC_DeJager_eQTL, AC_DeJager_eQTL, Exc_Kellis_eQTL, Exc_mega_eQTL, Inh_mega_eQTL, Oli_mega_eQTL, DLPFC_Bennett_pQTL, STARNET_eQTL_Mac                                                                                                                                                                                                                                                                                                                                                                                                                                               |\n",
       "| SPRED2   | Shulman                               | NA           | NA         | MiGA_GFM_eQTL, MiGA_GTS_eQTL, Ast_mega_eQTL, STARNET_eQTL_Mac                                                                                                                                                                                                                                                                                                                                                                                                                                                                                                                                                                                                       |\n",
       "| STAG3    | Shulman                               | NA           | NA         | MiGA_GFM_eQTL, MiGA_GTS_eQTL, MiGA_SVZ_eQTL, MiGA_THA_eQTL, BM_10_MSBB_eQTL, BM_22_MSBB_eQTL, BM_36_MSBB_eQTL, Ast_DeJager_eQTL, Oli_DeJager_eQTL, Exc_DeJager_eQTL, Inh_DeJager_eQTL, DLPFC_DeJager_eQTL, PCC_DeJager_eQTL, Ast_Kellis_eQTL, Exc_mega_eQTL                                                                                                                                                                                                                                                                                                                                                                                                         |\n",
       "| STMN4    | Shulman                               | NA           | NA         | Knight_eQTL_brain, MiGA_SVZ_eQTL, MiGA_THA_eQTL, BM_10_MSBB_eQTL, BM_22_MSBB_eQTL, BM_36_MSBB_eQTL, BM_44_MSBB_eQTL, MSBB_BM36_pQTL_chr8_ENSG00000015592_Q9H169, Oli_DeJager_eQTL, DLPFC_DeJager_eQTL, PCC_DeJager_eQTL, AC_DeJager_eQTL, Oli_Kellis_eQTL, Oli_mega_eQTL, DLPFC_Bennett_pQTL                                                                                                                                                                                                                                                                                                                                                                        |\n",
       "| STX6     | Shulman                               | NA           | NA         | MiGA_GFM_eQTL, MiGA_SVZ_eQTL, MiGA_THA_eQTL, BM_22_MSBB_eQTL, BM_36_MSBB_eQTL, Exc_DeJager_eQTL, AC_DeJager_eQTL, Mic_Kellis_eQTL, Oli_Kellis_eQTL, Exc_Kellis_eQTL, Inh_Kellis_eQTL, Exc_mega_eQTL, Inh_mega_eQTL, Mic_mega_eQTL, OPC_mega_eQTL, Oli_mega_eQTL, STARNET_eQTL_Mac                                                                                                                                                                                                                                                                                                                                                                                   |\n",
       "| TMEM106B | gpQTL, NIAGADS_1                      | NA           | NA         | MiGA_GFM_eQTL, MiGA_GTS_eQTL, MiGA_THA_eQTL, Exc_mega_eQTL, Inh_mega_eQTL, DLPFC_Bennett_pQTL, DLPFC_Klein_gpQTL_unadjusted_gp_8491_Q9NUM4, STARNET_eQTL_Mac                                                                                                                                                                                                                                                                                                                                                                                                                                                                                                        |\n",
       "| TNIP1    | NIAGADS_1                             | consistent   | consistent | MiGA_GTS_eQTL, MiGA_SVZ_eQTL, BM_44_MSBB_eQTL, Exc_DeJager_eQTL, DLPFC_DeJager_eQTL, PCC_DeJager_eQTL                                                                                                                                                                                                                                                                                                                                                                                                                                                                                                                                                               |\n",
       "| TPCN1    | NIAGADS_1                             | NA           | NA         | MiGA_GFM_eQTL, MiGA_GTS_eQTL, MiGA_SVZ_eQTL, Ast_10_Kellis_eQTL                                                                                                                                                                                                                                                                                                                                                                                                                                                                                                                                                                                                     |\n",
       "| TREM2    | xQTL main paper, NIAGADS_1, NIAGADS_2 | NA           | NA         | MiGA_THA_eQTL, BM_36_MSBB_eQTL, BM_44_MSBB_eQTL, DLPFC_DeJager_eQTL, PCC_DeJager_eQTL, AC_DeJager_eQTL, STARNET_eQTL_Mac                                                                                                                                                                                                                                                                                                                                                                                                                                                                                                                                            |\n",
       "| TREML2   | xQTL main paper, NIAGADS_1            | NA           | NA         | monocyte_ROSMAP_eQTL, STARNET_eQTL_Mac                                                                                                                                                                                                                                                                                                                                                                                                                                                                                                                                                                                                                              |\n",
       "| TSPAN14  | LeafCutter2, Shulman, NIAGADS_1       | NA           | NA         | Knight_eQTL_brain, MiGA_THA_eQTL, BM_10_MSBB_eQTL, BM_36_MSBB_eQTL, BM_44_MSBB_eQTL, MSBB_BM36_pQTL_chr10_ENSG00000108219_Q8NG11, Oli_DeJager_eQTL, DLPFC_DeJager_eQTL, PCC_DeJager_eQTL, AC_DeJager_eQTL, Ast_Kellis_eQTL, Oli_Kellis_eQTL, Exc_Kellis_eQTL, Mic_13_Kellis_eQTL, Ast_mega_eQTL, Exc_mega_eQTL, Oli_mega_eQTL, STARNET_eQTL_Mac                                                                                                                                                                                                                                                                                                                     |\n",
       "| TSPOAP1  | NIAGADS_1                             | GDPD1        | NA         | MiGA_GFM_eQTL, MiGA_SVZ_eQTL, MiGA_THA_eQTL, BM_10_MSBB_eQTL, BM_22_MSBB_eQTL, BM_36_MSBB_eQTL, BM_44_MSBB_eQTL, Ast_DeJager_eQTL, OPC_DeJager_eQTL, Exc_DeJager_eQTL, Inh_DeJager_eQTL, AC_DeJager_eQTL, Ast_Kellis_eQTL, OPC_Kellis_eQTL, Exc_Kellis_eQTL, Ast_10_Kellis_eQTL, Ast_mega_eQTL, Exc_mega_eQTL, Inh_mega_eQTL, OPC_mega_eQTL                                                                                                                                                                                                                                                                                                                         |\n",
       "| UMAD1    | NIAGADS_1                             | NA           | NA         | MiGA_GTS_eQTL, MiGA_SVZ_eQTL, MiGA_THA_eQTL, BM_36_MSBB_eQTL, MSBB_BM36_pQTL_chr7_ENSG00000219545_C9J7I0, DLPFC_DeJager_eQTL, AC_DeJager_eQTL, Exc_Kellis_eQTL, Ast_10_Kellis_eQTL, Exc_mega_eQTL, STARNET_eQTL_Mac                                                                                                                                                                                                                                                                                                                                                                                                                                                 |\n",
       "| UNC5CL   | NIAGADS_1                             | NA           | NA         | MiGA_GFM_eQTL, MiGA_THA_eQTL                                                                                                                                                                                                                                                                                                                                                                                                                                                                                                                                                                                                                                        |\n",
       "| USP6NL   | xQTL main paper, NIAGADS_1            | NA           | NA         | MiGA_GTS_eQTL, MiGA_THA_eQTL, BM_36_MSBB_eQTL, Mic_DeJager_eQTL, Oli_DeJager_eQTL, Exc_DeJager_eQTL, Inh_DeJager_eQTL, DLPFC_DeJager_eQTL, PCC_DeJager_eQTL, AC_DeJager_eQTL, Mic_Kellis_eQTL, Oli_Kellis_eQTL, Exc_mega_eQTL, Inh_mega_eQTL, Mic_mega_eQTL, OPC_mega_eQTL, Oli_mega_eQTL, STARNET_eQTL_Mac                                                                                                                                                                                                                                                                                                                                                         |\n",
       "| WDR12    | xQTL main paper, NIAGADS_1            | WDR12,NBEAL1 | NA         | BM_22_MSBB_eQTL, BM_44_MSBB_eQTL, DLPFC_DeJager_eQTL, PCC_DeJager_eQTL, AC_DeJager_eQTL, Exc_mega_eQTL, monocyte_ROSMAP_eQTL                                                                                                                                                                                                                                                                                                                                                                                                                                                                                                                                        |\n",
       "| WDR81    | NIAGADS_1                             | NA           | NA         | MiGA_GFM_eQTL, MiGA_GTS_eQTL, MiGA_SVZ_eQTL, MiGA_THA_eQTL, MSBB_BM36_pQTL_chr17_ENSG00000167716_Q562E7, Exc_DeJager_eQTL, AC_DeJager_eQTL, Ast_Kellis_eQTL, Exc_Kellis_eQTL, Exc_mega_eQTL, DLPFC_Bennett_pQTL, STARNET_eQTL_Mac                                                                                                                                                                                                                                                                                                                                                                                                                                   |\n",
       "| WNT3     | NIAGADS_1                             | NA           | NA         | Knight_eQTL_brain, MiGA_GFM_eQTL, MiGA_SVZ_eQTL, MiGA_THA_eQTL, BM_10_MSBB_eQTL, BM_22_MSBB_eQTL, BM_36_MSBB_eQTL, BM_44_MSBB_eQTL, Exc_DeJager_eQTL, DLPFC_DeJager_eQTL, PCC_DeJager_eQTL, AC_DeJager_eQTL, Exc_mega_eQTL, Inh_mega_eQTL                                                                                                                                                                                                                                                                                                                                                                                                                           |\n",
       "| WWOX     | Shulman                               | NA           | NA         | Knight_eQTL_brain, MiGA_GFM_eQTL, MiGA_SVZ_eQTL, MiGA_THA_eQTL, BM_10_MSBB_eQTL, BM_22_MSBB_eQTL, BM_36_MSBB_eQTL, BM_44_MSBB_eQTL, MSBB_BM36_pQTL_chr16_ENSG00000186153_Q9NZC7, Mic_DeJager_eQTL, Ast_DeJager_eQTL, Oli_DeJager_eQTL, OPC_DeJager_eQTL, Exc_DeJager_eQTL, Inh_DeJager_eQTL, DLPFC_DeJager_eQTL, PCC_DeJager_eQTL, AC_DeJager_eQTL, Mic_Kellis_eQTL, Ast_Kellis_eQTL, Oli_Kellis_eQTL, OPC_Kellis_eQTL, Exc_Kellis_eQTL, Inh_Kellis_eQTL, Ast_10_Kellis_eQTL, Ast_mega_eQTL, Exc_mega_eQTL, Inh_mega_eQTL, Mic_mega_eQTL, OPC_mega_eQTL, Oli_mega_eQTL, DLPFC_Bennett_pQTL, STARNET_eQTL_Mac                                                        |\n",
       "| YOD1     | Shulman                               | NA           | NA         | MiGA_GFM_eQTL, BM_44_MSBB_eQTL, MSBB_BM36_pQTL_chr1_ENSG00000180667_Q5VVQ6, Exc_DeJager_eQTL, Inh_DeJager_eQTL, DLPFC_DeJager_eQTL, PCC_DeJager_eQTL, AC_DeJager_eQTL, Exc_Kellis_eQTL, Exc_mega_eQTL, DLPFC_Bennett_pQTL                                                                                                                                                                                                                                                                                                                                                                                                                                           |\n",
       "| ZNF843   | NIAGADS_1                             | NA           | BCKDK      | MiGA_GTS_eQTL, MiGA_SVZ_eQTL, MiGA_THA_eQTL, AC_DeJager_eQTL, monocyte_ROSMAP_eQTL                                                                                                                                                                                                                                                                                                                                                                                                                                                                                                                                                                                  |\n",
       "| ZYX      | xQTL main paper                       | NA           | NA         | MiGA_SVZ_eQTL, BM_36_MSBB_eQTL, Mic_DeJager_eQTL, Inh_DeJager_eQTL, PCC_DeJager_eQTL, AC_DeJager_eQTL, DLPFC_Bennett_pQTL, monocyte_ROSMAP_eQTL, STARNET_eQTL_Mac                                                                                                                                                                                                                                                                                                                                                                                                                                                                                                   |\n",
       "| LACTB    | xQTL main paper                       | NA           | NA         | Knight_eQTL_brain, MiGA_GFM_eQTL, MiGA_SVZ_eQTL, MiGA_THA_eQTL, BM_10_MSBB_eQTL, BM_22_MSBB_eQTL, BM_36_MSBB_eQTL, BM_44_MSBB_eQTL, MSBB_BM36_pQTL_chr15_ENSG00000103642_P83111, Mic_DeJager_eQTL, Oli_DeJager_eQTL, Exc_DeJager_eQTL, DLPFC_DeJager_eQTL, PCC_DeJager_eQTL, AC_DeJager_eQTL, Mic_Kellis_eQTL, Oli_Kellis_eQTL, Inh_Kellis_eQTL, Ast_mega_eQTL, Inh_mega_eQTL, Mic_mega_eQTL, Oli_mega_eQTL, DLPFC_Bennett_pQTL, STARNET_eQTL_Mac                                                                                                                                                                                                                   |\n",
       "\n"
      ],
      "text/plain": [
       "    Gene_name Projects_or_PI_interested                                       \n",
       "1   ABCA1     NIAGADS_1                                                       \n",
       "2   ABCA7     Shulman, NIAGADS_1, NIAGADS_2                                   \n",
       "3   ABHD17C   NIAGADS_1                                                       \n",
       "4   ABI3      NIAGADS_1, NIAGADS_2                                            \n",
       "5   ACE       gpQTL, NIAGADS_1                                                \n",
       "6   ADAM10    Shulman, NIAGADS_2                                              \n",
       "7   ADAM17    xQTL main paper, Shulman, NIAGADS_1                             \n",
       "8   ADAMTS1   NIAGADS_1                                                       \n",
       "9   AKAP9     Shulman                                                         \n",
       "10  ALDH1A2   Shulman                                                         \n",
       "11  ANK3      NIAGADS_1                                                       \n",
       "12  ANKH      NIAGADS_1                                                       \n",
       "13  AP4M1     Shulman                                                         \n",
       "14  APBB3     NIAGADS_2                                                       \n",
       "15  APH1B     xQTL main paper, Shulman, NIAGADS_1                             \n",
       "16  APOC1     xQTL main paper                                                 \n",
       "17  APOC4     xQTL main paper                                                 \n",
       "18  APOE      Shulman, NIAGADS_2                                              \n",
       "19  APP       xQTL main paper, Shulman, St George-Hyslop, NIAGADS_1, NIAGADS_2\n",
       "20  AQP9      Shulman                                                         \n",
       "21  ARRB2     Shulman                                                         \n",
       "22  ARSA      Shulman                                                         \n",
       "23  BCKDK     NIAGADS_1                                                       \n",
       "24  BIN1      Shulman, NIAGADS_1, NIAGADS_2                                   \n",
       "25  BLNK      ColocBoost, NIAGADS_1                                           \n",
       "26  C1S       xQTL main paper                                                 \n",
       "27  C4A       Shulman                                                         \n",
       "28  C4B       Shulman                                                         \n",
       "29  CARHSP1   Shulman                                                         \n",
       "30  CASP7     NIAGADS_2                                                       \n",
       "... ...       ...                                                             \n",
       "128 SNRNP70   NIAGADS_1                                                       \n",
       "129 SNX1      NIAGADS_1                                                       \n",
       "130 SNX32     Shulman                                                         \n",
       "131 SORL1     NIAGADS_1, NIAGADS_2                                            \n",
       "132 SORT1     NIAGADS_1                                                       \n",
       "133 SPDYE3    NIAGADS_1                                                       \n",
       "134 SPI1      xQTL main paper, NIAGADS_1, NIAGADS_2                           \n",
       "135 SPPL2A    Shulman, NIAGADS_1                                              \n",
       "136 SPRED2    Shulman                                                         \n",
       "137 STAG3     Shulman                                                         \n",
       "138 STMN4     Shulman                                                         \n",
       "139 STX6      Shulman                                                         \n",
       "140 TMEM106B  gpQTL, NIAGADS_1                                                \n",
       "141 TNIP1     NIAGADS_1                                                       \n",
       "142 TPCN1     NIAGADS_1                                                       \n",
       "143 TREM2     xQTL main paper, NIAGADS_1, NIAGADS_2                           \n",
       "144 TREML2    xQTL main paper, NIAGADS_1                                      \n",
       "145 TSPAN14   LeafCutter2, Shulman, NIAGADS_1                                 \n",
       "146 TSPOAP1   NIAGADS_1                                                       \n",
       "147 UMAD1     NIAGADS_1                                                       \n",
       "148 UNC5CL    NIAGADS_1                                                       \n",
       "149 USP6NL    xQTL main paper, NIAGADS_1                                      \n",
       "150 WDR12     xQTL main paper, NIAGADS_1                                      \n",
       "151 WDR81     NIAGADS_1                                                       \n",
       "152 WNT3      NIAGADS_1                                                       \n",
       "153 WWOX      Shulman                                                         \n",
       "154 YOD1      Shulman                                                         \n",
       "155 ZNF843    NIAGADS_1                                                       \n",
       "156 ZYX       xQTL main paper                                                 \n",
       "157 LACTB     xQTL main paper                                                 \n",
       "    NIAGADS_debate     xQTL_debate\n",
       "1   consistent         consistent \n",
       "2   NA                 NA         \n",
       "3   NA                 CTSH       \n",
       "4   NA                 NA         \n",
       "5   consistent         consistent \n",
       "6   NA                 NA         \n",
       "7   ITGB1BP1           NA         \n",
       "8   NA                 NA         \n",
       "9   NA                 NA         \n",
       "10  NA                 NA         \n",
       "11  NA                 NA         \n",
       "12  NA                 NA         \n",
       "13  NA                 NA         \n",
       "14  NA                 NA         \n",
       "15  consistent         consistent \n",
       "16  NA                 NA         \n",
       "17  NA                 NA         \n",
       "18  NA                 NA         \n",
       "19  NA                 NA         \n",
       "20  NA                 NA         \n",
       "21  NA                 NA         \n",
       "22  NA                 NA         \n",
       "23  KAT8,ZNF843,PRSS36 NA         \n",
       "24  consistent         consistent \n",
       "25  NA                 NA         \n",
       "26  NA                 NA         \n",
       "27  NA                 NA         \n",
       "28  NA                 NA         \n",
       "29  NA                 NA         \n",
       "30  NA                 NA         \n",
       "... ...                ...        \n",
       "128 NA                 LILRB2     \n",
       "129 consistent         consistent \n",
       "130 NA                 NA         \n",
       "131 NA                 NA         \n",
       "132 NA                 NA         \n",
       "133 NA                 NA         \n",
       "134 NA                 NA         \n",
       "135 consistent         consistent \n",
       "136 NA                 NA         \n",
       "137 NA                 NA         \n",
       "138 NA                 NA         \n",
       "139 NA                 NA         \n",
       "140 NA                 NA         \n",
       "141 consistent         consistent \n",
       "142 NA                 NA         \n",
       "143 NA                 NA         \n",
       "144 NA                 NA         \n",
       "145 NA                 NA         \n",
       "146 GDPD1              NA         \n",
       "147 NA                 NA         \n",
       "148 NA                 NA         \n",
       "149 NA                 NA         \n",
       "150 WDR12,NBEAL1       NA         \n",
       "151 NA                 NA         \n",
       "152 NA                 NA         \n",
       "153 NA                 NA         \n",
       "154 NA                 NA         \n",
       "155 NA                 BCKDK      \n",
       "156 NA                 NA         \n",
       "157 NA                 NA         \n",
       "    study_xQTL                                                                                                                                                                                                                                                                                                                                                                                                                                                                                                                                                                                                                                                         \n",
       "1   MiGA_GTS_eQTL, MiGA_SVZ_eQTL, Exc_DeJager_eQTL, AC_DeJager_eQTL, Exc_Kellis_eQTL, Exc_mega_eQTL, Inh_mega_eQTL, Mic_mega_eQTL, monocyte_ROSMAP_eQTL                                                                                                                                                                                                                                                                                                                                                                                                                                                                                                                \n",
       "2   Knight_eQTL_brain, MiGA_GTS_eQTL, MiGA_SVZ_eQTL, BM_22_MSBB_eQTL, BM_44_MSBB_eQTL, Oli_DeJager_eQTL, DLPFC_DeJager_eQTL, PCC_DeJager_eQTL, AC_DeJager_eQTL, Oli_Kellis_eQTL, DLPFC_Bennett_pQTL, DLPFC_Klein_gpQTL_adjusted_gp_6964_Q8IZY2, DLPFC_Klein_gpQTL_adjusted_gp_6965_Q8IZY2, DLPFC_Klein_gpQTL_unadjusted_gp_6964_Q8IZY2, DLPFC_Klein_gpQTL_unadjusted_gp_6965_Q8IZY2, monocyte_ROSMAP_eQTL, STARNET_eQTL_Mac                                                                                                                                                                                                                                            \n",
       "3   MiGA_GTS_eQTL, MiGA_SVZ_eQTL, BM_22_MSBB_eQTL, Ast_DeJager_eQTL, DLPFC_DeJager_eQTL, AC_DeJager_eQTL, Ast_Kellis_eQTL, Ast_mega_eQTL, STARNET_eQTL_Mac                                                                                                                                                                                                                                                                                                                                                                                                                                                                                                             \n",
       "4   MiGA_GFM_eQTL, MiGA_GTS_eQTL, MiGA_SVZ_eQTL, BM_44_MSBB_eQTL, Mic_mega_eQTL, STARNET_eQTL_Mac                                                                                                                                                                                                                                                                                                                                                                                                                                                                                                                                                                      \n",
       "5   Knight_eQTL_brain, BM_22_MSBB_eQTL, BM_36_MSBB_eQTL, BM_44_MSBB_eQTL, MSBB_BM36_pQTL_chr17_ENSG00000159640_P12821, Exc_DeJager_eQTL, DLPFC_DeJager_eQTL, PCC_DeJager_eQTL, Exc_mega_eQTL, DLPFC_Bennett_pQTL, DLPFC_Klein_gpQTL_adjusted_gp_2630_P12821, DLPFC_Klein_gpQTL_adjusted_gp_2632_P12821, DLPFC_Klein_gpQTL_unadjusted_gp_2629_P12821, DLPFC_Klein_gpQTL_unadjusted_gp_2630_P12821, DLPFC_Klein_gpQTL_unadjusted_gp_2632_P12821                                                                                                                                                                                                                          \n",
       "6   MiGA_GTS_eQTL, MiGA_SVZ_eQTL, BM_36_MSBB_eQTL, Oli_DeJager_eQTL, Oli_Kellis_eQTL, Exc_Kellis_eQTL, Exc_mega_eQTL, Mic_mega_eQTL, Oli_mega_eQTL, DLPFC_Bennett_pQTL, DLPFC_Klein_gpQTL_adjusted_gp_0147_O14672, DLPFC_Klein_gpQTL_adjusted_gp_0154_O14672, DLPFC_Klein_gpQTL_adjusted_gp_0155_O14672, DLPFC_Klein_gpQTL_adjusted_gp_0156_O14672, DLPFC_Klein_gpQTL_adjusted_gp_0157_O14672, DLPFC_Klein_gpQTL_unadjusted_gp_0154_O14672, DLPFC_Klein_gpQTL_unadjusted_gp_0156_O14672, DLPFC_Klein_gpQTL_unadjusted_gp_0157_O14672, STARNET_eQTL_Mac                                                                                                                 \n",
       "7   Knight_eQTL_brain, MiGA_GTS_eQTL, MiGA_SVZ_eQTL, MiGA_THA_eQTL, BM_10_MSBB_eQTL, BM_22_MSBB_eQTL, BM_36_MSBB_eQTL, BM_44_MSBB_eQTL, Ast_DeJager_eQTL, Oli_DeJager_eQTL, Exc_DeJager_eQTL, Inh_DeJager_eQTL, DLPFC_DeJager_eQTL, PCC_DeJager_eQTL, AC_DeJager_eQTL, Ast_Kellis_eQTL, Oli_Kellis_eQTL, Exc_Kellis_eQTL, Ast_mega_eQTL, Exc_mega_eQTL, Inh_mega_eQTL, Mic_mega_eQTL, OPC_mega_eQTL, Oli_mega_eQTL, DLPFC_Klein_gpQTL_adjusted_gp_5127_P78536                                                                                                                                                                                                          \n",
       "8   MiGA_GFM_eQTL, MiGA_GTS_eQTL, MiGA_SVZ_eQTL, MiGA_THA_eQTL                                                                                                                                                                                                                                                                                                                                                                                                                                                                                                                                                                                                         \n",
       "9   NA                                                                                                                                                                                                                                                                                                                                                                                                                                                                                                                                                                                                                                                                 \n",
       "10  MSBB_BM36_pQTL_chr15_ENSG00000128918_O94788, Oli_DeJager_eQTL, Exc_DeJager_eQTL, Inh_DeJager_eQTL, DLPFC_DeJager_eQTL, AC_DeJager_eQTL, Oli_Kellis_eQTL, Exc_Kellis_eQTL, Exc_mega_eQTL, Inh_mega_eQTL, Oli_mega_eQTL, STARNET_eQTL_Mac                                                                                                                                                                                                                                                                                                                                                                                                                            \n",
       "11  Knight_eQTL_brain, MiGA_GTS_eQTL, MiGA_SVZ_eQTL, BM_10_MSBB_eQTL, BM_22_MSBB_eQTL, BM_36_MSBB_eQTL, BM_44_MSBB_eQTL, MSBB_BM36_pQTL_chr10_ENSG00000151150_H0YAH5, Oli_DeJager_eQTL, DLPFC_DeJager_eQTL, AC_DeJager_eQTL, Oli_Kellis_eQTL, Exc_Kellis_eQTL, Inh_mega_eQTL, OPC_mega_eQTL, Oli_mega_eQTL                                                                                                                                                                                                                                                                                                                                                             \n",
       "12  MiGA_GFM_eQTL, MiGA_GTS_eQTL, MiGA_SVZ_eQTL, Oli_DeJager_eQTL, Exc_DeJager_eQTL, Inh_DeJager_eQTL, AC_DeJager_eQTL, Ast_Kellis_eQTL, Oli_Kellis_eQTL, Exc_Kellis_eQTL, Inh_Kellis_eQTL, Exc_mega_eQTL, Inh_mega_eQTL, OPC_mega_eQTL, Oli_mega_eQTL, STARNET_eQTL_Mac                                                                                                                                                                                                                                                                                                                                                                                               \n",
       "13  MiGA_GFM_eQTL, MiGA_GTS_eQTL, MiGA_SVZ_eQTL, MiGA_THA_eQTL, MSBB_BM36_pQTL_chr7_ENSG00000221838_O00189                                                                                                                                                                                                                                                                                                                                                                                                                                                                                                                                                             \n",
       "14  MiGA_SVZ_eQTL, DLPFC_DeJager_eQTL, AC_DeJager_eQTL, Ast_Kellis_eQTL, Oli_Kellis_eQTL                                                                                                                                                                                                                                                                                                                                                                                                                                                                                                                                                                               \n",
       "15  MiGA_GTS_eQTL, MiGA_SVZ_eQTL, MiGA_THA_eQTL, BM_10_MSBB_eQTL, BM_36_MSBB_eQTL, Oli_DeJager_eQTL, Exc_DeJager_eQTL, DLPFC_DeJager_eQTL, AC_DeJager_eQTL, Oli_Kellis_eQTL, Exc_Kellis_eQTL, Inh_Kellis_eQTL, Ast_mega_eQTL, Exc_mega_eQTL, Inh_mega_eQTL, OPC_mega_eQTL, Oli_mega_eQTL                                                                                                                                                                                                                                                                                                                                                                               \n",
       "16  MiGA_GFM_eQTL, MiGA_GTS_eQTL, MSBB_BM36_pQTL_chr19_ENSG00000130208_P02654, Mic_DeJager_eQTL, DLPFC_DeJager_eQTL, AC_DeJager_eQTL, Mic_mega_eQTL, STARNET_eQTL_Mac                                                                                                                                                                                                                                                                                                                                                                                                                                                                                                  \n",
       "17  BM_36_MSBB_eQTL, STARNET_eQTL_Mac                                                                                                                                                                                                                                                                                                                                                                                                                                                                                                                                                                                                                                  \n",
       "18  MiGA_SVZ_eQTL, Mic_Kellis_eQTL, Ast_10_Kellis_eQTL, DLPFC_Klein_gpQTL_adjusted_gp_1235_P02649, DLPFC_Klein_gpQTL_unadjusted_gp_1235_P02649, monocyte_ROSMAP_eQTL, STARNET_eQTL_Mac                                                                                                                                                                                                                                                                                                                                                                                                                                                                                 \n",
       "19  BM_36_MSBB_eQTL, Oli_DeJager_eQTL, AC_DeJager_eQTL, Oli_Kellis_eQTL, Exc_mega_eQTL, Mic_mega_eQTL, Oli_mega_eQTL                                                                                                                                                                                                                                                                                                                                                                                                                                                                                                                                                   \n",
       "20  MiGA_GFM_eQTL, MiGA_SVZ_eQTL, MiGA_THA_eQTL                                                                                                                                                                                                                                                                                                                                                                                                                                                                                                                                                                                                                        \n",
       "21  MiGA_GTS_eQTL, MiGA_SVZ_eQTL, DLPFC_Bennett_pQTL, STARNET_eQTL_Mac                                                                                                                                                                                                                                                                                                                                                                                                                                                                                                                                                                                                 \n",
       "22  MiGA_GFM_eQTL, MiGA_GTS_eQTL, MiGA_SVZ_eQTL, MiGA_THA_eQTL, BM_22_MSBB_eQTL, BM_44_MSBB_eQTL, MSBB_BM36_pQTL_chr22_ENSG00000100299_P15289, Ast_DeJager_eQTL, Oli_DeJager_eQTL, Exc_DeJager_eQTL, DLPFC_DeJager_eQTL, PCC_DeJager_eQTL, AC_DeJager_eQTL, Oli_Kellis_eQTL, OPC_Kellis_eQTL, Exc_Kellis_eQTL, Inh_Kellis_eQTL, Ast_mega_eQTL, Exc_mega_eQTL, Inh_mega_eQTL, Oli_mega_eQTL, DLPFC_Bennett_pQTL, monocyte_ROSMAP_eQTL, STARNET_eQTL_Mac                                                                                                                                                                                                                 \n",
       "23  MiGA_THA_eQTL, Inh_Kellis_eQTL, STARNET_eQTL_Mac                                                                                                                                                                                                                                                                                                                                                                                                                                                                                                                                                                                                                   \n",
       "24  MiGA_THA_eQTL, Mic_DeJager_eQTL, Exc_DeJager_eQTL, PCC_DeJager_eQTL, AC_DeJager_eQTL, Mic_Kellis_eQTL, Exc_Kellis_eQTL, Mic_13_Kellis_eQTL, Exc_mega_eQTL, Mic_mega_eQTL, DLPFC_Bennett_pQTL, DLPFC_Klein_gpQTL_unadjusted_gp_0060_O00499, STARNET_eQTL_Mac                                                                                                                                                                                                                                                                                                                                                                                                        \n",
       "25  MiGA_GFM_eQTL, MiGA_GTS_eQTL, MiGA_SVZ_eQTL, MiGA_THA_eQTL, BM_10_MSBB_eQTL, AC_DeJager_eQTL, Mic_Kellis_eQTL, Mic_13_Kellis_eQTL, Mic_mega_eQTL, monocyte_ROSMAP_eQTL                                                                                                                                                                                                                                                                                                                                                                                                                                                                                             \n",
       "26  MiGA_GTS_eQTL, MiGA_THA_eQTL, BM_44_MSBB_eQTL, Oli_DeJager_eQTL, Inh_DeJager_eQTL, Oli_Kellis_eQTL, Exc_mega_eQTL, Inh_mega_eQTL, DLPFC_Bennett_pQTL                                                                                                                                                                                                                                                                                                                                                                                                                                                                                                               \n",
       "27  NA                                                                                                                                                                                                                                                                                                                                                                                                                                                                                                                                                                                                                                                                 \n",
       "28  NA                                                                                                                                                                                                                                                                                                                                                                                                                                                                                                                                                                                                                                                                 \n",
       "29  MiGA_GFM_eQTL, MiGA_SVZ_eQTL, MiGA_THA_eQTL, BM_10_MSBB_eQTL, MSBB_BM36_pQTL_chr16_ENSG00000153048_Q9Y2V2, Exc_DeJager_eQTL, Inh_DeJager_eQTL, DLPFC_DeJager_eQTL, PCC_DeJager_eQTL, AC_DeJager_eQTL, Oli_Kellis_eQTL, Exc_Kellis_eQTL, Inh_Kellis_eQTL, Exc_mega_eQTL, Inh_mega_eQTL, Oli_mega_eQTL, DLPFC_Bennett_pQTL, monocyte_ROSMAP_eQTL                                                                                                                                                                                                                                                                                                                     \n",
       "30  Knight_eQTL_brain, MiGA_GFM_eQTL, MiGA_GTS_eQTL, MiGA_SVZ_eQTL, MiGA_THA_eQTL, BM_10_MSBB_eQTL, BM_22_MSBB_eQTL, BM_36_MSBB_eQTL, BM_44_MSBB_eQTL, MSBB_BM36_pQTL_chr10_ENSG00000165806_P55210, Ast_DeJager_eQTL, DLPFC_DeJager_eQTL, PCC_DeJager_eQTL, AC_DeJager_eQTL, Ast_Kellis_eQTL, Ast_mega_eQTL, monocyte_ROSMAP_eQTL, STARNET_eQTL_Mac                                                                                                                                                                                                                                                                                                                    \n",
       "... ...                                                                                                                                                                                                                                                                                                                                                                                                                                                                                                                                                                                                                                                                \n",
       "128 MiGA_GFM_eQTL, MiGA_GTS_eQTL, MiGA_SVZ_eQTL, MiGA_THA_eQTL, MSBB_BM36_pQTL_chr19_ENSG00000104852_P08621-4, Oli_DeJager_eQTL, AC_DeJager_eQTL, Oli_Kellis_eQTL, Ast_10_Kellis_eQTL, Ast_mega_eQTL, Oli_mega_eQTL, monocyte_ROSMAP_eQTL, STARNET_eQTL_Mac                                                                                                                                                                                                                                                                                                                                                                                                            \n",
       "129 MiGA_GFM_eQTL, MiGA_THA_eQTL, BM_44_MSBB_eQTL, DLPFC_DeJager_eQTL, PCC_DeJager_eQTL, AC_DeJager_eQTL, monocyte_ROSMAP_eQTL                                                                                                                                                                                                                                                                                                                                                                                                                                                                                                                                         \n",
       "130 Knight_eQTL_brain, MiGA_GFM_eQTL, MiGA_SVZ_eQTL, BM_10_MSBB_eQTL, BM_22_MSBB_eQTL, BM_36_MSBB_eQTL, BM_44_MSBB_eQTL, MSBB_BM36_pQTL_chr11_ENSG00000172803_Q86XE0, Ast_DeJager_eQTL, Exc_DeJager_eQTL, Inh_DeJager_eQTL, DLPFC_DeJager_eQTL, PCC_DeJager_eQTL, AC_DeJager_eQTL, Exc_Kellis_eQTL, Ast_mega_eQTL, Exc_mega_eQTL, Inh_mega_eQTL, DLPFC_Bennett_pQTL, STARNET_eQTL_Mac                                                                                                                                                                                                                                                                                  \n",
       "131 MiGA_GFM_eQTL, MiGA_SVZ_eQTL, MiGA_THA_eQTL, AC_DeJager_eQTL, Mic_Kellis_eQTL, Ast_Kellis_eQTL, Exc_Kellis_eQTL, Ast_mega_eQTL, Inh_mega_eQTL, Mic_mega_eQTL, Oli_mega_eQTL, DLPFC_Klein_gpQTL_adjusted_gp_7280_Q92673, DLPFC_Klein_gpQTL_adjusted_gp_7281_Q92673, DLPFC_Klein_gpQTL_unadjusted_gp_7276_Q92673, DLPFC_Klein_gpQTL_unadjusted_gp_7281_Q92673, DLPFC_Klein_gpQTL_unadjusted_gp_7285_Q92673, DLPFC_Klein_gpQTL_unadjusted_gp_7288_Q92673                                                                                                                                                                                                              \n",
       "132 MiGA_GTS_eQTL, MiGA_THA_eQTL, Oli_DeJager_eQTL, AC_DeJager_eQTL, Oli_Kellis_eQTL, Exc_Kellis_eQTL, Ast_10_Kellis_eQTL, Oli_mega_eQTL, DLPFC_Bennett_pQTL, DLPFC_Klein_gpQTL_adjusted_gp_7923_Q99523, DLPFC_Klein_gpQTL_adjusted_gp_7928_Q99523, DLPFC_Klein_gpQTL_unadjusted_gp_7917_Q99523, DLPFC_Klein_gpQTL_unadjusted_gp_7923_Q99523, DLPFC_Klein_gpQTL_unadjusted_gp_7924_Q99523, DLPFC_Klein_gpQTL_unadjusted_gp_7927_Q99523, DLPFC_Klein_gpQTL_unadjusted_gp_7928_Q99523, DLPFC_Klein_gpQTL_unadjusted_gp_7929_Q99523, DLPFC_Klein_gpQTL_unadjusted_gp_7931_Q99523, DLPFC_Klein_gpQTL_unadjusted_gp_7933_Q99523, DLPFC_Klein_gpQTL_unadjusted_gp_7936_Q99523\n",
       "133 Ast_DeJager_eQTL, Oli_DeJager_eQTL, Exc_DeJager_eQTL, Inh_DeJager_eQTL, Exc_Kellis_eQTL, Exc_mega_eQTL, Inh_mega_eQTL                                                                                                                                                                                                                                                                                                                                                                                                                                                                                                                                              \n",
       "134 MiGA_THA_eQTL, STARNET_eQTL_Mac                                                                                                                                                                                                                                                                                                                                                                                                                                                                                                                                                                                                                                    \n",
       "135 MiGA_GFM_eQTL, MiGA_GTS_eQTL, MiGA_SVZ_eQTL, MiGA_THA_eQTL, Inh_DeJager_eQTL, DLPFC_DeJager_eQTL, AC_DeJager_eQTL, Exc_Kellis_eQTL, Exc_mega_eQTL, Inh_mega_eQTL, Oli_mega_eQTL, DLPFC_Bennett_pQTL, STARNET_eQTL_Mac                                                                                                                                                                                                                                                                                                                                                                                                                                              \n",
       "136 MiGA_GFM_eQTL, MiGA_GTS_eQTL, Ast_mega_eQTL, STARNET_eQTL_Mac                                                                                                                                                                                                                                                                                                                                                                                                                                                                                                                                                                                                      \n",
       "137 MiGA_GFM_eQTL, MiGA_GTS_eQTL, MiGA_SVZ_eQTL, MiGA_THA_eQTL, BM_10_MSBB_eQTL, BM_22_MSBB_eQTL, BM_36_MSBB_eQTL, Ast_DeJager_eQTL, Oli_DeJager_eQTL, Exc_DeJager_eQTL, Inh_DeJager_eQTL, DLPFC_DeJager_eQTL, PCC_DeJager_eQTL, Ast_Kellis_eQTL, Exc_mega_eQTL                                                                                                                                                                                                                                                                                                                                                                                                        \n",
       "138 Knight_eQTL_brain, MiGA_SVZ_eQTL, MiGA_THA_eQTL, BM_10_MSBB_eQTL, BM_22_MSBB_eQTL, BM_36_MSBB_eQTL, BM_44_MSBB_eQTL, MSBB_BM36_pQTL_chr8_ENSG00000015592_Q9H169, Oli_DeJager_eQTL, DLPFC_DeJager_eQTL, PCC_DeJager_eQTL, AC_DeJager_eQTL, Oli_Kellis_eQTL, Oli_mega_eQTL, DLPFC_Bennett_pQTL                                                                                                                                                                                                                                                                                                                                                                       \n",
       "139 MiGA_GFM_eQTL, MiGA_SVZ_eQTL, MiGA_THA_eQTL, BM_22_MSBB_eQTL, BM_36_MSBB_eQTL, Exc_DeJager_eQTL, AC_DeJager_eQTL, Mic_Kellis_eQTL, Oli_Kellis_eQTL, Exc_Kellis_eQTL, Inh_Kellis_eQTL, Exc_mega_eQTL, Inh_mega_eQTL, Mic_mega_eQTL, OPC_mega_eQTL, Oli_mega_eQTL, STARNET_eQTL_Mac                                                                                                                                                                                                                                                                                                                                                                                  \n",
       "140 MiGA_GFM_eQTL, MiGA_GTS_eQTL, MiGA_THA_eQTL, Exc_mega_eQTL, Inh_mega_eQTL, DLPFC_Bennett_pQTL, DLPFC_Klein_gpQTL_unadjusted_gp_8491_Q9NUM4, STARNET_eQTL_Mac                                                                                                                                                                                                                                                                                                                                                                                                                                                                                                       \n",
       "141 MiGA_GTS_eQTL, MiGA_SVZ_eQTL, BM_44_MSBB_eQTL, Exc_DeJager_eQTL, DLPFC_DeJager_eQTL, PCC_DeJager_eQTL                                                                                                                                                                                                                                                                                                                                                                                                                                                                                                                                                              \n",
       "142 MiGA_GFM_eQTL, MiGA_GTS_eQTL, MiGA_SVZ_eQTL, Ast_10_Kellis_eQTL                                                                                                                                                                                                                                                                                                                                                                                                                                                                                                                                                                                                    \n",
       "143 MiGA_THA_eQTL, BM_36_MSBB_eQTL, BM_44_MSBB_eQTL, DLPFC_DeJager_eQTL, PCC_DeJager_eQTL, AC_DeJager_eQTL, STARNET_eQTL_Mac                                                                                                                                                                                                                                                                                                                                                                                                                                                                                                                                           \n",
       "144 monocyte_ROSMAP_eQTL, STARNET_eQTL_Mac                                                                                                                                                                                                                                                                                                                                                                                                                                                                                                                                                                                                                             \n",
       "145 Knight_eQTL_brain, MiGA_THA_eQTL, BM_10_MSBB_eQTL, BM_36_MSBB_eQTL, BM_44_MSBB_eQTL, MSBB_BM36_pQTL_chr10_ENSG00000108219_Q8NG11, Oli_DeJager_eQTL, DLPFC_DeJager_eQTL, PCC_DeJager_eQTL, AC_DeJager_eQTL, Ast_Kellis_eQTL, Oli_Kellis_eQTL, Exc_Kellis_eQTL, Mic_13_Kellis_eQTL, Ast_mega_eQTL, Exc_mega_eQTL, Oli_mega_eQTL, STARNET_eQTL_Mac                                                                                                                                                                                                                                                                                                                    \n",
       "146 MiGA_GFM_eQTL, MiGA_SVZ_eQTL, MiGA_THA_eQTL, BM_10_MSBB_eQTL, BM_22_MSBB_eQTL, BM_36_MSBB_eQTL, BM_44_MSBB_eQTL, Ast_DeJager_eQTL, OPC_DeJager_eQTL, Exc_DeJager_eQTL, Inh_DeJager_eQTL, AC_DeJager_eQTL, Ast_Kellis_eQTL, OPC_Kellis_eQTL, Exc_Kellis_eQTL, Ast_10_Kellis_eQTL, Ast_mega_eQTL, Exc_mega_eQTL, Inh_mega_eQTL, OPC_mega_eQTL                                                                                                                                                                                                                                                                                                                        \n",
       "147 MiGA_GTS_eQTL, MiGA_SVZ_eQTL, MiGA_THA_eQTL, BM_36_MSBB_eQTL, MSBB_BM36_pQTL_chr7_ENSG00000219545_C9J7I0, DLPFC_DeJager_eQTL, AC_DeJager_eQTL, Exc_Kellis_eQTL, Ast_10_Kellis_eQTL, Exc_mega_eQTL, STARNET_eQTL_Mac                                                                                                                                                                                                                                                                                                                                                                                                                                                \n",
       "148 MiGA_GFM_eQTL, MiGA_THA_eQTL                                                                                                                                                                                                                                                                                                                                                                                                                                                                                                                                                                                                                                       \n",
       "149 MiGA_GTS_eQTL, MiGA_THA_eQTL, BM_36_MSBB_eQTL, Mic_DeJager_eQTL, Oli_DeJager_eQTL, Exc_DeJager_eQTL, Inh_DeJager_eQTL, DLPFC_DeJager_eQTL, PCC_DeJager_eQTL, AC_DeJager_eQTL, Mic_Kellis_eQTL, Oli_Kellis_eQTL, Exc_mega_eQTL, Inh_mega_eQTL, Mic_mega_eQTL, OPC_mega_eQTL, Oli_mega_eQTL, STARNET_eQTL_Mac                                                                                                                                                                                                                                                                                                                                                        \n",
       "150 BM_22_MSBB_eQTL, BM_44_MSBB_eQTL, DLPFC_DeJager_eQTL, PCC_DeJager_eQTL, AC_DeJager_eQTL, Exc_mega_eQTL, monocyte_ROSMAP_eQTL                                                                                                                                                                                                                                                                                                                                                                                                                                                                                                                                       \n",
       "151 MiGA_GFM_eQTL, MiGA_GTS_eQTL, MiGA_SVZ_eQTL, MiGA_THA_eQTL, MSBB_BM36_pQTL_chr17_ENSG00000167716_Q562E7, Exc_DeJager_eQTL, AC_DeJager_eQTL, Ast_Kellis_eQTL, Exc_Kellis_eQTL, Exc_mega_eQTL, DLPFC_Bennett_pQTL, STARNET_eQTL_Mac                                                                                                                                                                                                                                                                                                                                                                                                                                  \n",
       "152 Knight_eQTL_brain, MiGA_GFM_eQTL, MiGA_SVZ_eQTL, MiGA_THA_eQTL, BM_10_MSBB_eQTL, BM_22_MSBB_eQTL, BM_36_MSBB_eQTL, BM_44_MSBB_eQTL, Exc_DeJager_eQTL, DLPFC_DeJager_eQTL, PCC_DeJager_eQTL, AC_DeJager_eQTL, Exc_mega_eQTL, Inh_mega_eQTL                                                                                                                                                                                                                                                                                                                                                                                                                          \n",
       "153 Knight_eQTL_brain, MiGA_GFM_eQTL, MiGA_SVZ_eQTL, MiGA_THA_eQTL, BM_10_MSBB_eQTL, BM_22_MSBB_eQTL, BM_36_MSBB_eQTL, BM_44_MSBB_eQTL, MSBB_BM36_pQTL_chr16_ENSG00000186153_Q9NZC7, Mic_DeJager_eQTL, Ast_DeJager_eQTL, Oli_DeJager_eQTL, OPC_DeJager_eQTL, Exc_DeJager_eQTL, Inh_DeJager_eQTL, DLPFC_DeJager_eQTL, PCC_DeJager_eQTL, AC_DeJager_eQTL, Mic_Kellis_eQTL, Ast_Kellis_eQTL, Oli_Kellis_eQTL, OPC_Kellis_eQTL, Exc_Kellis_eQTL, Inh_Kellis_eQTL, Ast_10_Kellis_eQTL, Ast_mega_eQTL, Exc_mega_eQTL, Inh_mega_eQTL, Mic_mega_eQTL, OPC_mega_eQTL, Oli_mega_eQTL, DLPFC_Bennett_pQTL, STARNET_eQTL_Mac                                                       \n",
       "154 MiGA_GFM_eQTL, BM_44_MSBB_eQTL, MSBB_BM36_pQTL_chr1_ENSG00000180667_Q5VVQ6, Exc_DeJager_eQTL, Inh_DeJager_eQTL, DLPFC_DeJager_eQTL, PCC_DeJager_eQTL, AC_DeJager_eQTL, Exc_Kellis_eQTL, Exc_mega_eQTL, DLPFC_Bennett_pQTL                                                                                                                                                                                                                                                                                                                                                                                                                                          \n",
       "155 MiGA_GTS_eQTL, MiGA_SVZ_eQTL, MiGA_THA_eQTL, AC_DeJager_eQTL, monocyte_ROSMAP_eQTL                                                                                                                                                                                                                                                                                                                                                                                                                                                                                                                                                                                 \n",
       "156 MiGA_SVZ_eQTL, BM_36_MSBB_eQTL, Mic_DeJager_eQTL, Inh_DeJager_eQTL, PCC_DeJager_eQTL, AC_DeJager_eQTL, DLPFC_Bennett_pQTL, monocyte_ROSMAP_eQTL, STARNET_eQTL_Mac                                                                                                                                                                                                                                                                                                                                                                                                                                                                                                  \n",
       "157 Knight_eQTL_brain, MiGA_GFM_eQTL, MiGA_SVZ_eQTL, MiGA_THA_eQTL, BM_10_MSBB_eQTL, BM_22_MSBB_eQTL, BM_36_MSBB_eQTL, BM_44_MSBB_eQTL, MSBB_BM36_pQTL_chr15_ENSG00000103642_P83111, Mic_DeJager_eQTL, Oli_DeJager_eQTL, Exc_DeJager_eQTL, DLPFC_DeJager_eQTL, PCC_DeJager_eQTL, AC_DeJager_eQTL, Mic_Kellis_eQTL, Oli_Kellis_eQTL, Inh_Kellis_eQTL, Ast_mega_eQTL, Inh_mega_eQTL, Mic_mega_eQTL, Oli_mega_eQTL, DLPFC_Bennett_pQTL, STARNET_eQTL_Mac                                                                                                                                                                                                                  "
      ]
     },
     "metadata": {},
     "output_type": "display_data"
    }
   ],
   "source": [
    "long_list_study "
   ]
  }
 ],
 "metadata": {
  "kernelspec": {
   "display_name": "R",
   "language": "R",
   "name": "ir"
  },
  "language_info": {
   "codemirror_mode": "r",
   "file_extension": ".r",
   "mimetype": "text/x-r-source",
   "name": "R",
   "pygments_lexer": "r",
   "version": "4.3.3"
  }
 },
 "nbformat": 4,
 "nbformat_minor": 5
}
